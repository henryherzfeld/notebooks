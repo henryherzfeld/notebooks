{
 "cells": [
  {
   "cell_type": "code",
   "execution_count": 5,
   "metadata": {},
   "outputs": [],
   "source": [
    "import numpy as np\n",
    "import re\n",
    "import pandas as pd\n",
    "import nltk\n",
    "from nltk.stem import PorterStemmer\n",
    "from sklearn.feature_extraction.text import TfidfVectorizer\n",
    "from sklearn.metrics.pairwise import cosine_similarity"
   ]
  },
  {
   "cell_type": "code",
   "execution_count": 6,
   "metadata": {},
   "outputs": [],
   "source": [
    "stopwords = nltk.corpus.stopwords.words('english')\n",
    "ps = PorterStemmer()\n",
    "tokenize = nltk.tokenize.word_tokenize\n",
    "tfidf = TfidfVectorizer(tokenizer=tokenize, stop_words='english')"
   ]
  },
  {
   "cell_type": "code",
   "execution_count": 7,
   "metadata": {},
   "outputs": [],
   "source": [
    "def preprocess_txt(corpus):\n",
    "    token_no_stop = []\n",
    "    final = []\n",
    "    \n",
    "    if(type(corpus) != list):\n",
    "        corpus = tokenize(corpus)\n",
    "\n",
    "    # removing stopwords\n",
    "    for word in corpus:\n",
    "        if word.lower() not in stopwords:\n",
    "            token_no_stop.append(word.lower())\n",
    "\n",
    "    # building list of indexes for punctuation or numeric-valued strings\n",
    "    for i, word in enumerate(token_no_stop):\n",
    "        if(word.isalpha()):\n",
    "            final.append(ps.stem(word))\n",
    "\n",
    "    return final"
   ]
  },
  {
   "cell_type": "code",
   "execution_count": 8,
   "metadata": {},
   "outputs": [],
   "source": [
    "doc1 = \"The quick brown fox jumped over the lazy dog!?!\"\n",
    "doc2 = \"I love animals; cats, dogs, and the like.\"\n",
    "doc3 = \"Fish are animals too.\"\n",
    "doc4 = \"Four score and seven years ago our fathers brought forth on this continent...\"\n",
    "docs = [doc1,doc2,doc3,doc4]"
   ]
  },
  {
   "cell_type": "code",
   "execution_count": 9,
   "metadata": {},
   "outputs": [
    {
     "name": "stdout",
     "output_type": "stream",
     "text": [
      "[['quick', 'brown', 'fox', 'jump', 'lazi', 'dog'], ['love', 'anim', 'cat', 'dog', 'like'], ['fish', 'anim'], ['four', 'score', 'seven', 'year', 'ago', 'father', 'brought', 'forth', 'contin']]\n"
     ]
    }
   ],
   "source": [
    "pre = [preprocess_txt(doc) for doc in docs]\n",
    "print(pre)"
   ]
  },
  {
   "cell_type": "code",
   "execution_count": 10,
   "metadata": {},
   "outputs": [
    {
     "name": "stdout",
     "output_type": "stream",
     "text": [
      "[[0.60302269 0.         0.         0.         0.         0.30151134\n",
      "  0.         0.         0.         0.30151134 0.         0.\n",
      "  0.30151134 0.         0.         0.         0.         0.30151134\n",
      "  0.30151134 0.30151134 0.         0.         0.30151134 0.\n",
      "  0.         0.        ]\n",
      " [0.         0.62490281 0.24634028 0.         0.31245141 0.\n",
      "  0.         0.24634028 0.         0.         0.31245141 0.\n",
      "  0.         0.31245141 0.         0.         0.         0.\n",
      "  0.         0.         0.31245141 0.31245141 0.         0.\n",
      "  0.         0.        ]\n",
      " [0.         0.         0.52640543 0.         0.         0.\n",
      "  0.         0.52640543 0.         0.         0.         0.\n",
      "  0.         0.         0.         0.66767854 0.         0.\n",
      "  0.         0.         0.         0.         0.         0.\n",
      "  0.         0.        ]\n",
      " [0.         0.         0.         0.33333333 0.         0.\n",
      "  0.33333333 0.         0.33333333 0.         0.         0.33333333\n",
      "  0.         0.         0.33333333 0.         0.33333333 0.\n",
      "  0.         0.         0.         0.         0.         0.33333333\n",
      "  0.33333333 0.33333333]]\n"
     ]
    }
   ],
   "source": [
    "tfs = tfidf.fit_transform(docs)\n",
    "print(tfs.A)"
   ]
  },
  {
   "cell_type": "code",
   "execution_count": 11,
   "metadata": {
    "scrolled": true
   },
   "outputs": [
    {
     "name": "stdout",
     "output_type": "stream",
     "text": [
      "[1.0, 0.0, 0.0, 0.0]\n",
      "[0.0, 1.0, 0.26, 0.0]\n",
      "[0.0, 0.26, 1.0, 0.0]\n",
      "[0.0, 0.0, 0.0, 1.0]\n"
     ]
    }
   ],
   "source": [
    "n_docs, _ = tfs.shape\n",
    "for i in range(n_docs):\n",
    "    print([round(score, 2) for score in cosine_similarity(tfs[i], tfs).tolist().pop()])"
   ]
  },
  {
   "cell_type": "code",
   "execution_count": null,
   "metadata": {},
   "outputs": [],
   "source": []
  }
 ],
 "metadata": {
  "hide_input": false,
  "kernelspec": {
   "display_name": "Python 3",
   "language": "python",
   "name": "python3"
  },
  "language_info": {
   "codemirror_mode": {
    "name": "ipython",
    "version": 3
   },
   "file_extension": ".py",
   "mimetype": "text/x-python",
   "name": "python",
   "nbconvert_exporter": "python",
   "pygments_lexer": "ipython3",
   "version": "3.7.4"
  }
 },
 "nbformat": 4,
 "nbformat_minor": 2
}
