{
 "cells": [
  {
   "cell_type": "code",
   "execution_count": 1,
   "metadata": {},
   "outputs": [],
   "source": [
    "import numpy as np\n",
    "import re\n",
    "import pandas as pd\n",
    "import nltk\n",
    "from nltk.stem import PorterStemmer\n",
    "from sklearn.feature_extraction.text import TfidfVectorizer\n",
    "from sklearn.metrics.pairwise import cosine_similarity\n",
    "import os"
   ]
  },
  {
   "cell_type": "code",
   "execution_count": 2,
   "metadata": {},
   "outputs": [],
   "source": [
    "def preview(docs):\n",
    "    for i, doc in enumerate(docs):\n",
    "        print(i+1, end=' ')\n",
    "        print(doc[0:50], end='...\\n\\n')"
   ]
  },
  {
   "cell_type": "code",
   "execution_count": 3,
   "metadata": {},
   "outputs": [],
   "source": [
    "stopwords = nltk.corpus.stopwords.words('english')\n",
    "ps = PorterStemmer()\n",
    "tokenize = nltk.tokenize.word_tokenize\n",
    "tfidf = TfidfVectorizer(tokenizer=tokenize, stop_words='english')"
   ]
  },
  {
   "cell_type": "code",
   "execution_count": 4,
   "metadata": {},
   "outputs": [
    {
     "name": "stdout",
     "output_type": "stream",
     "text": [
      "1 Channel tunnel operator Eurotunnel on Monday annou...\n",
      "\n",
      "2 Anglo-French Channel Tunnel operator Eurotunnel Mo...\n",
      "\n",
      "3 Anglo-French Channel Tunnel operator Eurotunnel on...\n",
      "\n",
      "4 Britain's Barclays Plc said on Monday it was in ta...\n",
      "\n",
      "5 Italian business tycoon Silvio Berlusconi on Wedne...\n",
      "\n"
     ]
    }
   ],
   "source": [
    "docs = []\n",
    "data_dir = './hw 1 datasets/'\n",
    "for doc_dir in os.listdir(data_dir):\n",
    "    doc_path = os.path.join(data_dir, doc_dir)\n",
    "    doc = open(doc_path, 'r').read()\n",
    "    docs.append(doc)\n",
    "    \n",
    "preview(docs)"
   ]
  },
  {
   "cell_type": "markdown",
   "metadata": {},
   "source": [
    "Tokenize the documents into words, remove stop words, and conduct stemming (5 points)"
   ]
  },
  {
   "cell_type": "code",
   "execution_count": 5,
   "metadata": {},
   "outputs": [],
   "source": [
    "def preprocess_txt(corpus):\n",
    "    token_no_stop = []\n",
    "    final = []\n",
    "    \n",
    "    if(type(corpus) != list):\n",
    "        corpus = tokenize(corpus)\n",
    "\n",
    "    # removing stopwords\n",
    "    for word in corpus:\n",
    "        if word.lower() not in stopwords:\n",
    "            token_no_stop.append(word.lower())\n",
    "\n",
    "    # building list of indexes for punctuation or numeric-valued strings\n",
    "    for i, word in enumerate(token_no_stop):\n",
    "        if(word.isalpha()):\n",
    "            final.append(ps.stem(word))\n",
    "\n",
    "    return final"
   ]
  },
  {
   "cell_type": "code",
   "execution_count": 6,
   "metadata": {},
   "outputs": [
    {
     "name": "stdout",
     "output_type": "stream",
     "text": [
      "1 ['channel', 'tunnel', 'oper', 'eurotunnel', 'monday', 'announc', 'detail', 'deal', 'give', 'bank', 'creditor', 'percent', 'compani', 'return', 'wipe', 'billion', 'pound', 'billion', 'massiv', 'debt', 'highli', 'complex', 'restructur', 'nearli', 'nearli', 'nine', 'billion', 'pound', 'debt', 'unpaid', 'interest', 'throw', 'compani', 'lifelin', 'could', 'secur', 'still', 'like', 'difficult', 'futur', 'deal', 'announc', 'simultan', 'pari', 'london', 'bring', 'compani', 'back', 'brink', 'bankruptci']...\n",
      "\n",
      "2 ['channel', 'tunnel', 'oper', 'eurotunnel', 'monday', 'announc', 'deal', 'give', 'creditor', 'bank', 'percent', 'compani', 'return', 'wipe', 'one', 'billion', 'pound', 'billion', 'debt', 'restructur', 'bring', 'end', 'month', 'wrangl', 'eurotunnel', 'bank', 'owe', 'nearli', 'nine', 'billion', 'pound', 'billion', 'deal', 'announc', 'simultan', 'pari', 'london', 'bring', 'compani', 'back', 'brink', 'insolv', 'leav', 'sharehold', 'own', 'percent', 'compani', 'restructur', 'plan', 'provid']...\n",
      "\n",
      "3 ['channel', 'tunnel', 'oper', 'eurotunnel', 'monday', 'announc', 'deal', 'give', 'creditor', 'bank', 'percent', 'compani', 'return', 'wipe', 'one', 'billion', 'pound', 'billion', 'debt', 'mountain', 'restructur', 'bring', 'end', 'month', 'wrangl', 'eurotunnel', 'bank', 'owe', 'nearli', 'nine', 'billion', 'pound', 'deal', 'announc', 'simultan', 'pari', 'london', 'bring', 'compani', 'back', 'brink', 'insolv', 'leav', 'sharehold', 'own', 'percent', 'compani', 'restructur', 'plan', 'provid']...\n",
      "\n",
      "4 ['britain', 'barclay', 'plc', 'said', 'monday', 'talk', 'group', 'morgan', 'stanley', 'global', 'custodi', 'busi', 'bank', 'sourc', 'confirm', 'unit', 'sale', 'barclay', 'morgan', 'stanley', 'coy', 'respond', 'press', 'specul', 'say', 'discuss', 'explor', 'potenti', 'futur', 'move', 'would', 'anoth', 'step', 'consolid', 'global', 'custodi', 'busi', 'becom', 'domin', 'bank', 'will', 'make', 'larg', 'invest', 'system', 'necessari', 'later', 'rake', 'fee', 'barclay']...\n",
      "\n",
      "5 ['italian', 'busi', 'tycoon', 'silvio', 'berlusconi', 'wednesday', 'lost', 'appeal', 'london', 'high', 'court', 'transfer', 'document', 'italian', 'author', 'investig', 'alleg', 'fraud', 'fals', 'account', 'britain', 'seriou', 'fraud', 'offic', 'seiz', 'bag', 'document', 'april', 'offic', 'london', 'lawyer', 'david', 'mill', 'repres', 'interest', 'former', 'italian', 'prime', 'minist', 'berlusconi', 'britain', 'judg', 'lord', 'justic', 'simon', 'brown', 'mr', 'justic', 'gage', 'reject']...\n",
      "\n"
     ]
    }
   ],
   "source": [
    "pre = [preprocess_txt(doc) for doc in docs]\n",
    "\n",
    "preview(pre)"
   ]
  },
  {
   "cell_type": "markdown",
   "metadata": {},
   "source": [
    "Calculate tf-idf for each word in each document and generate document-word matrix (each element in the matrix is the tf-idf score for a word in a document) (7 points)"
   ]
  },
  {
   "cell_type": "code",
   "execution_count": 7,
   "metadata": {},
   "outputs": [
    {
     "name": "stdout",
     "output_type": "stream",
     "text": [
      "10.252049488081513\n",
      "9.302652834953014\n",
      "9.44112949219545\n",
      "9.941146466101262\n",
      "10.337333500020893\n"
     ]
    }
   ],
   "source": [
    "tfs = tfidf.fit_transform(docs)\n",
    "\n",
    "#print(tfs.A)"
   ]
  },
  {
   "cell_type": "markdown",
   "metadata": {},
   "source": [
    "Calculate pairwise cosine similarity for the documents (5 points)"
   ]
  },
  {
   "cell_type": "code",
   "execution_count": 106,
   "metadata": {
    "scrolled": true
   },
   "outputs": [
    {
     "name": "stdout",
     "output_type": "stream",
     "text": [
      "[1.0, 0.8, 0.82, 0.44, 0.39]\n",
      "[0.8, 1.0, 0.97, 0.37, 0.32]\n",
      "[0.82, 0.97, 1.0, 0.37, 0.33]\n",
      "[0.44, 0.37, 0.37, 1.0, 0.31]\n",
      "[0.39, 0.32, 0.33, 0.31, 1.0]\n"
     ]
    }
   ],
   "source": [
    "n_docs, _ = tfs.shape\n",
    "for i in range(n_docs):\n",
    "    print([round(score, 2) for score in cosine_similarity(tfs[i], tfs).tolist().pop()])"
   ]
  },
  {
   "cell_type": "code",
   "execution_count": 47,
   "metadata": {},
   "outputs": [],
   "source": [
    "class Cats:\n",
    "    type_ = \"calico\"\n",
    "    def __init__(self, winner):\n",
    "        self.winner = winner\n",
    "        \n",
    "    def serve(self):\n",
    "        print(f\"{self.type_}\")\n",
    "        \n",
    "    @staticmethod\n",
    "    def serve2():\n",
    "        print(\"asd\")\n",
    "        \n",
    "    @classmethod\n",
    "    def change_type(cls, type):\n",
    "        cls.type_ = type\n",
    "    "
   ]
  },
  {
   "cell_type": "code",
   "execution_count": 48,
   "metadata": {},
   "outputs": [],
   "source": [
    "cats = Cats(False)\n",
    "cats2 = Cats(True)"
   ]
  },
  {
   "cell_type": "code",
   "execution_count": 51,
   "metadata": {},
   "outputs": [
    {
     "name": "stdout",
     "output_type": "stream",
     "text": [
      "asd\n"
     ]
    }
   ],
   "source": [
    "cats.change_type(\"asd\")\n",
    "cats2.serve()"
   ]
  },
  {
   "cell_type": "code",
   "execution_count": 72,
   "metadata": {},
   "outputs": [],
   "source": [
    "class asd:\n",
    "    cat = [1,2,3]\n",
    "    def __init__(self):\n",
    "        print(self.cat)"
   ]
  },
  {
   "cell_type": "code",
   "execution_count": 73,
   "metadata": {},
   "outputs": [
    {
     "name": "stdout",
     "output_type": "stream",
     "text": [
      "[1, 2, 3]\n",
      "[1, 2, 3]\n",
      "[3]\n",
      "[1, 2, 3]\n"
     ]
    }
   ],
   "source": [
    "cat = asd()\n",
    "cat2 = asd()\n",
    "cat.cat = [3]\n",
    "print(cat.cat)\n",
    "print(cat2.cat)"
   ]
  },
  {
   "cell_type": "code",
   "execution_count": 45,
   "metadata": {},
   "outputs": [],
   "source": [
    "@log_decorator\n",
    "def ten():\n",
    "    print(\"\\nten\\n\")"
   ]
  },
  {
   "cell_type": "code",
   "execution_count": null,
   "metadata": {},
   "outputs": [],
   "source": []
  },
  {
   "cell_type": "code",
   "execution_count": 44,
   "metadata": {},
   "outputs": [],
   "source": [
    "def log_decorator(func):\n",
    "    def log():\n",
    "        print(f\"{func} is a function\")\n",
    "        func()\n",
    "    return log"
   ]
  },
  {
   "cell_type": "code",
   "execution_count": 46,
   "metadata": {},
   "outputs": [
    {
     "name": "stdout",
     "output_type": "stream",
     "text": [
      "<function ten at 0x7ce3240da5f0> is a function\n",
      "\n",
      "ten\n",
      "\n"
     ]
    }
   ],
   "source": [
    "ten()"
   ]
  },
  {
   "cell_type": "code",
   "execution_count": 64,
   "metadata": {},
   "outputs": [],
   "source": [
    "# dict comprehension\n",
    "d = {1: \"one\"}\n",
    "dd = {item[1]: item[0] for item in d.items()}"
   ]
  },
  {
   "cell_type": "code",
   "execution_count": 65,
   "metadata": {},
   "outputs": [
    {
     "data": {
      "text/plain": [
       "{'one': 1}"
      ]
     },
     "execution_count": 65,
     "metadata": {},
     "output_type": "execute_result"
    }
   ],
   "source": [
    "dd"
   ]
  },
  {
   "cell_type": "code",
   "execution_count": 68,
   "metadata": {},
   "outputs": [
    {
     "name": "stdout",
     "output_type": "stream",
     "text": [
      "dict_items([(1, 'one')])\n"
     ]
    }
   ],
   "source": [
    "print(d.items())"
   ]
  },
  {
   "cell_type": "code",
   "execution_count": 103,
   "metadata": {},
   "outputs": [],
   "source": [
    "class dd:\n",
    "    x = {}\n",
    "    def __init__(self):\n",
    "        self.x = {}\n",
    "        pass"
   ]
  },
  {
   "cell_type": "code",
   "execution_count": 104,
   "metadata": {},
   "outputs": [],
   "source": [
    "abc = dd()\n",
    "qqq = dd()"
   ]
  },
  {
   "cell_type": "code",
   "execution_count": 105,
   "metadata": {},
   "outputs": [],
   "source": [
    "abc.x[\"x\"] = 1"
   ]
  },
  {
   "cell_type": "code",
   "execution_count": 106,
   "metadata": {},
   "outputs": [
    {
     "data": {
      "text/plain": [
       "{'x': 1}"
      ]
     },
     "execution_count": 106,
     "metadata": {},
     "output_type": "execute_result"
    }
   ],
   "source": [
    "abc.x"
   ]
  },
  {
   "cell_type": "code",
   "execution_count": 107,
   "metadata": {},
   "outputs": [
    {
     "data": {
      "text/plain": [
       "{}"
      ]
     },
     "execution_count": 107,
     "metadata": {},
     "output_type": "execute_result"
    }
   ],
   "source": [
    "qqq.x"
   ]
  },
  {
   "cell_type": "code",
   "execution_count": 88,
   "metadata": {},
   "outputs": [
    {
     "data": {
      "text/plain": [
       "11"
      ]
     },
     "execution_count": 88,
     "metadata": {},
     "output_type": "execute_result"
    }
   ],
   "source": [
    "abc.x"
   ]
  },
  {
   "cell_type": "code",
   "execution_count": 92,
   "metadata": {},
   "outputs": [],
   "source": []
  },
  {
   "cell_type": "code",
   "execution_count": null,
   "metadata": {},
   "outputs": [],
   "source": []
  }
 ],
 "metadata": {
  "hide_input": false,
  "kernelspec": {
   "display_name": "Python 3",
   "language": "python",
   "name": "python3"
  },
  "language_info": {
   "codemirror_mode": {
    "name": "ipython",
    "version": 3
   },
   "file_extension": ".py",
   "mimetype": "text/x-python",
   "name": "python",
   "nbconvert_exporter": "python",
   "pygments_lexer": "ipython3",
   "version": "3.8.3"
  }
 },
 "nbformat": 4,
 "nbformat_minor": 2
}
