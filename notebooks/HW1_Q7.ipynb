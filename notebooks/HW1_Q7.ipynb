{
 "cells": [
  {
   "cell_type": "code",
   "execution_count": 10,
   "metadata": {},
   "outputs": [],
   "source": [
    "import igraph as ig\n",
    "import cairocffi as pycairo\n",
    "import matplotlib.pyplot as plt\n",
    "import numpy as np"
   ]
  },
  {
   "cell_type": "code",
   "execution_count": 11,
   "metadata": {},
   "outputs": [],
   "source": [
    "vertices = [\"a\", \"b\", \"c\", \"d\", \"e\", \"f\", \"g\", \"h\", \"i\", \"j\", \"k\", \"l\", \"m\"]\n",
    "\n",
    "edges = [(0,1), (0,2), (1,2), (1,3), (2,3),\\\n",
    "         (3,4), (4,5), (4,9),\\\n",
    "         (5,6), (5,7), (6,7), (6,8), (7,8),\\\n",
    "         (9,10),(9,11),(10,11),(10,12),(11,12)\n",
    "        ]\n",
    "\n",
    "\n",
    "g = ig.Graph(vertex_attrs={\"label\": vertices}, edges=edges)"
   ]
  },
  {
   "cell_type": "code",
   "execution_count": 12,
   "metadata": {
    "scrolled": false
   },
   "outputs": [
    {
     "data": {
      "image/svg+xml": [
       "<?xml version=\"1.0\" encoding=\"UTF-8\"?>\n",
       "<svg xmlns=\"http://www.w3.org/2000/svg\" xmlns:xlink=\"http://www.w3.org/1999/xlink\" width=\"600pt\" height=\"600pt\" viewBox=\"0 0 600 600\" version=\"1.1\">\n",
       "<defs>\n",
       "<g>\n",
       "<symbol overflow=\"visible\" id=\"glyph0-0\">\n",
       "<path style=\"stroke:none;\" d=\"\"/>\n",
       "</symbol>\n",
       "<symbol overflow=\"visible\" id=\"glyph0-1\">\n",
       "<path style=\"stroke:none;\" d=\"M 7.484375 -0.6875 C 7.359375 -0.65625 7.3125 -0.65625 7.234375 -0.65625 C 6.828125 -0.65625 6.609375 -0.875 6.609375 -1.234375 L 6.609375 -5.546875 C 6.609375 -6.84375 5.65625 -7.546875 3.84375 -7.546875 C 2.78125 -7.546875 1.90625 -7.234375 1.40625 -6.6875 C 1.078125 -6.3125 0.9375 -5.890625 0.90625 -5.171875 L 2.09375 -5.171875 C 2.1875 -6.0625 2.71875 -6.46875 3.8125 -6.46875 C 4.859375 -6.46875 5.453125 -6.078125 5.453125 -5.375 L 5.453125 -5.0625 C 5.453125 -4.578125 5.15625 -4.375 4.234375 -4.25 C 2.578125 -4.046875 2.328125 -3.984375 1.875 -3.8125 C 1.015625 -3.453125 0.59375 -2.796875 0.59375 -1.84375 C 0.59375 -0.515625 1.515625 0.328125 3 0.328125 C 3.921875 0.328125 4.65625 0 5.484375 -0.75 C 5.578125 -0.015625 5.9375 0.328125 6.6875 0.328125 C 6.9375 0.328125 7.109375 0.296875 7.484375 0.203125 Z M 5.453125 -2.3125 C 5.453125 -1.921875 5.328125 -1.6875 4.984375 -1.359375 C 4.515625 -0.921875 3.9375 -0.703125 3.25 -0.703125 C 2.34375 -0.703125 1.8125 -1.140625 1.8125 -1.875 C 1.8125 -2.640625 2.328125 -3.03125 3.5625 -3.21875 C 4.796875 -3.390625 5.046875 -3.4375 5.453125 -3.625 Z M 5.453125 -2.3125 \"/>\n",
       "</symbol>\n",
       "<symbol overflow=\"visible\" id=\"glyph0-2\">\n",
       "<path style=\"stroke:none;\" d=\"M 0.75 -10.203125 L 0.75 0 L 1.8125 0 L 1.8125 -0.9375 C 2.359375 -0.078125 3.109375 0.328125 4.125 0.328125 C 6.0625 0.328125 7.328125 -1.265625 7.328125 -3.703125 C 7.328125 -6.078125 6.125 -7.546875 4.1875 -7.546875 C 3.171875 -7.546875 2.46875 -7.171875 1.921875 -6.34375 L 1.921875 -10.203125 Z M 3.96875 -6.453125 C 5.265625 -6.453125 6.109375 -5.3125 6.109375 -3.5625 C 6.109375 -1.90625 5.234375 -0.765625 3.96875 -0.765625 C 2.734375 -0.765625 1.921875 -1.890625 1.921875 -3.609375 C 1.921875 -5.328125 2.734375 -6.453125 3.96875 -6.453125 Z M 3.96875 -6.453125 \"/>\n",
       "</symbol>\n",
       "<symbol overflow=\"visible\" id=\"glyph0-3\">\n",
       "<path style=\"stroke:none;\" d=\"M 6.59375 -4.875 C 6.53125 -5.59375 6.390625 -6.046875 6.109375 -6.453125 C 5.59375 -7.140625 4.71875 -7.546875 3.703125 -7.546875 C 1.71875 -7.546875 0.4375 -5.984375 0.4375 -3.546875 C 0.4375 -1.171875 1.6875 0.328125 3.6875 0.328125 C 5.4375 0.328125 6.53125 -0.734375 6.671875 -2.515625 L 5.5 -2.515625 C 5.3125 -1.34375 4.703125 -0.75 3.703125 -0.75 C 2.421875 -0.75 1.65625 -1.8125 1.65625 -3.546875 C 1.65625 -5.375 2.40625 -6.46875 3.6875 -6.46875 C 4.65625 -6.46875 5.28125 -5.890625 5.421875 -4.875 Z M 6.59375 -4.875 \"/>\n",
       "</symbol>\n",
       "<symbol overflow=\"visible\" id=\"glyph0-4\">\n",
       "<path style=\"stroke:none;\" d=\"M 6.9375 -10.203125 L 5.765625 -10.203125 L 5.765625 -6.40625 C 5.28125 -7.15625 4.5 -7.546875 3.515625 -7.546875 C 1.609375 -7.546875 0.359375 -6.015625 0.359375 -3.6875 C 0.359375 -1.203125 1.578125 0.328125 3.5625 0.328125 C 4.5625 0.328125 5.265625 -0.0625 5.890625 -0.96875 L 5.890625 0 L 6.9375 0 Z M 3.703125 -6.453125 C 4.96875 -6.453125 5.765625 -5.328125 5.765625 -3.578125 C 5.765625 -1.890625 4.953125 -0.765625 3.71875 -0.765625 C 2.4375 -0.765625 1.578125 -1.90625 1.578125 -3.609375 C 1.578125 -5.3125 2.4375 -6.453125 3.703125 -6.453125 Z M 3.703125 -6.453125 \"/>\n",
       "</symbol>\n",
       "<symbol overflow=\"visible\" id=\"glyph0-5\">\n",
       "<path style=\"stroke:none;\" d=\"M 7.1875 -3.28125 C 7.1875 -4.390625 7.09375 -5.0625 6.890625 -5.609375 C 6.40625 -6.8125 5.296875 -7.546875 3.921875 -7.546875 C 1.875 -7.546875 0.5625 -5.984375 0.5625 -3.5625 C 0.5625 -1.15625 1.828125 0.328125 3.890625 0.328125 C 5.578125 0.328125 6.734375 -0.625 7.03125 -2.21875 L 5.859375 -2.21875 C 5.53125 -1.265625 4.875 -0.75 3.9375 -0.75 C 3.1875 -0.75 2.5625 -1.09375 2.171875 -1.703125 C 1.890625 -2.125 1.796875 -2.546875 1.78125 -3.28125 Z M 1.8125 -4.234375 C 1.90625 -5.59375 2.734375 -6.46875 3.90625 -6.46875 C 5.046875 -6.46875 5.9375 -5.515625 5.9375 -4.3125 C 5.9375 -4.28125 5.9375 -4.25 5.921875 -4.234375 Z M 1.8125 -4.234375 \"/>\n",
       "</symbol>\n",
       "<symbol overflow=\"visible\" id=\"glyph0-6\">\n",
       "<path style=\"stroke:none;\" d=\"M 3.609375 -7.34375 L 2.390625 -7.34375 L 2.390625 -8.484375 C 2.390625 -8.96875 2.671875 -9.21875 3.203125 -9.21875 C 3.296875 -9.21875 3.34375 -9.21875 3.609375 -9.21875 L 3.609375 -10.171875 C 3.34375 -10.234375 3.1875 -10.25 2.953125 -10.25 C 1.875 -10.25 1.234375 -9.625 1.234375 -8.578125 L 1.234375 -7.34375 L 0.25 -7.34375 L 0.25 -6.390625 L 1.234375 -6.390625 L 1.234375 0 L 2.390625 0 L 2.390625 -6.390625 L 3.609375 -6.390625 Z M 3.609375 -7.34375 \"/>\n",
       "</symbol>\n",
       "<symbol overflow=\"visible\" id=\"glyph0-7\">\n",
       "<path style=\"stroke:none;\" d=\"M 5.765625 -7.34375 L 5.765625 -6.265625 C 5.1875 -7.140625 4.46875 -7.546875 3.53125 -7.546875 C 1.671875 -7.546875 0.40625 -5.921875 0.40625 -3.546875 C 0.40625 -2.34375 0.734375 -1.359375 1.328125 -0.65625 C 1.875 -0.046875 2.65625 0.328125 3.4375 0.328125 C 4.359375 0.328125 5 -0.0625 5.65625 -1 L 5.65625 -0.609375 C 5.65625 0.375 5.53125 0.984375 5.234375 1.390625 C 4.921875 1.8125 4.328125 2.078125 3.609375 2.078125 C 3.078125 2.078125 2.609375 1.9375 2.28125 1.6875 C 2.015625 1.46875 1.90625 1.28125 1.828125 0.84375 L 0.640625 0.84375 C 0.765625 2.21875 1.84375 3.046875 3.5625 3.046875 C 4.65625 3.046875 5.59375 2.703125 6.078125 2.109375 C 6.640625 1.4375 6.84375 0.515625 6.84375 -1.203125 L 6.84375 -7.34375 Z M 3.65625 -6.46875 C 4.90625 -6.46875 5.65625 -5.40625 5.65625 -3.5625 C 5.65625 -1.8125 4.90625 -0.75 3.671875 -0.75 C 2.390625 -0.75 1.625 -1.828125 1.625 -3.609375 C 1.625 -5.375 2.40625 -6.46875 3.65625 -6.46875 Z M 3.65625 -6.46875 \"/>\n",
       "</symbol>\n",
       "<symbol overflow=\"visible\" id=\"glyph0-8\">\n",
       "<path style=\"stroke:none;\" d=\"M 0.984375 -10.203125 L 0.984375 0 L 2.140625 0 L 2.140625 -4.046875 C 2.140625 -5.546875 2.921875 -6.53125 4.125 -6.53125 C 4.515625 -6.53125 4.890625 -6.390625 5.171875 -6.1875 C 5.5 -5.953125 5.640625 -5.59375 5.640625 -5.078125 L 5.640625 0 L 6.796875 0 L 6.796875 -5.546875 C 6.796875 -6.78125 5.921875 -7.546875 4.5 -7.546875 C 3.453125 -7.546875 2.828125 -7.21875 2.140625 -6.328125 L 2.140625 -10.203125 Z M 0.984375 -10.203125 \"/>\n",
       "</symbol>\n",
       "<symbol overflow=\"visible\" id=\"glyph0-9\">\n",
       "<path style=\"stroke:none;\" d=\"M 2.09375 -7.34375 L 0.9375 -7.34375 L 0.9375 0 L 2.09375 0 Z M 2.09375 -10.203125 L 0.921875 -10.203125 L 0.921875 -8.734375 L 2.09375 -8.734375 Z M 2.09375 -10.203125 \"/>\n",
       "</symbol>\n",
       "<symbol overflow=\"visible\" id=\"glyph0-10\">\n",
       "<path style=\"stroke:none;\" d=\"M 0.984375 -7.34375 L 0.984375 1.0625 C 0.984375 1.796875 0.734375 2.03125 0.03125 2.03125 C -0.015625 2.03125 -0.015625 2.03125 -0.25 2.015625 L -0.25 3.015625 C -0.109375 3.03125 -0.046875 3.046875 0.140625 3.046875 C 1.453125 3.046875 2.140625 2.515625 2.140625 1.53125 L 2.140625 -7.34375 Z M 2.140625 -10.203125 L 0.984375 -10.203125 L 0.984375 -8.734375 L 2.140625 -8.734375 Z M 2.140625 -10.203125 \"/>\n",
       "</symbol>\n",
       "<symbol overflow=\"visible\" id=\"glyph0-11\">\n",
       "<path style=\"stroke:none;\" d=\"M 1.96875 -10.203125 L 0.8125 -10.203125 L 0.8125 0 L 1.96875 0 L 1.96875 -2.859375 L 3.109375 -3.96875 L 5.59375 0 L 7.03125 0 L 4.03125 -4.796875 L 6.578125 -7.34375 L 5.078125 -7.34375 L 1.96875 -4.234375 Z M 1.96875 -10.203125 \"/>\n",
       "</symbol>\n",
       "<symbol overflow=\"visible\" id=\"glyph0-12\">\n",
       "<path style=\"stroke:none;\" d=\"M 2.125 -10.203125 L 0.953125 -10.203125 L 0.953125 0 L 2.125 0 Z M 2.125 -10.203125 \"/>\n",
       "</symbol>\n",
       "<symbol overflow=\"visible\" id=\"glyph0-13\">\n",
       "<path style=\"stroke:none;\" d=\"M 0.984375 -7.34375 L 0.984375 0 L 2.15625 0 L 2.15625 -4.609375 C 2.15625 -5.671875 2.921875 -6.53125 3.875 -6.53125 C 4.75 -6.53125 5.234375 -5.984375 5.234375 -5.046875 L 5.234375 0 L 6.40625 0 L 6.40625 -4.609375 C 6.40625 -5.671875 7.1875 -6.53125 8.140625 -6.53125 C 8.984375 -6.53125 9.484375 -5.984375 9.484375 -5.046875 L 9.484375 0 L 10.671875 0 L 10.671875 -5.5 C 10.671875 -6.8125 9.90625 -7.546875 8.546875 -7.546875 C 7.5625 -7.546875 6.96875 -7.25 6.28125 -6.421875 C 5.859375 -7.203125 5.265625 -7.546875 4.3125 -7.546875 C 3.328125 -7.546875 2.6875 -7.1875 2.0625 -6.296875 L 2.0625 -7.34375 Z M 0.984375 -7.34375 \"/>\n",
       "</symbol>\n",
       "</g>\n",
       "</defs>\n",
       "<g id=\"surface2\">\n",
       "<rect x=\"0\" y=\"0\" width=\"600\" height=\"600\" style=\"fill:rgb(100%,100%,100%);fill-opacity:1;stroke:none;\"/>\n",
       "<path style=\"fill:none;stroke-width:1;stroke-linecap:butt;stroke-linejoin:miter;stroke:rgb(26.666667%,26.666667%,26.666667%);stroke-opacity:1;stroke-miterlimit:10;\" d=\"M 580 580 L 553.421875 472.464844 \"/>\n",
       "<path style=\"fill:none;stroke-width:1;stroke-linecap:butt;stroke-linejoin:miter;stroke:rgb(26.666667%,26.666667%,26.666667%);stroke-opacity:1;stroke-miterlimit:10;\" d=\"M 580 580 L 475.136719 529.257812 \"/>\n",
       "<path style=\"fill:none;stroke-width:1;stroke-linecap:butt;stroke-linejoin:miter;stroke:rgb(26.666667%,26.666667%,26.666667%);stroke-opacity:1;stroke-miterlimit:10;\" d=\"M 553.421875 472.464844 L 475.136719 529.257812 \"/>\n",
       "<path style=\"fill:none;stroke-width:1;stroke-linecap:butt;stroke-linejoin:miter;stroke:rgb(26.666667%,26.666667%,26.666667%);stroke-opacity:1;stroke-miterlimit:10;\" d=\"M 553.421875 472.464844 L 445.957031 418.585938 \"/>\n",
       "<path style=\"fill:none;stroke-width:1;stroke-linecap:butt;stroke-linejoin:miter;stroke:rgb(26.666667%,26.666667%,26.666667%);stroke-opacity:1;stroke-miterlimit:10;\" d=\"M 475.136719 529.257812 L 445.957031 418.585938 \"/>\n",
       "<path style=\"fill:none;stroke-width:1;stroke-linecap:butt;stroke-linejoin:miter;stroke:rgb(26.666667%,26.666667%,26.666667%);stroke-opacity:1;stroke-miterlimit:10;\" d=\"M 445.957031 418.585938 L 365.910156 322.195312 \"/>\n",
       "<path style=\"fill:none;stroke-width:1;stroke-linecap:butt;stroke-linejoin:miter;stroke:rgb(26.666667%,26.666667%,26.666667%);stroke-opacity:1;stroke-miterlimit:10;\" d=\"M 365.910156 322.195312 L 236.578125 338.796875 \"/>\n",
       "<path style=\"fill:none;stroke-width:1;stroke-linecap:butt;stroke-linejoin:miter;stroke:rgb(26.666667%,26.666667%,26.666667%);stroke-opacity:1;stroke-miterlimit:10;\" d=\"M 365.910156 322.195312 L 415.199219 209.207031 \"/>\n",
       "<path style=\"fill:none;stroke-width:1;stroke-linecap:butt;stroke-linejoin:miter;stroke:rgb(26.666667%,26.666667%,26.666667%);stroke-opacity:1;stroke-miterlimit:10;\" d=\"M 236.578125 338.796875 L 132.925781 398.84375 \"/>\n",
       "<path style=\"fill:none;stroke-width:1;stroke-linecap:butt;stroke-linejoin:miter;stroke:rgb(26.666667%,26.666667%,26.666667%);stroke-opacity:1;stroke-miterlimit:10;\" d=\"M 236.578125 338.796875 L 119.445312 307.082031 \"/>\n",
       "<path style=\"fill:none;stroke-width:1;stroke-linecap:butt;stroke-linejoin:miter;stroke:rgb(26.666667%,26.666667%,26.666667%);stroke-opacity:1;stroke-miterlimit:10;\" d=\"M 132.925781 398.84375 L 119.445312 307.082031 \"/>\n",
       "<path style=\"fill:none;stroke-width:1;stroke-linecap:butt;stroke-linejoin:miter;stroke:rgb(26.666667%,26.666667%,26.666667%);stroke-opacity:1;stroke-miterlimit:10;\" d=\"M 132.925781 398.84375 L 20 366.589844 \"/>\n",
       "<path style=\"fill:none;stroke-width:1;stroke-linecap:butt;stroke-linejoin:miter;stroke:rgb(26.666667%,26.666667%,26.666667%);stroke-opacity:1;stroke-miterlimit:10;\" d=\"M 119.445312 307.082031 L 20 366.589844 \"/>\n",
       "<path style=\"fill:none;stroke-width:1;stroke-linecap:butt;stroke-linejoin:miter;stroke:rgb(26.666667%,26.666667%,26.666667%);stroke-opacity:1;stroke-miterlimit:10;\" d=\"M 415.199219 209.207031 L 411.386719 95.28125 \"/>\n",
       "<path style=\"fill:none;stroke-width:1;stroke-linecap:butt;stroke-linejoin:miter;stroke:rgb(26.666667%,26.666667%,26.666667%);stroke-opacity:1;stroke-miterlimit:10;\" d=\"M 415.199219 209.207031 L 503.148438 130.253906 \"/>\n",
       "<path style=\"fill:none;stroke-width:1;stroke-linecap:butt;stroke-linejoin:miter;stroke:rgb(26.666667%,26.666667%,26.666667%);stroke-opacity:1;stroke-miterlimit:10;\" d=\"M 411.386719 95.28125 L 503.148438 130.253906 \"/>\n",
       "<path style=\"fill:none;stroke-width:1;stroke-linecap:butt;stroke-linejoin:miter;stroke:rgb(26.666667%,26.666667%,26.666667%);stroke-opacity:1;stroke-miterlimit:10;\" d=\"M 411.386719 95.28125 L 497.734375 20 \"/>\n",
       "<path style=\"fill:none;stroke-width:1;stroke-linecap:butt;stroke-linejoin:miter;stroke:rgb(26.666667%,26.666667%,26.666667%);stroke-opacity:1;stroke-miterlimit:10;\" d=\"M 503.148438 130.253906 L 497.734375 20 \"/>\n",
       "<path style=\"fill-rule:nonzero;fill:rgb(100%,0%,0%);fill-opacity:1;stroke-width:1;stroke-linecap:butt;stroke-linejoin:miter;stroke:rgb(0%,0%,0%);stroke-opacity:1;stroke-miterlimit:10;\" d=\"M 590 580 C 590 585.523438 585.523438 590 580 590 C 574.476562 590 570 585.523438 570 580 C 570 574.476562 574.476562 570 580 570 C 585.523438 570 590 574.476562 590 580 \"/>\n",
       "<path style=\"fill-rule:nonzero;fill:rgb(100%,0%,0%);fill-opacity:1;stroke-width:1;stroke-linecap:butt;stroke-linejoin:miter;stroke:rgb(0%,0%,0%);stroke-opacity:1;stroke-miterlimit:10;\" d=\"M 563.421875 472.464844 C 563.421875 477.988281 558.945312 482.464844 553.421875 482.464844 C 547.898438 482.464844 543.421875 477.988281 543.421875 472.464844 C 543.421875 466.941406 547.898438 462.464844 553.421875 462.464844 C 558.945312 462.464844 563.421875 466.941406 563.421875 472.464844 \"/>\n",
       "<path style=\"fill-rule:nonzero;fill:rgb(100%,0%,0%);fill-opacity:1;stroke-width:1;stroke-linecap:butt;stroke-linejoin:miter;stroke:rgb(0%,0%,0%);stroke-opacity:1;stroke-miterlimit:10;\" d=\"M 485.136719 529.257812 C 485.136719 534.78125 480.660156 539.257812 475.136719 539.257812 C 469.617188 539.257812 465.136719 534.78125 465.136719 529.257812 C 465.136719 523.734375 469.617188 519.257812 475.136719 519.257812 C 480.660156 519.257812 485.136719 523.734375 485.136719 529.257812 \"/>\n",
       "<path style=\"fill-rule:nonzero;fill:rgb(100%,0%,0%);fill-opacity:1;stroke-width:1;stroke-linecap:butt;stroke-linejoin:miter;stroke:rgb(0%,0%,0%);stroke-opacity:1;stroke-miterlimit:10;\" d=\"M 455.957031 418.585938 C 455.957031 424.109375 451.480469 428.585938 445.957031 428.585938 C 440.433594 428.585938 435.957031 424.109375 435.957031 418.585938 C 435.957031 413.0625 440.433594 408.585938 445.957031 408.585938 C 451.480469 408.585938 455.957031 413.0625 455.957031 418.585938 \"/>\n",
       "<path style=\"fill-rule:nonzero;fill:rgb(100%,0%,0%);fill-opacity:1;stroke-width:1;stroke-linecap:butt;stroke-linejoin:miter;stroke:rgb(0%,0%,0%);stroke-opacity:1;stroke-miterlimit:10;\" d=\"M 375.910156 322.195312 C 375.910156 327.71875 371.433594 332.195312 365.910156 332.195312 C 360.386719 332.195312 355.910156 327.71875 355.910156 322.195312 C 355.910156 316.675781 360.386719 312.195312 365.910156 312.195312 C 371.433594 312.195312 375.910156 316.675781 375.910156 322.195312 \"/>\n",
       "<path style=\"fill-rule:nonzero;fill:rgb(100%,0%,0%);fill-opacity:1;stroke-width:1;stroke-linecap:butt;stroke-linejoin:miter;stroke:rgb(0%,0%,0%);stroke-opacity:1;stroke-miterlimit:10;\" d=\"M 246.578125 338.796875 C 246.578125 344.316406 242.101562 348.796875 236.578125 348.796875 C 231.054688 348.796875 226.578125 344.316406 226.578125 338.796875 C 226.578125 333.273438 231.054688 328.796875 236.578125 328.796875 C 242.101562 328.796875 246.578125 333.273438 246.578125 338.796875 \"/>\n",
       "<path style=\"fill-rule:nonzero;fill:rgb(100%,0%,0%);fill-opacity:1;stroke-width:1;stroke-linecap:butt;stroke-linejoin:miter;stroke:rgb(0%,0%,0%);stroke-opacity:1;stroke-miterlimit:10;\" d=\"M 142.925781 398.84375 C 142.925781 404.367188 138.449219 408.84375 132.925781 408.84375 C 127.402344 408.84375 122.925781 404.367188 122.925781 398.84375 C 122.925781 393.320312 127.402344 388.84375 132.925781 388.84375 C 138.449219 388.84375 142.925781 393.320312 142.925781 398.84375 \"/>\n",
       "<path style=\"fill-rule:nonzero;fill:rgb(100%,0%,0%);fill-opacity:1;stroke-width:1;stroke-linecap:butt;stroke-linejoin:miter;stroke:rgb(0%,0%,0%);stroke-opacity:1;stroke-miterlimit:10;\" d=\"M 129.445312 307.082031 C 129.445312 312.605469 124.96875 317.082031 119.445312 317.082031 C 113.921875 317.082031 109.445312 312.605469 109.445312 307.082031 C 109.445312 301.558594 113.921875 297.082031 119.445312 297.082031 C 124.96875 297.082031 129.445312 301.558594 129.445312 307.082031 \"/>\n",
       "<path style=\"fill-rule:nonzero;fill:rgb(100%,0%,0%);fill-opacity:1;stroke-width:1;stroke-linecap:butt;stroke-linejoin:miter;stroke:rgb(0%,0%,0%);stroke-opacity:1;stroke-miterlimit:10;\" d=\"M 30 366.589844 C 30 372.113281 25.523438 376.589844 20 376.589844 C 14.476562 376.589844 10 372.113281 10 366.589844 C 10 361.066406 14.476562 356.589844 20 356.589844 C 25.523438 356.589844 30 361.066406 30 366.589844 \"/>\n",
       "<path style=\"fill-rule:nonzero;fill:rgb(100%,0%,0%);fill-opacity:1;stroke-width:1;stroke-linecap:butt;stroke-linejoin:miter;stroke:rgb(0%,0%,0%);stroke-opacity:1;stroke-miterlimit:10;\" d=\"M 425.199219 209.207031 C 425.199219 214.730469 420.722656 219.207031 415.199219 219.207031 C 409.675781 219.207031 405.199219 214.730469 405.199219 209.207031 C 405.199219 203.6875 409.675781 199.207031 415.199219 199.207031 C 420.722656 199.207031 425.199219 203.6875 425.199219 209.207031 \"/>\n",
       "<path style=\"fill-rule:nonzero;fill:rgb(100%,0%,0%);fill-opacity:1;stroke-width:1;stroke-linecap:butt;stroke-linejoin:miter;stroke:rgb(0%,0%,0%);stroke-opacity:1;stroke-miterlimit:10;\" d=\"M 421.386719 95.28125 C 421.386719 100.804688 416.910156 105.28125 411.386719 105.28125 C 405.863281 105.28125 401.386719 100.804688 401.386719 95.28125 C 401.386719 89.757812 405.863281 85.28125 411.386719 85.28125 C 416.910156 85.28125 421.386719 89.757812 421.386719 95.28125 \"/>\n",
       "<path style=\"fill-rule:nonzero;fill:rgb(100%,0%,0%);fill-opacity:1;stroke-width:1;stroke-linecap:butt;stroke-linejoin:miter;stroke:rgb(0%,0%,0%);stroke-opacity:1;stroke-miterlimit:10;\" d=\"M 513.148438 130.253906 C 513.148438 135.773438 508.671875 140.253906 503.148438 140.253906 C 497.628906 140.253906 493.148438 135.773438 493.148438 130.253906 C 493.148438 124.730469 497.628906 120.253906 503.148438 120.253906 C 508.671875 120.253906 513.148438 124.730469 513.148438 130.253906 \"/>\n",
       "<path style=\"fill-rule:nonzero;fill:rgb(100%,0%,0%);fill-opacity:1;stroke-width:1;stroke-linecap:butt;stroke-linejoin:miter;stroke:rgb(0%,0%,0%);stroke-opacity:1;stroke-miterlimit:10;\" d=\"M 507.734375 20 C 507.734375 25.523438 503.257812 30 497.734375 30 C 492.210938 30 487.734375 25.523438 487.734375 20 C 487.734375 14.476562 492.210938 10 497.734375 10 C 503.257812 10 507.734375 14.476562 507.734375 20 \"/>\n",
       "<g style=\"fill:rgb(0%,0%,0%);fill-opacity:1;\">\n",
       "  <use xlink:href=\"#glyph0-1\" x=\"575.960938\" y=\"585.769531\"/>\n",
       "</g>\n",
       "<g style=\"fill:rgb(0%,0%,0%);fill-opacity:1;\">\n",
       "  <use xlink:href=\"#glyph0-2\" x=\"549.382812\" y=\"479.558594\"/>\n",
       "</g>\n",
       "<g style=\"fill:rgb(0%,0%,0%);fill-opacity:1;\">\n",
       "  <use xlink:href=\"#glyph0-3\" x=\"471.582031\" y=\"535.027344\"/>\n",
       "</g>\n",
       "<g style=\"fill:rgb(0%,0%,0%);fill-opacity:1;\">\n",
       "  <use xlink:href=\"#glyph0-4\" x=\"442.308594\" y=\"425.683594\"/>\n",
       "</g>\n",
       "<g style=\"fill:rgb(0%,0%,0%);fill-opacity:1;\">\n",
       "  <use xlink:href=\"#glyph0-5\" x=\"362.035156\" y=\"327.964844\"/>\n",
       "</g>\n",
       "<g style=\"fill:rgb(0%,0%,0%);fill-opacity:1;\">\n",
       "  <use xlink:href=\"#glyph0-6\" x=\"234.648438\" y=\"345.914062\"/>\n",
       "</g>\n",
       "<g style=\"fill:rgb(0%,0%,0%);fill-opacity:1;\">\n",
       "  <use xlink:href=\"#glyph0-7\" x=\"129.300781\" y=\"404.613281\"/>\n",
       "</g>\n",
       "<g style=\"fill:rgb(0%,0%,0%);fill-opacity:1;\">\n",
       "  <use xlink:href=\"#glyph0-8\" x=\"115.554688\" y=\"314.175781\"/>\n",
       "</g>\n",
       "<g style=\"fill:rgb(0%,0%,0%);fill-opacity:1;\">\n",
       "  <use xlink:href=\"#glyph0-9\" x=\"18.492188\" y=\"373.6875\"/>\n",
       "</g>\n",
       "<g style=\"fill:rgb(0%,0%,0%);fill-opacity:1;\">\n",
       "  <use xlink:href=\"#glyph0-10\" x=\"414.253906\" y=\"216.304688\"/>\n",
       "</g>\n",
       "<g style=\"fill:rgb(0%,0%,0%);fill-opacity:1;\">\n",
       "  <use xlink:href=\"#glyph0-11\" x=\"407.464844\" y=\"102.378906\"/>\n",
       "</g>\n",
       "<g style=\"fill:rgb(0%,0%,0%);fill-opacity:1;\">\n",
       "  <use xlink:href=\"#glyph0-12\" x=\"501.609375\" y=\"137.347656\"/>\n",
       "</g>\n",
       "<g style=\"fill:rgb(0%,0%,0%);fill-opacity:1;\">\n",
       "  <use xlink:href=\"#glyph0-13\" x=\"491.90625\" y=\"25.769531\"/>\n",
       "</g>\n",
       "</g>\n",
       "</svg>\n"
      ],
      "text/plain": [
       "<igraph.drawing.Plot at 0x2aab000af320>"
      ]
     },
     "execution_count": 12,
     "metadata": {
      "image/svg+xml": {
       "isolated": true
      }
     },
     "output_type": "execute_result"
    }
   ],
   "source": [
    "ig.plot(g)"
   ]
  }
 ],
 "metadata": {
  "hide_input": false,
  "kernelspec": {
   "display_name": "Python 3",
   "language": "python",
   "name": "python3"
  },
  "language_info": {
   "codemirror_mode": {
    "name": "ipython",
    "version": 3
   },
   "file_extension": ".py",
   "mimetype": "text/x-python",
   "name": "python",
   "nbconvert_exporter": "python",
   "pygments_lexer": "ipython3",
   "version": "3.7.4"
  }
 },
 "nbformat": 4,
 "nbformat_minor": 4
}
