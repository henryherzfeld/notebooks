{
 "cells": [
  {
   "cell_type": "code",
   "execution_count": 13,
   "metadata": {},
   "outputs": [],
   "source": [
    "library(\"rpart\")\n",
    "library(\"ROCR\")"
   ]
  },
  {
   "cell_type": "code",
   "execution_count": 12,
   "metadata": {},
   "outputs": [
    {
     "name": "stderr",
     "output_type": "stream",
     "text": [
      "The following objects are masked from housing (pos = 4):\n",
      "\n",
      "    Age, B, Chas, Crim, Dis, Indus, Lstat, Medv, Nox, Ptratio, Rad, Rm,\n",
      "    Tax, Zn\n",
      "\n",
      "Loading required package: gplots\n",
      "\n",
      "Attaching package: ‘gplots’\n",
      "\n",
      "The following object is masked from ‘package:stats’:\n",
      "\n",
      "    lowess\n",
      "\n"
     ]
    }
   ],
   "source": [
    "housing <- read.table(\"http://www.cse.fau.edu/~xqzhu/courses/housing.header.binary.txt\",header=T,sep=\",\")\n",
    "attach(housing)"
   ]
  },
  {
   "cell_type": "code",
   "execution_count": 5,
   "metadata": {},
   "outputs": [
    {
     "name": "stdout",
     "output_type": "stream",
     "text": [
      "Call:\n",
      "rpart(formula = Medv ~ Rm + Lstat, data = housing[train, ], method = \"class\")\n",
      "  n= 379 \n",
      "\n",
      "          CP nsplit rel error    xerror       xstd\n",
      "1 0.56338028      0 1.0000000 1.0000000 0.06636061\n",
      "2 0.15492958      1 0.4366197 0.4929577 0.05320106\n",
      "3 0.01173709      2 0.2816901 0.3661972 0.04717019\n",
      "4 0.01000000      5 0.2464789 0.3521127 0.04639541\n",
      "\n",
      "Variable importance\n",
      "Lstat    Rm \n",
      "   53    47 \n",
      "\n",
      "Node number 1: 379 observations,    complexity param=0.5633803\n",
      "  predicted class=0  expected loss=0.3746702  P(node) =1\n",
      "    class counts:   237   142\n",
      "   probabilities: 0.625 0.375 \n",
      "  left son=2 (209 obs) right son=3 (170 obs)\n",
      "  Primary splits:\n",
      "      Lstat < 10.14  to the right, improve=80.18275, (0 missing)\n",
      "      Rm    < 6.5315 to the left,  improve=69.99490, (0 missing)\n",
      "  Surrogate splits:\n",
      "      Rm < 6.413  to the left,  agree=0.765, adj=0.476, (0 split)\n",
      "\n",
      "Node number 2: 209 observations\n",
      "  predicted class=0  expected loss=0.08133971  P(node) =0.5514512\n",
      "    class counts:   192    17\n",
      "   probabilities: 0.919 0.081 \n",
      "\n",
      "Node number 3: 170 observations,    complexity param=0.1549296\n",
      "  predicted class=1  expected loss=0.2647059  P(node) =0.4485488\n",
      "    class counts:    45   125\n",
      "   probabilities: 0.265 0.735 \n",
      "  left son=6 (36 obs) right son=7 (134 obs)\n",
      "  Primary splits:\n",
      "      Rm    < 6.1445 to the left,  improve=26.71959, (0 missing)\n",
      "      Lstat < 7.58   to the right, improve=12.92470, (0 missing)\n",
      "  Surrogate splits:\n",
      "      Lstat < 8.245  to the right, agree=0.824, adj=0.167, (0 split)\n",
      "\n",
      "Node number 6: 36 observations\n",
      "  predicted class=0  expected loss=0.1944444  P(node) =0.09498681\n",
      "    class counts:    29     7\n",
      "   probabilities: 0.806 0.194 \n",
      "\n",
      "Node number 7: 134 observations,    complexity param=0.01173709\n",
      "  predicted class=1  expected loss=0.119403  P(node) =0.353562\n",
      "    class counts:    16   118\n",
      "   probabilities: 0.119 0.881 \n",
      "  left son=14 (37 obs) right son=15 (97 obs)\n",
      "  Primary splits:\n",
      "      Rm    < 6.4925 to the left,  improve=5.499807, (0 missing)\n",
      "      Lstat < 5.66   to the right, improve=1.227253, (0 missing)\n",
      "\n",
      "Node number 14: 37 observations,    complexity param=0.01173709\n",
      "  predicted class=1  expected loss=0.3513514  P(node) =0.09762533\n",
      "    class counts:    13    24\n",
      "   probabilities: 0.351 0.649 \n",
      "  left son=28 (26 obs) right son=29 (11 obs)\n",
      "  Primary splits:\n",
      "      Rm    < 6.258  to the right, improve=2.1236060, (0 missing)\n",
      "      Lstat < 7.475  to the right, improve=0.9952996, (0 missing)\n",
      "  Surrogate splits:\n",
      "      Lstat < 9.425  to the left,  agree=0.73, adj=0.091, (0 split)\n",
      "\n",
      "Node number 15: 97 observations\n",
      "  predicted class=1  expected loss=0.03092784  P(node) =0.2559367\n",
      "    class counts:     3    94\n",
      "   probabilities: 0.031 0.969 \n",
      "\n",
      "Node number 28: 26 observations,    complexity param=0.01173709\n",
      "  predicted class=1  expected loss=0.4615385  P(node) =0.06860158\n",
      "    class counts:    12    14\n",
      "   probabilities: 0.462 0.538 \n",
      "  left son=56 (9 obs) right son=57 (17 obs)\n",
      "  Primary splits:\n",
      "      Rm    < 6.36   to the left,  improve=2.753142, (0 missing)\n",
      "      Lstat < 7.27   to the right, improve=1.165501, (0 missing)\n",
      "\n",
      "Node number 29: 11 observations\n",
      "  predicted class=1  expected loss=0.09090909  P(node) =0.02902375\n",
      "    class counts:     1    10\n",
      "   probabilities: 0.091 0.909 \n",
      "\n",
      "Node number 56: 9 observations\n",
      "  predicted class=0  expected loss=0.2222222  P(node) =0.0237467\n",
      "    class counts:     7     2\n",
      "   probabilities: 0.778 0.222 \n",
      "\n",
      "Node number 57: 17 observations\n",
      "  predicted class=1  expected loss=0.2941176  P(node) =0.04485488\n",
      "    class counts:     5    12\n",
      "   probabilities: 0.294 0.706 \n",
      "\n"
     ]
    },
    {
     "data": {
      "text/plain": [
       "   housing.pred\n",
       "     0  1\n",
       "  0 70  5\n",
       "  1 17 35"
      ]
     },
     "metadata": {},
     "output_type": "display_data"
    }
   ],
   "source": [
    "set.seed(1)\n",
    "train <- sample(1:nrow(housing), .75*nrow(housing))\n",
    "housing.tree <- rpart(Medv~Rm+Lstat,method=\"class\",data=housing[train,])\n",
    "summary(housing.tree)\n",
    "housing.pred <- predict(housing.tree,housing[-train,],type=\"class\")\n",
    "table(housing[-train,]$Medv, housing.pred)\n"
   ]
  },
  {
   "cell_type": "code",
   "execution_count": 10,
   "metadata": {},
   "outputs": [
    {
     "name": "stderr",
     "output_type": "stream",
     "text": [
      "Installing package into ‘/home/herzfeld2/R/x86_64-pc-linux-gnu-library/3.3’\n",
      "(as ‘lib’ is unspecified)\n",
      "also installing the dependencies ‘bitops’, ‘gtools’, ‘gdata’, ‘caTools’, ‘gplots’\n",
      "\n"
     ]
    }
   ],
   "source": [
    "housing.prob <- "
   ]
  },
  {
   "cell_type": "code",
   "execution_count": 15,
   "metadata": {},
   "outputs": [
    {
     "ename": "ERROR",
     "evalue": "Error in performance(housing.pred, \"auc\"): Wrong argument types: First argument must be of type 'prediction'; second and optional third argument must be available performance measures!\n",
     "output_type": "error",
     "traceback": [
      "Error in performance(housing.pred, \"auc\"): Wrong argument types: First argument must be of type 'prediction'; second and optional third argument must be available performance measures!\nTraceback:\n",
      "1. performance(housing.pred, \"auc\")",
      "2. stop(paste(\"Wrong argument types: First argument must be of type\", \n .     \"'prediction'; second and optional third argument must\", \n .     \"be available performance measures!\"))"
     ]
    }
   ],
   "source": [
    "auc <- performance(pred, \"auc\")\n",
    "auc\n",
    "auc@y.values[[1]]"
   ]
  }
 ],
 "metadata": {
  "kernelspec": {
   "display_name": "R",
   "language": "R",
   "name": "ir"
  },
  "language_info": {
   "codemirror_mode": "r",
   "file_extension": ".r",
   "mimetype": "text/x-r-source",
   "name": "R",
   "pygments_lexer": "r",
   "version": "3.3.3"
  }
 },
 "nbformat": 4,
 "nbformat_minor": 2
}
