{
 "cells": [
  {
   "cell_type": "code",
   "execution_count": 1,
   "metadata": {
    "colab": {},
    "colab_type": "code",
    "id": "B4aqG2dvIXAP"
   },
   "outputs": [],
   "source": [
    "import os\n",
    "import cv2\n",
    "import numpy as np\n",
    "os.chdir('/')"
   ]
  },
  {
   "cell_type": "code",
   "execution_count": 15,
   "metadata": {},
   "outputs": [],
   "source": [
    "# Default, reverse and multiframe methods of frame differencing\n",
    "\n",
    "def get_frame_diffs(frames, method=\"default\", thresholding=False):\n",
    "    acc = []\n",
    "    i = 0\n",
    "    n = len(frames)\n",
    "    \n",
    "    if method == \"reverse\":\n",
    "        while i < n-1:\n",
    "            acc.append(frames[i+1] - frames[i])\n",
    "            i += 1\n",
    "\n",
    "    elif method == \"multiframe\":\n",
    "        while i < n-2:\n",
    "            acc.append(cv2.absdiff(frames[i], frames[i+2]))\n",
    "            i += 1\n",
    "        \n",
    "    else:\n",
    "        while i < n-1:\n",
    "            acc.append(frames[i] - frames[i+1])\n",
    "            i += 1\n",
    "            \n",
    "    if thresholding:\n",
    "        acc2 = []\n",
    "        for frame in acc:\n",
    "            _, thresh_im = cv2.threshold(frame, 40, 200, cv2.THRESH_TOZERO)\n",
    "            acc2.append(thresh_im)\n",
    "        return acc2\n",
    "        \n",
    "    return acc"
   ]
  },
  {
   "cell_type": "code",
   "execution_count": 16,
   "metadata": {},
   "outputs": [],
   "source": [
    "dir = '/home/herzfeld2/strike639/'\n",
    "frames = os.listdir(dir)\n",
    "ims = [cv2.imread(dir + frame) for frame in frames]"
   ]
  },
  {
   "cell_type": "code",
   "execution_count": 5,
   "metadata": {},
   "outputs": [],
   "source": [
    "# create background subtractor\n",
    "fgbg = cv2.createBackgroundSubtractorMOG2(detectShadows = False)"
   ]
  },
  {
   "cell_type": "code",
   "execution_count": 5,
   "metadata": {
    "colab": {
     "base_uri": "https://localhost:8080/",
     "height": 1000
    },
    "colab_type": "code",
    "id": "qdhZGW0wRMhS",
    "outputId": "89ef4c5d-23f9-43d6-8d76-ade98d3ee69b"
   },
   "outputs": [],
   "source": [
    "## testing the background subtraction algorithms in OpenCV\n",
    "\n",
    "first = ims[0]\n",
    "for im in ims[1:]:\n",
    "\n",
    "    im_fgbg = fgbg.apply(im)\n",
    "    \n",
    "    # conv to grayscale\n",
    "    im = cv2.cvtColor(im, cv2.COLOR_BGR2GRAY)\n",
    "\n",
    "    concat = np.hstack((im_fgbg, im))\n",
    "    cv2.imshow(\"asd\", concat)\n",
    "    cv2.waitKey(0)\n",
    "    cv2.destroyAllWindows()\n",
    "    first = im"
   ]
  },
  {
   "cell_type": "code",
   "execution_count": 17,
   "metadata": {},
   "outputs": [
    {
     "name": "stdout",
     "output_type": "stream",
     "text": [
      "14\n"
     ]
    }
   ],
   "source": [
    "# Testing the frame differencing algorithms (default)\n",
    "\n",
    "diffs = get_frame_diffs(ims, \"default\", False)\n",
    "diffs_thresh = get_frame_diffs(ims, \"default\", True)\n",
    "\n",
    "for diff, diff_thresh in zip(diffs, diffs_thresh):\n",
    "    concat = np.hstack((diff, diff_thresh))\n",
    "    cv2.imshow(\"asd\", concat)\n",
    "    cv2.waitKey(0)\n",
    "    cv2.destroyAllWindows()\n",
    "    \n",
    "print(len(diffs))"
   ]
  },
  {
   "cell_type": "code",
   "execution_count": 13,
   "metadata": {},
   "outputs": [
    {
     "name": "stdout",
     "output_type": "stream",
     "text": [
      "14\n"
     ]
    }
   ],
   "source": [
    "# Testing the frame differencing algorithms (reverse)\n",
    "\n",
    "diffs = get_frame_diffs(ims, \"reverse\", False)\n",
    "\n",
    "for diff, im in zip(diffs, ims[0:len(diffs)]):\n",
    "    concat = np.hstack((diff, im))\n",
    "    cv2.imshow(\"asd\", concat)\n",
    "    cv2.waitKey(0)\n",
    "    cv2.destroyAllWindows()\n",
    "    \n",
    "print(len(diffs))"
   ]
  },
  {
   "cell_type": "code",
   "execution_count": null,
   "metadata": {},
   "outputs": [],
   "source": [
    "# Testing the frame differencing algorithms (multiframe)\n",
    "\n",
    "diffs = get_frame_diffs(ims, \"multiframe\", False)\n",
    "\n",
    "for diff, im in zip(diffs, ims[0:len(diffs)]):\n",
    "    concat = np.hstack((diff, im))\n",
    "    cv2.imshow(\"asd\", concat)\n",
    "    cv2.waitKey(0)\n",
    "    cv2.destroyAllWindows()\n",
    "    \n",
    "print(len(diffs))"
   ]
  },
  {
   "cell_type": "code",
   "execution_count": 4,
   "metadata": {},
   "outputs": [],
   "source": [
    "# Testing out saliency algorithms\n",
    "im = ims[5]\n",
    "\n",
    "saliency = cv2.saliency.StaticSaliencySpectralResidual_create()\n",
    "(success, saliencyMap) = saliency.computeSaliency(im)\n",
    "saliencyMap = (saliencyMap * 255).astype(\"uint8\")"
   ]
  },
  {
   "cell_type": "code",
   "execution_count": null,
   "metadata": {},
   "outputs": [],
   "source": []
  },
  {
   "cell_type": "code",
   "execution_count": 5,
   "metadata": {},
   "outputs": [],
   "source": [
    "im = cv2.cvtColor(im, cv2.COLOR_BGR2GRAY)\n",
    "\n",
    "concat = np.hstack((saliencyMap, im))\n",
    "cv2.imshow(\"Asd\", concat)\n",
    "cv2.waitKey(0)\n",
    "cv2.destroyAllWindows()"
   ]
  },
  {
   "cell_type": "code",
   "execution_count": null,
   "metadata": {},
   "outputs": [],
   "source": []
  },
  {
   "cell_type": "code",
   "execution_count": null,
   "metadata": {},
   "outputs": [],
   "source": [
    "def_diffs = get_frame_diffs(ims, \"default\", False)\n",
    "rev_diffs = get_frame_diffs(ims, \"reverse\", False)\n",
    "for diff, diff2 in zip(def_diffs, rev_diffs):\n",
    "    concat = np.hstack((diff, diff2))\n",
    "    concat = cv2.bilateralFilter(concat, 9, 75, 75)\n",
    "    cv2.imshow(\"asd\", concat)\n",
    "    cv2.waitKey(0)\n",
    "    cv2.destroyAllWindows()\n"
   ]
  },
  {
   "cell_type": "code",
   "execution_count": null,
   "metadata": {},
   "outputs": [],
   "source": []
  }
 ],
 "metadata": {
  "colab": {
   "collapsed_sections": [],
   "name": "MTS Project Summary.ipynb",
   "provenance": []
  },
  "hide_input": false,
  "kernelspec": {
   "display_name": "Python 3",
   "language": "python",
   "name": "python3"
  },
  "language_info": {
   "codemirror_mode": {
    "name": "ipython",
    "version": 3
   },
   "file_extension": ".py",
   "mimetype": "text/x-python",
   "name": "python",
   "nbconvert_exporter": "python",
   "pygments_lexer": "ipython3",
   "version": "3.7.4"
  }
 },
 "nbformat": 4,
 "nbformat_minor": 1
}
