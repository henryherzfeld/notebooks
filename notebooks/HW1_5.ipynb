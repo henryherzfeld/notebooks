{
 "cells": [
  {
   "cell_type": "code",
   "execution_count": 19,
   "metadata": {},
   "outputs": [
    {
     "data": {
      "text/html": [
       "<ol class=list-inline>\n",
       "\t<li>1</li>\n",
       "\t<li>2</li>\n",
       "\t<li>20</li>\n",
       "\t<li>12</li>\n",
       "\t<li>33</li>\n",
       "\t<li>21</li>\n",
       "\t<li>22</li>\n",
       "\t<li>1</li>\n",
       "\t<li>7</li>\n",
       "\t<li>1</li>\n",
       "\t<li>2</li>\n",
       "\t<li>21</li>\n",
       "\t<li>7</li>\n",
       "\t<li>2</li>\n",
       "\t<li>3</li>\n",
       "\t<li>7</li>\n",
       "\t<li>4</li>\n",
       "\t<li>5</li>\n",
       "\t<li>20</li>\n",
       "\t<li>1</li>\n",
       "</ol>\n"
      ],
      "text/latex": [
       "\\begin{enumerate*}\n",
       "\\item 1\n",
       "\\item 2\n",
       "\\item 20\n",
       "\\item 12\n",
       "\\item 33\n",
       "\\item 21\n",
       "\\item 22\n",
       "\\item 1\n",
       "\\item 7\n",
       "\\item 1\n",
       "\\item 2\n",
       "\\item 21\n",
       "\\item 7\n",
       "\\item 2\n",
       "\\item 3\n",
       "\\item 7\n",
       "\\item 4\n",
       "\\item 5\n",
       "\\item 20\n",
       "\\item 1\n",
       "\\end{enumerate*}\n"
      ],
      "text/markdown": [
       "1. 1\n",
       "2. 2\n",
       "3. 20\n",
       "4. 12\n",
       "5. 33\n",
       "6. 21\n",
       "7. 22\n",
       "8. 1\n",
       "9. 7\n",
       "10. 1\n",
       "11. 2\n",
       "12. 21\n",
       "13. 7\n",
       "14. 2\n",
       "15. 3\n",
       "16. 7\n",
       "17. 4\n",
       "18. 5\n",
       "19. 20\n",
       "20. 1\n",
       "\n",
       "\n"
      ],
      "text/plain": [
       " [1]  1  2 20 12 33 21 22  1  7  1  2 21  7  2  3  7  4  5 20  1"
      ]
     },
     "metadata": {},
     "output_type": "display_data"
    }
   ],
   "source": [
    "# Create vector\n",
    "v = c(1,2,20,12,33,21,22,1,7,1,2,21,7,2,3,7,4,5,20,1)\n",
    "v"
   ]
  },
  {
   "cell_type": "code",
   "execution_count": 3,
   "metadata": {},
   "outputs": [
    {
     "data": {
      "text/html": [
       "<table>\n",
       "<caption>A matrix: 4 × 5 of type dbl[,5]</caption>\n",
       "<tbody>\n",
       "\t<tr><td> 1</td><td> 2</td><td>20</td><td>12</td><td>33</td></tr>\n",
       "\t<tr><td>21</td><td>22</td><td> 1</td><td> 7</td><td> 1</td></tr>\n",
       "\t<tr><td> 2</td><td>21</td><td> 7</td><td> 2</td><td> 3</td></tr>\n",
       "\t<tr><td> 7</td><td> 4</td><td> 5</td><td>20</td><td> 1</td></tr>\n",
       "</tbody>\n",
       "</table>\n"
      ],
      "text/latex": [
       "A matrix: 4 × 5 of type dbl{[},5{]}\n",
       "\\begin{tabular}{lllll}\n",
       "\t  1 &  2 & 20 & 12 & 33\\\\\n",
       "\t 21 & 22 &  1 &  7 &  1\\\\\n",
       "\t  2 & 21 &  7 &  2 &  3\\\\\n",
       "\t  7 &  4 &  5 & 20 &  1\\\\\n",
       "\\end{tabular}\n"
      ],
      "text/markdown": [
       "\n",
       "A matrix: 4 × 5 of type dbl[,5]\n",
       "\n",
       "|  1 |  2 | 20 | 12 | 33 |\n",
       "| 21 | 22 |  1 |  7 |  1 |\n",
       "|  2 | 21 |  7 |  2 |  3 |\n",
       "|  7 |  4 |  5 | 20 |  1 |\n",
       "\n"
      ],
      "text/plain": [
       "     [,1] [,2] [,3] [,4] [,5]\n",
       "[1,]  1    2   20   12   33  \n",
       "[2,] 21   22    1    7    1  \n",
       "[3,]  2   21    7    2    3  \n",
       "[4,]  7    4    5   20    1  "
      ]
     },
     "metadata": {},
     "output_type": "display_data"
    }
   ],
   "source": [
    "# Use vector to create matrix\n",
    "m = matrix(v,nrow=4,ncol=5,byrow=T)\n",
    "m"
   ]
  },
  {
   "cell_type": "code",
   "execution_count": 4,
   "metadata": {},
   "outputs": [
    {
     "data": {
      "text/html": [
       "<table>\n",
       "<caption>A df[,5]: 4 × 5</caption>\n",
       "<thead>\n",
       "\t<tr><th scope=col>fea1</th><th scope=col>fea2</th><th scope=col>fea3</th><th scope=col>fea4</th><th scope=col>fea5</th></tr>\n",
       "\t<tr><th scope=col>&lt;dbl&gt;</th><th scope=col>&lt;dbl&gt;</th><th scope=col>&lt;dbl&gt;</th><th scope=col>&lt;dbl&gt;</th><th scope=col>&lt;dbl&gt;</th></tr>\n",
       "</thead>\n",
       "<tbody>\n",
       "\t<tr><td> 1</td><td> 2</td><td>20</td><td>12</td><td>33</td></tr>\n",
       "\t<tr><td>21</td><td>22</td><td> 1</td><td> 7</td><td> 1</td></tr>\n",
       "\t<tr><td> 2</td><td>21</td><td> 7</td><td> 2</td><td> 3</td></tr>\n",
       "\t<tr><td> 7</td><td> 4</td><td> 5</td><td>20</td><td> 1</td></tr>\n",
       "</tbody>\n",
       "</table>\n"
      ],
      "text/latex": [
       "A df[,5]: 4 × 5\n",
       "\\begin{tabular}{r|lllll}\n",
       " fea1 & fea2 & fea3 & fea4 & fea5\\\\\n",
       " <dbl> & <dbl> & <dbl> & <dbl> & <dbl>\\\\\n",
       "\\hline\n",
       "\t  1 &  2 & 20 & 12 & 33\\\\\n",
       "\t 21 & 22 &  1 &  7 &  1\\\\\n",
       "\t  2 & 21 &  7 &  2 &  3\\\\\n",
       "\t  7 &  4 &  5 & 20 &  1\\\\\n",
       "\\end{tabular}\n"
      ],
      "text/markdown": [
       "\n",
       "A df[,5]: 4 × 5\n",
       "\n",
       "| fea1 &lt;dbl&gt; | fea2 &lt;dbl&gt; | fea3 &lt;dbl&gt; | fea4 &lt;dbl&gt; | fea5 &lt;dbl&gt; |\n",
       "|---|---|---|---|---|\n",
       "|  1 |  2 | 20 | 12 | 33 |\n",
       "| 21 | 22 |  1 |  7 |  1 |\n",
       "|  2 | 21 |  7 |  2 |  3 |\n",
       "|  7 |  4 |  5 | 20 |  1 |\n",
       "\n"
      ],
      "text/plain": [
       "  fea1 fea2 fea3 fea4 fea5\n",
       "1  1    2   20   12   33  \n",
       "2 21   22    1    7    1  \n",
       "3  2   21    7    2    3  \n",
       "4  7    4    5   20    1  "
      ]
     },
     "metadata": {},
     "output_type": "display_data"
    }
   ],
   "source": [
    "# Create data frame and name columns\n",
    "d = data.frame(m)\n",
    "names(d)<-c(\"fea1\",\"fea2\",\"fea3\",\"fea4\",\"fea5\")\n",
    "d"
   ]
  },
  {
   "cell_type": "code",
   "execution_count": 5,
   "metadata": {},
   "outputs": [
    {
     "data": {
      "text/html": [
       "<ol class=list-inline>\n",
       "\t<li>68</li>\n",
       "\t<li>1</li>\n",
       "</ol>\n"
      ],
      "text/latex": [
       "\\begin{enumerate*}\n",
       "\\item 68\n",
       "\\item 1\n",
       "\\end{enumerate*}\n"
      ],
      "text/markdown": [
       "1. 68\n",
       "2. 1\n",
       "\n",
       "\n"
      ],
      "text/plain": [
       "[1] 68  1"
      ]
     },
     "metadata": {},
     "output_type": "display_data"
    }
   ],
   "source": [
    "# Create large row sum function\n",
    "findLargeRowSum <- function(frame){\n",
    "    # accepts a data frame, returns largest row as tuple (sum, index)\n",
    "    sums <- apply(frame,1,sum)\n",
    "    return(c(max(sums), which(sums==max(sums))))\n",
    "}\n",
    "\n",
    "findLargeRowSum(d)"
   ]
  },
  {
   "cell_type": "code",
   "execution_count": 9,
   "metadata": {},
   "outputs": [
    {
     "data": {
      "text/html": [
       "<table>\n",
       "<caption>A matrix: 4 × 5 of type dbl[,5]</caption>\n",
       "<thead>\n",
       "\t<tr><th scope=col>fea1</th><th scope=col>fea2</th><th scope=col>fea3</th><th scope=col>fea4</th><th scope=col>fea5</th></tr>\n",
       "</thead>\n",
       "<tbody>\n",
       "\t<tr><td> 1</td><td> 2</td><td>20</td><td>12</td><td>33</td></tr>\n",
       "\t<tr><td>21</td><td>22</td><td> 1</td><td> 7</td><td> 1</td></tr>\n",
       "\t<tr><td> 2</td><td>21</td><td> 7</td><td> 2</td><td> 3</td></tr>\n",
       "\t<tr><td> 7</td><td> 4</td><td> 5</td><td>20</td><td> 1</td></tr>\n",
       "</tbody>\n",
       "</table>\n"
      ],
      "text/latex": [
       "A matrix: 4 × 5 of type dbl{[},5{]}\n",
       "\\begin{tabular}{lllll}\n",
       " fea1 & fea2 & fea3 & fea4 & fea5\\\\\n",
       "\\hline\n",
       "\t  1 &  2 & 20 & 12 & 33\\\\\n",
       "\t 21 & 22 &  1 &  7 &  1\\\\\n",
       "\t  2 & 21 &  7 &  2 &  3\\\\\n",
       "\t  7 &  4 &  5 & 20 &  1\\\\\n",
       "\\end{tabular}\n"
      ],
      "text/markdown": [
       "\n",
       "A matrix: 4 × 5 of type dbl[,5]\n",
       "\n",
       "| fea1 | fea2 | fea3 | fea4 | fea5 |\n",
       "|---|---|---|---|---|\n",
       "|  1 |  2 | 20 | 12 | 33 |\n",
       "| 21 | 22 |  1 |  7 |  1 |\n",
       "|  2 | 21 |  7 |  2 |  3 |\n",
       "|  7 |  4 |  5 | 20 |  1 |\n",
       "\n"
      ],
      "text/plain": [
       "     fea1 fea2 fea3 fea4 fea5\n",
       "[1,]  1    2   20   12   33  \n",
       "[2,] 21   22    1    7    1  \n",
       "[3,]  2   21    7    2    3  \n",
       "[4,]  7    4    5   20    1  "
      ]
     },
     "metadata": {},
     "output_type": "display_data"
    },
    {
     "data": {
      "text/html": [
       "<dl class=dl-horizontal>\n",
       "\t<dt>fea1</dt>\n",
       "\t\t<dd>7.75</dd>\n",
       "\t<dt>fea2</dt>\n",
       "\t\t<dd>12.25</dd>\n",
       "\t<dt>fea3</dt>\n",
       "\t\t<dd>8.25</dd>\n",
       "\t<dt>fea4</dt>\n",
       "\t\t<dd>10.25</dd>\n",
       "\t<dt>fea5</dt>\n",
       "\t\t<dd>9.5</dd>\n",
       "</dl>\n"
      ],
      "text/latex": [
       "\\begin{description*}\n",
       "\\item[fea1] 7.75\n",
       "\\item[fea2] 12.25\n",
       "\\item[fea3] 8.25\n",
       "\\item[fea4] 10.25\n",
       "\\item[fea5] 9.5\n",
       "\\end{description*}\n"
      ],
      "text/markdown": [
       "fea1\n",
       ":   7.75fea2\n",
       ":   12.25fea3\n",
       ":   8.25fea4\n",
       ":   10.25fea5\n",
       ":   9.5\n",
       "\n"
      ],
      "text/plain": [
       " fea1  fea2  fea3  fea4  fea5 \n",
       " 7.75 12.25  8.25 10.25  9.50 "
      ]
     },
     "metadata": {},
     "output_type": "display_data"
    }
   ],
   "source": [
    "# Use apply to find mean value of each row and each column\n",
    "apply(d,c(1,2),mean)\n",
    "apply(d,2,mean)"
   ]
  },
  {
   "cell_type": "code",
   "execution_count": 12,
   "metadata": {},
   "outputs": [
    {
     "name": "stdout",
     "output_type": "stream",
     "text": [
      "1 \n",
      "1 3 7 21 \n",
      "1 2 \n",
      "1 7 \n",
      "1 2 \n",
      "1 2 11 22 \n",
      "1 3 7 21 \n",
      "1 2 4 \n",
      "1 2 4 5 10 20 \n",
      "1 \n",
      "1 7 \n",
      "1 5 \n",
      "1 2 3 4 6 12 \n",
      "1 7 \n",
      "1 2 \n",
      "1 2 4 5 10 20 \n",
      "1 3 11 33 \n",
      "1 \n",
      "1 3 \n",
      "1 \n"
     ]
    },
    {
     "data": {
      "text/html": [
       "<table>\n",
       "<caption>A matrix: 4 × 5</caption>\n",
       "<thead>\n",
       "\t<tr><th scope=col>fea1</th><th scope=col>fea2</th><th scope=col>fea3</th><th scope=col>fea4</th><th scope=col>fea5</th></tr>\n",
       "\t<tr><th scope=col>&lt;int&gt;</th><th scope=col>&lt;int&gt;</th><th scope=col>&lt;int&gt;</th><th scope=col>&lt;int&gt;</th><th scope=col>&lt;int&gt;</th><th scope=col>&lt;int&gt;</th><th scope=col>&lt;int&gt;</th><th scope=col>&lt;int&gt;</th><th scope=col>&lt;int&gt;</th><th scope=col>&lt;int&gt;</th><th scope=col>&lt;int&gt;</th><th scope=col>&lt;int&gt;</th><th scope=col>&lt;int&gt;</th><th scope=col>&lt;int&gt;</th><th scope=col>&lt;int&gt;</th><th scope=col>&lt;int&gt;</th><th scope=col>&lt;int&gt;</th><th scope=col>&lt;int&gt;</th><th scope=col>&lt;int&gt;</th><th scope=col>&lt;int&gt;</th></tr>\n",
       "</thead>\n",
       "<tbody>\n",
       "\t<tr><td>1</td><td>1, 2</td><td>1, 2, 4, 5, 10, 20</td><td>1, 2, 3, 4, 6, 12</td><td>1, 3, 11, 33</td></tr>\n",
       "\t<tr><td>1, 3, 7, 21</td><td>1, 2, 11, 22</td><td>1</td><td>1, 7</td><td>1</td></tr>\n",
       "\t<tr><td>1, 2</td><td>1, 3, 7, 21</td><td>1, 7</td><td>1, 2</td><td>1, 3</td></tr>\n",
       "\t<tr><td>1, 7</td><td>1, 2, 4</td><td>1, 5</td><td>1, 2, 4, 5, 10, 20</td><td>1</td></tr>\n",
       "</tbody>\n",
       "</table>\n"
      ],
      "text/latex": [
       "A matrix: 4 × 5\n",
       "\\begin{tabular}{lllll}\n",
       " fea1 & fea2 & fea3 & fea4 & fea5\\\\\n",
       " <int> & <int> & <int> & <int> & <int> & <int> & <int> & <int> & <int> & <int> & <int> & <int> & <int> & <int> & <int> & <int> & <int> & <int> & <int> & <int>\\\\\n",
       "\\hline\n",
       "\t 1 & 1, 2 & 1, 2, 4, 5, 10, 20 & 1, 2, 3, 4, 6, 12 & 1, 3, 11, 33\\\\\n",
       "\t 1, 3, 7, 21 & 1, 2, 11, 22 & 1 & 1, 7 & 1\\\\\n",
       "\t 1, 2 & 1, 3, 7, 21 & 1, 7 & 1, 2 & 1, 3\\\\\n",
       "\t 1, 7 & 1, 2, 4 & 1, 5 & 1, 2, 4, 5, 10, 20 & 1\\\\\n",
       "\\end{tabular}\n"
      ],
      "text/markdown": [
       "\n",
       "A matrix: 4 × 5\n",
       "\n",
       "| fea1 &lt;int&gt; | fea2 &lt;int&gt; | fea3 &lt;int&gt; | fea4 &lt;int&gt; | fea5 &lt;int&gt; | fea1 &lt;int&gt; | fea2 &lt;int&gt; | fea3 &lt;int&gt; | fea4 &lt;int&gt; | fea5 &lt;int&gt; | fea1 &lt;int&gt; | fea2 &lt;int&gt; | fea3 &lt;int&gt; | fea4 &lt;int&gt; | fea5 &lt;int&gt; | fea1 &lt;int&gt; | fea2 &lt;int&gt; | fea3 &lt;int&gt; | fea4 &lt;int&gt; | fea5 &lt;int&gt; |\n",
       "|---|---|---|---|---|\n",
       "| 1 | 1, 2 | 1, 2, 4, 5, 10, 20 | 1, 2, 3, 4, 6, 12 | 1, 3, 11, 33 |\n",
       "| 1, 3, 7, 21 | 1, 2, 11, 22 | 1 | 1, 7 | 1 |\n",
       "| 1, 2 | 1, 3, 7, 21 | 1, 7 | 1, 2 | 1, 3 |\n",
       "| 1, 7 | 1, 2, 4 | 1, 5 | 1, 2, 4, 5, 10, 20 | 1 |\n",
       "\n"
      ],
      "text/plain": [
       "     fea1        fea2         fea3               fea4              \n",
       "[1,] 1           1, 2         1, 2, 4, 5, 10, 20 1, 2, 3, 4, 6, 12 \n",
       "[2,] 1, 3, 7, 21 1, 2, 11, 22 1                  1, 7              \n",
       "[3,] 1, 2        1, 3, 7, 21  1, 7               1, 2              \n",
       "[4,] 1, 7        1, 2, 4      1, 5               1, 2, 4, 5, 10, 20\n",
       "     fea5        \n",
       "[1,] 1, 3, 11, 33\n",
       "[2,] 1           \n",
       "[3,] 1, 3        \n",
       "[4,] 1           "
      ]
     },
     "metadata": {},
     "output_type": "display_data"
    }
   ],
   "source": [
    "# # Use apply to find factors of each number\n",
    "# get_factors <- function(x){\n",
    "#     vals <- NULL\n",
    "    \n",
    "#     # Naive approach to factorization\n",
    "#     for (val in 1:x){\n",
    "#         if (x %% val == 0){\n",
    "#             cat(val,\"\")\n",
    "#             vals <- c(vals, val)\n",
    "#         }\n",
    "        \n",
    "#     }\n",
    "#     cat(\"\\n\")\n",
    "#     return(vals)\n",
    "# }\n",
    "\n",
    "# Use apply to find factors of each number\n",
    "get_factors <- function(x){\n",
    "    vals <- NULL\n",
    "    \n",
    "    for(val in 1:x){\n",
    "        if(x %% val == 0){\n",
    "            cat(val,\"\") \n",
    "            vals <- c(vals, val)\n",
    "        }\n",
    "    }\n",
    "    cat(\"\\n\")\n",
    "    return(vals)\n",
    "}\n",
    "\n",
    "apply(d,c(1,2), get_factors)"
   ]
  },
  {
   "cell_type": "code",
   "execution_count": 39,
   "metadata": {},
   "outputs": [
    {
     "data": {
      "text/html": [
       "<table>\n",
       "<caption>A df[,2]: 4 × 2</caption>\n",
       "<thead>\n",
       "\t<tr><th scope=col>d...fea1...</th><th scope=col>d...fea3...</th></tr>\n",
       "\t<tr><th scope=col>&lt;dbl&gt;</th><th scope=col>&lt;dbl&gt;</th></tr>\n",
       "</thead>\n",
       "<tbody>\n",
       "\t<tr><td> 1</td><td>20</td></tr>\n",
       "\t<tr><td>21</td><td> 1</td></tr>\n",
       "\t<tr><td> 2</td><td> 7</td></tr>\n",
       "\t<tr><td> 7</td><td> 5</td></tr>\n",
       "</tbody>\n",
       "</table>\n"
      ],
      "text/latex": [
       "A df[,2]: 4 × 2\n",
       "\\begin{tabular}{r|ll}\n",
       " d...fea1... & d...fea3...\\\\\n",
       " <dbl> & <dbl>\\\\\n",
       "\\hline\n",
       "\t  1 & 20\\\\\n",
       "\t 21 &  1\\\\\n",
       "\t  2 &  7\\\\\n",
       "\t  7 &  5\\\\\n",
       "\\end{tabular}\n"
      ],
      "text/markdown": [
       "\n",
       "A df[,2]: 4 × 2\n",
       "\n",
       "| d...fea1... &lt;dbl&gt; | d...fea3... &lt;dbl&gt; |\n",
       "|---|---|\n",
       "|  1 | 20 |\n",
       "| 21 |  1 |\n",
       "|  2 |  7 |\n",
       "|  7 |  5 |\n",
       "\n"
      ],
      "text/plain": [
       "  d...fea1... d...fea3...\n",
       "1  1          20         \n",
       "2 21           1         \n",
       "3  2           7         \n",
       "4  7           5         "
      ]
     },
     "metadata": {},
     "output_type": "display_data"
    },
    {
     "data": {
      "text/html": [
       "<table>\n",
       "<caption>A df[,2]: 4 × 2</caption>\n",
       "<thead>\n",
       "\t<tr><th scope=col>d...fea2...</th><th scope=col>d...fea4...</th></tr>\n",
       "\t<tr><th scope=col>&lt;dbl&gt;</th><th scope=col>&lt;dbl&gt;</th></tr>\n",
       "</thead>\n",
       "<tbody>\n",
       "\t<tr><td> 2</td><td>12</td></tr>\n",
       "\t<tr><td>22</td><td> 7</td></tr>\n",
       "\t<tr><td>21</td><td> 2</td></tr>\n",
       "\t<tr><td> 4</td><td>20</td></tr>\n",
       "</tbody>\n",
       "</table>\n"
      ],
      "text/latex": [
       "A df[,2]: 4 × 2\n",
       "\\begin{tabular}{r|ll}\n",
       " d...fea2... & d...fea4...\\\\\n",
       " <dbl> & <dbl>\\\\\n",
       "\\hline\n",
       "\t  2 & 12\\\\\n",
       "\t 22 &  7\\\\\n",
       "\t 21 &  2\\\\\n",
       "\t  4 & 20\\\\\n",
       "\\end{tabular}\n"
      ],
      "text/markdown": [
       "\n",
       "A df[,2]: 4 × 2\n",
       "\n",
       "| d...fea2... &lt;dbl&gt; | d...fea4... &lt;dbl&gt; |\n",
       "|---|---|\n",
       "|  2 | 12 |\n",
       "| 22 |  7 |\n",
       "| 21 |  2 |\n",
       "|  4 | 20 |\n",
       "\n"
      ],
      "text/plain": [
       "  d...fea2... d...fea4...\n",
       "1  2          12         \n",
       "2 22           7         \n",
       "3 21           2         \n",
       "4  4          20         "
      ]
     },
     "metadata": {},
     "output_type": "display_data"
    }
   ],
   "source": [
    "# Create dataframe A and B\n",
    "A <- data.frame(d[[\"fea1\"]],d[[\"fea3\"]])\n",
    "B <- data.frame(d[[\"fea2\"]],d[[\"fea4\"]])\n",
    "A\n",
    "B"
   ]
  },
  {
   "cell_type": "code",
   "execution_count": 55,
   "metadata": {
    "scrolled": true
   },
   "outputs": [
    {
     "data": {
      "text/html": [
       "<table>\n",
       "<caption>A matrix: 4 × 4 of type dbl[,4]</caption>\n",
       "<tbody>\n",
       "\t<tr><td>242</td><td>162</td><td> 61</td><td>404</td></tr>\n",
       "\t<tr><td> 54</td><td>469</td><td>443</td><td>104</td></tr>\n",
       "\t<tr><td> 88</td><td> 93</td><td> 56</td><td>148</td></tr>\n",
       "\t<tr><td> 74</td><td>189</td><td>157</td><td>128</td></tr>\n",
       "</tbody>\n",
       "</table>\n"
      ],
      "text/latex": [
       "A matrix: 4 × 4 of type dbl{[},4{]}\n",
       "\\begin{tabular}{llll}\n",
       "\t 242 & 162 &  61 & 404\\\\\n",
       "\t  54 & 469 & 443 & 104\\\\\n",
       "\t  88 &  93 &  56 & 148\\\\\n",
       "\t  74 & 189 & 157 & 128\\\\\n",
       "\\end{tabular}\n"
      ],
      "text/markdown": [
       "\n",
       "A matrix: 4 × 4 of type dbl[,4]\n",
       "\n",
       "| 242 | 162 |  61 | 404 |\n",
       "|  54 | 469 | 443 | 104 |\n",
       "|  88 |  93 |  56 | 148 |\n",
       "|  74 | 189 | 157 | 128 |\n",
       "\n"
      ],
      "text/plain": [
       "     [,1] [,2] [,3] [,4]\n",
       "[1,] 242  162   61  404 \n",
       "[2,]  54  469  443  104 \n",
       "[3,]  88   93   56  148 \n",
       "[4,]  74  189  157  128 "
      ]
     },
     "metadata": {},
     "output_type": "display_data"
    }
   ],
   "source": [
    "# Calculate the multiplication of matrix A and the tranpose of matrix B\n",
    "data.matrix(A) %*% t(B)"
   ]
  }
 ],
 "metadata": {
  "kernelspec": {
   "display_name": "R",
   "language": "R",
   "name": "ir"
  },
  "language_info": {
   "codemirror_mode": "r",
   "file_extension": ".r",
   "mimetype": "text/x-r-source",
   "name": "R",
   "pygments_lexer": "r",
   "version": "3.3.3"
  }
 },
 "nbformat": 4,
 "nbformat_minor": 2
}
