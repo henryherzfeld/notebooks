{
 "cells": [
  {
   "cell_type": "markdown",
   "metadata": {},
   "source": [
    "#### Template notebook for decomposing input video into frames with subsequent frame compression."
   ]
  },
  {
   "cell_type": "code",
   "execution_count": 1,
   "metadata": {},
   "outputs": [
    {
     "name": "stderr",
     "output_type": "stream",
     "text": [
      "Warning message:\n",
      "\"package 'imager' was built under R version 3.6.3\"\n",
      "Loading required package: magrittr\n",
      "\n",
      "\n",
      "Attaching package: 'imager'\n",
      "\n",
      "\n",
      "The following object is masked from 'package:magrittr':\n",
      "\n",
      "    add\n",
      "\n",
      "\n",
      "The following objects are masked from 'package:stats':\n",
      "\n",
      "    convolve, spectrum\n",
      "\n",
      "\n",
      "The following object is masked from 'package:graphics':\n",
      "\n",
      "    frame\n",
      "\n",
      "\n",
      "The following object is masked from 'package:base':\n",
      "\n",
      "    save.image\n",
      "\n",
      "\n"
     ]
    }
   ],
   "source": [
    "library(\"jpeg\")\n",
    "library(\"imager\")"
   ]
  },
  {
   "cell_type": "code",
   "execution_count": 3,
   "metadata": {},
   "outputs": [],
   "source": [
    "getFileNameAndExtension <- function(file){ \n",
    "    ex <- strsplit(basename(file), split=\"\\\\.\")\n",
    "    ex<-unlist(ex)\n",
    "    return(ex)\n",
    "} "
   ]
  },
  {
   "cell_type": "code",
   "execution_count": 4,
   "metadata": {},
   "outputs": [],
   "source": [
    "convertVideoAsImages<-function(ffmpeg,videoFileName,fps,filePrefix,fileSuffix)\n",
    "{\n",
    " nameAndExtension<-getFileNameAndExtension(videoFileName)\n",
    " utils::browseURL(videoFileName)\n",
    " dir.create(nameAndExtension[[1]])\n",
    " command<-sprintf(\"%s -i %s -vf fps=%d ./%s/%s%%d%s\",ffmpeg,videoFileName,fps,nameAndExtension[[1]],filePrefix,fileSuffix)\n",
    " command\n",
    " system(command)\n",
    "}"
   ]
  },
  {
   "cell_type": "code",
   "execution_count": null,
   "metadata": {},
   "outputs": [],
   "source": [
    "firstVideoFileName<-'one.mp4'\n",
    "ffmpeg<-'c:/ffmpeg/bin/ffmpeg'\n",
    "outFilePrefix='out'\n",
    "outFileSuffix='.jpg'\n",
    "fps=10\n",
    "convertVideoAsImages(ffmpeg,firstVideoFileName,fps,outFilePrefix,outFileSuffix)"
   ]
  },
  {
   "cell_type": "code",
   "execution_count": null,
   "metadata": {},
   "outputs": [],
   "source": [
    "nameAndExtension<-getFileNameAndExtension(firstVideoFileName)\n",
    "fnames <- paste0(nameAndExtension[[1]],\"/\",outFilePrefix, 1, outFileSuffix)\n",
    "jj <- readJPEG(fnames,native=TRUE)\n",
    "plot(0:1,0:1,type=\"n\",ann=FALSE,axes=FALSE)\n",
    "rasterImage(jj,0,0,1,1)"
   ]
  },
  {
   "cell_type": "code",
   "execution_count": null,
   "metadata": {},
   "outputs": [],
   "source": [
    "compressRatio=40\n",
    "nameAndExtension<-getFileNameAndExtension(firstVideoFileName)\n",
    "fnames <- paste0(nameAndExtension[[1]],\"/\",outFilePrefix, 100, outFileSuffix)\n",
    "sampleImage <- load.image(fnames)\n",
    "plot(sampleImage)"
   ]
  },
  {
   "cell_type": "code",
   "execution_count": null,
   "metadata": {},
   "outputs": [],
   "source": [
    "thmb <- resize(sampleImage,round(width(sampleImage)/compressRatio),round(height(sampleImage)/compressRatio))\n",
    "gs<-grayscale(thmb)\n",
    "plot(gs)"
   ]
  },
  {
   "cell_type": "code",
   "execution_count": null,
   "metadata": {},
   "outputs": [],
   "source": [
    "gs.matrix<-as.matrix(gs)\n",
    "dim(gs.matrix)"
   ]
  },
  {
   "cell_type": "code",
   "execution_count": null,
   "metadata": {},
   "outputs": [],
   "source": [
    "plot(thmb,main=\"Thumbnail\")"
   ]
  },
  {
   "cell_type": "code",
   "execution_count": null,
   "metadata": {},
   "outputs": [],
   "source": [
    "outFileName<-sprintf(\"%sthmbout1.jpg\",nameAndExtension[[1]])\n",
    "imager::save.image(thmb,outFileName)"
   ]
  },
  {
   "cell_type": "code",
   "execution_count": null,
   "metadata": {},
   "outputs": [],
   "source": [
    "reduceImagesfromFolder<-function(reductionRatio,thumbNailFolderPrefix,imageFolder,prefix)\n",
    "{\n",
    "imageNames<-paste0(prefix,\"*.*\")\n",
    "files<-list.files(path=imageFolder,pattern=imageNames,all.files=T,full.name=T,no..=T)\n",
    "list_of_images=lapply(files,load.image)\n",
    "n.images<-length(list_of_images)\n",
    "outFolderName<-sprintf(\"%s%s\",thumbNailFolderPrefix,imageFolder)\n",
    "outFileName<-sprintf(\"%s%s\",thumbNailFolderPrefix,files[[1]])\n",
    "if(!dir.exists(outFolderName))\n",
    "{\n",
    "  dir.create(path=outFolderName)  \n",
    "}\n",
    "for(ii in 1:n.images)\n",
    "{\n",
    "  outFileName<-sprintf(\"%s%s\",thumbNailFolderPrefix,files[[ii]])\n",
    "  thmb <- resize(list_of_images[[ii]],round(width(list_of_images[[ii]])/reductionRatio),round(height(list_of_images[[ii]])/reductionRatio))\n",
    "  thmb<-grayscale(thmb)\n",
    "  imager::save.image(thmb,outFileName)\n",
    "}\n",
    "}"
   ]
  },
  {
   "cell_type": "code",
   "execution_count": null,
   "metadata": {},
   "outputs": [],
   "source": [
    "thumbNailFolder<-\"Small\"\n",
    "nameAndExtension<-getFileNameAndExtension(firstVideoFileName)\n",
    "reduceImagesfromFolder(compressRatio,thumbNailFolder,nameAndExtension[[1]],outFilePrefix)"
   ]
  },
  {
   "cell_type": "code",
   "execution_count": null,
   "metadata": {},
   "outputs": [],
   "source": [
    "nameAndExtension<-getFileNameAndExtension(secondVideoFileName)\n",
    "reduceImagesfromFolder(compressRatio,thumbNailFolder,nameAndExtension[[1]],outFilePrefix)"
   ]
  }
 ],
 "metadata": {
  "kernelspec": {
   "display_name": "R",
   "language": "R",
   "name": "ir"
  },
  "language_info": {
   "codemirror_mode": "r",
   "file_extension": ".r",
   "mimetype": "text/x-r-source",
   "name": "R",
   "pygments_lexer": "r",
   "version": "3.6.1"
  }
 },
 "nbformat": 4,
 "nbformat_minor": 2
}
