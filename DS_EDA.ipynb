{
 "cells": [
  {
   "cell_type": "markdown",
   "metadata": {
    "colab_type": "text",
    "id": "fiXV2xUI7lUZ"
   },
   "source": [
    "This is a dataset of movie ratings data collected from users of MovieLens in the late 1990s and early 2000s. The data provide movie ratings, movie metadata, and demographic data about the users. Such data is often of interest in the development of recommendation systems based on machine learning algorithms. \n",
    "\n",
    "The MovieLens 1M dataset contains ~1 million ratings collected from ~6,000 users on ~4,000 movies. It's spread across three tables: _ratings_, _user information_, and _movie information_.\n",
    "\n",
    "See:\n",
    "https://grouplens.org/datasets/movielens/ for additional information."
   ]
  },
  {
   "cell_type": "code",
   "execution_count": 1,
   "metadata": {},
   "outputs": [],
   "source": [
    "import numpy as np\n",
    "import pandas as pd\n",
    "from pandas import DataFrame, Series\n",
    "import pprint\n",
    "\n",
    "%matplotlib inline\n",
    "import matplotlib.pyplot as plt\n",
    "import seaborn as sns\n",
    "\n",
    "from scipy.stats import pearsonr\n",
    "\n",
    "plt.style.use('fivethirtyeight')"
   ]
  },
  {
   "cell_type": "code",
   "execution_count": 2,
   "metadata": {
    "colab": {
     "base_uri": "https://localhost:8080/",
     "height": 34
    },
    "colab_type": "code",
    "id": "4dkSabDG5gjc",
    "outputId": "3c3cdd00-171e-4e91-9bcc-67f79eceeb70",
    "scrolled": true
   },
   "outputs": [],
   "source": [
    "# Make display smaller\n",
    "pd.options.display.max_rows = 10\n",
    "\n",
    "unames = ['user_id', 'gender', 'age', 'occupation', 'zip']\n",
    "users = pd.read_table('data/movielens/users.dat', sep='::',\n",
    "                      header=None, names=unames, engine='python')\n",
    "\n",
    "rnames = ['user_id', 'movie_id', 'rating', 'timestamp']\n",
    "ratings = pd.read_table('data/movielens/ratings.dat', sep='::',\n",
    "                        header=None, names=rnames, engine='python')\n",
    "\n",
    "mnames = ['movie_id', 'title', 'genres']\n",
    "movies = pd.read_table('data/movielens/movies.dat', sep='::',\n",
    "                       header=None, names=mnames, engine='python')"
   ]
  },
  {
   "cell_type": "markdown",
   "metadata": {
    "colab_type": "text",
    "id": "QtjTzR09-PyS"
   },
   "source": [
    "Here we examine the number of observations for ratings, movies and users and their data."
   ]
  },
  {
   "cell_type": "code",
   "execution_count": 4,
   "metadata": {},
   "outputs": [
    {
     "name": "stdout",
     "output_type": "stream",
     "text": [
      "SUMMARY\n",
      "================================================================================\n",
      "\n",
      "These files contain 1,000,209 anonymous ratings of approximately 3,900 movies \n",
      "made by 6,040 MovieLens users who joined MovieLens in 2000.\n",
      "\n",
      "USAGE LICENSE\n",
      "================================================================================\n",
      "\n",
      "Neither the University of Minnesota nor any of the researchers\n",
      "involved can guarantee the correctness of the data, its suitability\n",
      "for any particular purpose, or the validity of results based on the\n",
      "use of the data set.  The data set may be used for any research\n",
      "purposes under the following conditions:\n",
      "\n",
      "     * The user may not state or imply any endorsement from the\n",
      "       University of Minnesota or the GroupLens Research Group.\n",
      "\n",
      "     * The user must acknowledge the use of the data set in\n",
      "       publications resulting from the use of the data set\n",
      "       (see below for citation information).\n",
      "\n",
      "     * The user may not redistribute the data without separate\n",
      "       permission.\n",
      "\n",
      "     * The user may not use this information for any commercial or\n",
      "       revenue-bearing purposes without first obtaining permission\n",
      "       from a faculty member of the GroupLens Research Project at the\n",
      "       University of Minnesota.\n",
      "\n",
      "If you have any further questions or comments, please contact GroupLens\n",
      "<grouplens-info@cs.umn.edu>. \n",
      "\n",
      "CITATION\n",
      "================================================================================\n",
      "\n",
      "To acknowledge use of the dataset in publications, please cite the following\n",
      "paper:\n",
      "\n",
      "F. Maxwell Harper and Joseph A. Konstan. 2015. The MovieLens Datasets: History\n",
      "and Context. ACM Transactions on Interactive Intelligent Systems (TiiS) 5, 4,\n",
      "Article 19 (December 2015), 19 pages. DOI=http://dx.doi.org/10.1145/2827872\n",
      "\n",
      "\n",
      "ACKNOWLEDGEMENTS\n",
      "================================================================================\n",
      "\n",
      "Thanks to Shyong Lam and Jon Herlocker for cleaning up and generating the data\n",
      "set.\n",
      "\n",
      "FURTHER INFORMATION ABOUT THE GROUPLENS RESEARCH PROJECT\n",
      "================================================================================\n",
      "\n",
      "The GroupLens Research Project is a research group in the Department of \n",
      "Computer Science and Engineering at the University of Minnesota. Members of \n",
      "the GroupLens Research Project are involved in many research projects related \n",
      "to the fields of information filtering, collaborative filtering, and \n",
      "recommender systems. The project is lead by professors John Riedl and Joseph \n",
      "Konstan. The project began to explore automated collaborative filtering in \n",
      "1992, but is most well known for its world wide trial of an automated \n",
      "collaborative filtering system for Usenet news in 1996. Since then the project \n",
      "has expanded its scope to research overall information filtering solutions, \n",
      "integrating in content-based methods as well as improving current collaborative \n",
      "filtering technology.\n",
      "\n",
      "Further information on the GroupLens Research project, including research \n",
      "publications, can be found at the following web site:\n",
      "        \n",
      "        http://www.grouplens.org/\n",
      "\n",
      "GroupLens Research currently operates a movie recommender based on \n",
      "collaborative filtering:\n",
      "\n",
      "        http://www.movielens.org/\n",
      "\n",
      "RATINGS FILE DESCRIPTION\n",
      "================================================================================\n",
      "\n",
      "All ratings are contained in the file \"ratings.dat\" and are in the\n",
      "following format:\n",
      "\n",
      "UserID::MovieID::Rating::Timestamp\n",
      "\n",
      "- UserIDs range between 1 and 6040 \n",
      "- MovieIDs range between 1 and 3952\n",
      "- Ratings are made on a 5-star scale (whole-star ratings only)\n",
      "- Timestamp is represented in seconds since the epoch as returned by time(2)\n",
      "- Each user has at least 20 ratings\n",
      "\n",
      "USERS FILE DESCRIPTION\n",
      "================================================================================\n",
      "\n",
      "User information is in the file \"users.dat\" and is in the following\n",
      "format:\n",
      "\n",
      "UserID::Gender::Age::Occupation::Zip-code\n",
      "\n",
      "All demographic information is provided voluntarily by the users and is\n",
      "not checked for accuracy.  Only users who have provided some demographic\n",
      "information are included in this data set.\n",
      "\n",
      "- Gender is denoted by a \"M\" for male and \"F\" for female\n",
      "- Age is chosen from the following ranges:\n",
      "\n",
      "\t*  1:  \"Under 18\"\n",
      "\t* 18:  \"18-24\"\n",
      "\t* 25:  \"25-34\"\n",
      "\t* 35:  \"35-44\"\n",
      "\t* 45:  \"45-49\"\n",
      "\t* 50:  \"50-55\"\n",
      "\t* 56:  \"56+\"\n",
      "\n",
      "- Occupation is chosen from the following choices:\n",
      "\n",
      "\t*  0:  \"other\" or not specified\n",
      "\t*  1:  \"academic/educator\"\n",
      "\t*  2:  \"artist\"\n",
      "\t*  3:  \"clerical/admin\"\n",
      "\t*  4:  \"college/grad student\"\n",
      "\t*  5:  \"customer service\"\n",
      "\t*  6:  \"doctor/health care\"\n",
      "\t*  7:  \"executive/managerial\"\n",
      "\t*  8:  \"farmer\"\n",
      "\t*  9:  \"homemaker\"\n",
      "\t* 10:  \"K-12 student\"\n",
      "\t* 11:  \"lawyer\"\n",
      "\t* 12:  \"programmer\"\n",
      "\t* 13:  \"retired\"\n",
      "\t* 14:  \"sales/marketing\"\n",
      "\t* 15:  \"scientist\"\n",
      "\t* 16:  \"self-employed\"\n",
      "\t* 17:  \"technician/engineer\"\n",
      "\t* 18:  \"tradesman/craftsman\"\n",
      "\t* 19:  \"unemployed\"\n",
      "\t* 20:  \"writer\"\n",
      "\n",
      "MOVIES FILE DESCRIPTION\n",
      "================================================================================\n",
      "\n",
      "Movie information is in the file \"movies.dat\" and is in the following\n",
      "format:\n",
      "\n",
      "MovieID::Title::Genres\n",
      "\n",
      "- Titles are identical to titles provided by the IMDB (including\n",
      "year of release)\n",
      "- Genres are pipe-separated and are selected from the following genres:\n",
      "\n",
      "\t* Action\n",
      "\t* Adventure\n",
      "\t* Animation\n",
      "\t* Children's\n",
      "\t* Comedy\n",
      "\t* Crime\n",
      "\t* Documentary\n",
      "\t* Drama\n",
      "\t* Fantasy\n",
      "\t* Film-Noir\n",
      "\t* Horror\n",
      "\t* Musical\n",
      "\t* Mystery\n",
      "\t* Romance\n",
      "\t* Sci-Fi\n",
      "\t* Thriller\n",
      "\t* War\n",
      "\t* Western\n",
      "\n",
      "- Some MovieIDs do not correspond to a movie due to accidental duplicate\n",
      "entries and/or test entries\n",
      "- Movies are mostly entered by hand, so errors and inconsistencies may exist\n"
     ]
    }
   ],
   "source": [
    "!cat 'data/movielens/README'"
   ]
  },
  {
   "cell_type": "code",
   "execution_count": 6,
   "metadata": {
    "colab": {},
    "colab_type": "code",
    "id": "d4jcQfb2AIub"
   },
   "outputs": [
    {
     "name": "stdout",
     "output_type": "stream",
     "text": [
      "Number of users: 6040\n",
      "Columns: ['user_id' 'gender' 'age' 'occupation' 'zip']\n",
      "\n",
      "Number of movies: 3883\n",
      "Columns: ['movie_id' 'title' 'genres']\n",
      "\n",
      "Number of ratings: 1000209\n",
      "Columns: ['user_id' 'movie_id' 'rating' 'timestamp']\n",
      "\n"
     ]
    }
   ],
   "source": [
    "print(\"Number of users: {}\\nColumns: {}\\n\".format(users.shape[0], users.columns.values))\n",
    "\n",
    "print(\"Number of movies: {}\\nColumns: {}\\n\".format(movies.shape[0], movies.columns.values))\n",
    "\n",
    "print(\"Number of ratings: {}\\nColumns: {}\\n\".format(ratings.shape[0], ratings.columns.values))"
   ]
  },
  {
   "cell_type": "markdown",
   "metadata": {},
   "source": [
    "The movie and rating tables are related by the primary key movie_id. The primary key user_id relates the ratings dataframe to the user dataframe."
   ]
  },
  {
   "cell_type": "code",
   "execution_count": 7,
   "metadata": {
    "scrolled": true
   },
   "outputs": [
    {
     "name": "stdout",
     "output_type": "stream",
     "text": [
      "[10 16 15  7 20  9  1 12 17  0  3 14  4 11  8 19  2 18  5 13  6]\n",
      "Largest bin value: 759\n"
     ]
    },
    {
     "data": {
      "image/png": "[encoded data removed]",
      "text/plain": [
       "<Figure size 432x288 with 1 Axes>"
      ]
     },
     "metadata": {},
     "output_type": "display_data"
    }
   ],
   "source": [
    "print(users['occupation'].unique())\n",
    "_ = sns.distplot(users['occupation'], kde=False, bins=20)\n",
    "\n",
    "print(\"Largest bin value: {}\".format(len(users[users['occupation'] == 4])))"
   ]
  },
  {
   "cell_type": "markdown",
   "metadata": {
    "colab_type": "text",
    "id": "QtjTzR09-PyS"
   },
   "source": [
    "The following code visualizes these thoughts:\n",
    "\n",
    "- What is the occupation that maps to most of the users? \n",
    "   \n",
    "- What percentage of users are 50 years old or older?\n",
    "   \n",
    "- Which movie received the highest number of ratings?\n",
    "   \n",
    "- What is the average rating for all movies/users?\n",
    "   "
   ]
  },
  {
   "cell_type": "code",
   "execution_count": 8,
   "metadata": {
    "colab": {},
    "colab_type": "code",
    "id": "d4jcQfb2AIub"
   },
   "outputs": [
    {
     "name": "stdout",
     "output_type": "stream",
     "text": [
      "Percentage of users aged 50 or older: 14.50%\n"
     ]
    },
    {
     "data": {
      "image/png": "[encoded data removed]",
      "text/plain": [
       "<Figure size 432x288 with 1 Axes>"
      ]
     },
     "metadata": {},
     "output_type": "display_data"
    }
   ],
   "source": [
    "print(\"Percentage of users aged 50 or older: {:.2f}%\".format(len(users['age'][users['age'] >= 50]) / len(users)*100))\n",
    "sums = users['age'].groupby(users.age).sum()\n",
    "plt.pie(sums, labels=sums.index)\n",
    "plt.show()"
   ]
  },
  {
   "cell_type": "code",
   "execution_count": 9,
   "metadata": {},
   "outputs": [
    {
     "name": "stdout",
     "output_type": "stream",
     "text": [
      "Most rated movie: Brief Encounter (1946)\n"
     ]
    },
    {
     "data": {
      "image/png": "[encoded data removed]",
      "text/plain": [
       "<Figure size 432x288 with 1 Axes>"
      ]
     },
     "metadata": {},
     "output_type": "display_data"
    }
   ],
   "source": [
    "movie_rating_count = ratings['movie_id'].value_counts()\n",
    "most_rated_idx = movie_rating_count.idxmax()\n",
    "print(\"Most rated movie: {}\".format(movies['title'][most_rated_idx]))\n",
    "\n",
    "_ = sns.distplot(ratings['rating'][ratings['movie_id'] == most_rated_idx], kde=False, bins=5, vertical=True)"
   ]
  },
  {
   "cell_type": "code",
   "execution_count": 10,
   "metadata": {},
   "outputs": [
    {
     "name": "stdout",
     "output_type": "stream",
     "text": [
      "movie_id\n",
      "1       4.146846\n",
      "2       3.201141\n",
      "3       3.016736\n",
      "4       2.729412\n",
      "5       3.006757\n",
      "          ...   \n",
      "3948    3.635731\n",
      "3949    4.115132\n",
      "3950    3.666667\n",
      "3951    3.900000\n",
      "3952    3.780928\n",
      "Name: rating, Length: 3706, dtype: float64\n",
      "user_id\n",
      "1       4.188679\n",
      "2       3.713178\n",
      "3       3.901961\n",
      "4       4.190476\n",
      "5       3.146465\n",
      "          ...   \n",
      "6036    3.302928\n",
      "6037    3.717822\n",
      "6038    3.800000\n",
      "6039    3.878049\n",
      "6040    3.577713\n",
      "Name: rating, Length: 6040, dtype: float64\n"
     ]
    }
   ],
   "source": [
    "print(ratings.groupby(\"movie_id\")['rating'].mean())\n",
    "print(ratings.groupby(\"user_id\")['rating'].mean())"
   ]
  },
  {
   "cell_type": "markdown",
   "metadata": {},
   "source": [
    "-------------------\n",
    "We will use the Python code below to merge all three tables into a unified data frame."
   ]
  },
  {
   "cell_type": "code",
   "execution_count": 13,
   "metadata": {},
   "outputs": [
    {
     "data": {
      "text/html": [
       "<div>\n",
       "<style scoped>\n",
       "    .dataframe tbody tr th:only-of-type {\n",
       "        vertical-align: middle;\n",
       "    }\n",
       "\n",
       "    .dataframe tbody tr th {\n",
       "        vertical-align: top;\n",
       "    }\n",
       "\n",
       "    .dataframe thead th {\n",
       "        text-align: right;\n",
       "    }\n",
       "</style>\n",
       "<table border=\"1\" class=\"dataframe\">\n",
       "  <thead>\n",
       "    <tr style=\"text-align: right;\">\n",
       "      <th></th>\n",
       "      <th>user_id</th>\n",
       "      <th>movie_id</th>\n",
       "      <th>rating</th>\n",
       "      <th>timestamp</th>\n",
       "      <th>gender</th>\n",
       "      <th>age</th>\n",
       "      <th>occupation</th>\n",
       "      <th>zip</th>\n",
       "      <th>title</th>\n",
       "      <th>genres</th>\n",
       "    </tr>\n",
       "  </thead>\n",
       "  <tbody>\n",
       "    <tr>\n",
       "      <th>0</th>\n",
       "      <td>1</td>\n",
       "      <td>1193</td>\n",
       "      <td>5</td>\n",
       "      <td>978300760</td>\n",
       "      <td>F</td>\n",
       "      <td>1</td>\n",
       "      <td>10</td>\n",
       "      <td>48067</td>\n",
       "      <td>One Flew Over the Cuckoo's Nest (1975)</td>\n",
       "      <td>Drama</td>\n",
       "    </tr>\n",
       "    <tr>\n",
       "      <th>1</th>\n",
       "      <td>2</td>\n",
       "      <td>1193</td>\n",
       "      <td>5</td>\n",
       "      <td>978298413</td>\n",
       "      <td>M</td>\n",
       "      <td>56</td>\n",
       "      <td>16</td>\n",
       "      <td>70072</td>\n",
       "      <td>One Flew Over the Cuckoo's Nest (1975)</td>\n",
       "      <td>Drama</td>\n",
       "    </tr>\n",
       "    <tr>\n",
       "      <th>2</th>\n",
       "      <td>12</td>\n",
       "      <td>1193</td>\n",
       "      <td>4</td>\n",
       "      <td>978220179</td>\n",
       "      <td>M</td>\n",
       "      <td>25</td>\n",
       "      <td>12</td>\n",
       "      <td>32793</td>\n",
       "      <td>One Flew Over the Cuckoo's Nest (1975)</td>\n",
       "      <td>Drama</td>\n",
       "    </tr>\n",
       "    <tr>\n",
       "      <th>3</th>\n",
       "      <td>15</td>\n",
       "      <td>1193</td>\n",
       "      <td>4</td>\n",
       "      <td>978199279</td>\n",
       "      <td>M</td>\n",
       "      <td>25</td>\n",
       "      <td>7</td>\n",
       "      <td>22903</td>\n",
       "      <td>One Flew Over the Cuckoo's Nest (1975)</td>\n",
       "      <td>Drama</td>\n",
       "    </tr>\n",
       "    <tr>\n",
       "      <th>4</th>\n",
       "      <td>17</td>\n",
       "      <td>1193</td>\n",
       "      <td>5</td>\n",
       "      <td>978158471</td>\n",
       "      <td>M</td>\n",
       "      <td>50</td>\n",
       "      <td>1</td>\n",
       "      <td>95350</td>\n",
       "      <td>One Flew Over the Cuckoo's Nest (1975)</td>\n",
       "      <td>Drama</td>\n",
       "    </tr>\n",
       "    <tr>\n",
       "      <th>...</th>\n",
       "      <td>...</td>\n",
       "      <td>...</td>\n",
       "      <td>...</td>\n",
       "      <td>...</td>\n",
       "      <td>...</td>\n",
       "      <td>...</td>\n",
       "      <td>...</td>\n",
       "      <td>...</td>\n",
       "      <td>...</td>\n",
       "      <td>...</td>\n",
       "    </tr>\n",
       "    <tr>\n",
       "      <th>1000204</th>\n",
       "      <td>5949</td>\n",
       "      <td>2198</td>\n",
       "      <td>5</td>\n",
       "      <td>958846401</td>\n",
       "      <td>M</td>\n",
       "      <td>18</td>\n",
       "      <td>17</td>\n",
       "      <td>47901</td>\n",
       "      <td>Modulations (1998)</td>\n",
       "      <td>Documentary</td>\n",
       "    </tr>\n",
       "    <tr>\n",
       "      <th>1000205</th>\n",
       "      <td>5675</td>\n",
       "      <td>2703</td>\n",
       "      <td>3</td>\n",
       "      <td>976029116</td>\n",
       "      <td>M</td>\n",
       "      <td>35</td>\n",
       "      <td>14</td>\n",
       "      <td>30030</td>\n",
       "      <td>Broken Vessels (1998)</td>\n",
       "      <td>Drama</td>\n",
       "    </tr>\n",
       "    <tr>\n",
       "      <th>1000206</th>\n",
       "      <td>5780</td>\n",
       "      <td>2845</td>\n",
       "      <td>1</td>\n",
       "      <td>958153068</td>\n",
       "      <td>M</td>\n",
       "      <td>18</td>\n",
       "      <td>17</td>\n",
       "      <td>92886</td>\n",
       "      <td>White Boys (1999)</td>\n",
       "      <td>Drama</td>\n",
       "    </tr>\n",
       "    <tr>\n",
       "      <th>1000207</th>\n",
       "      <td>5851</td>\n",
       "      <td>3607</td>\n",
       "      <td>5</td>\n",
       "      <td>957756608</td>\n",
       "      <td>F</td>\n",
       "      <td>18</td>\n",
       "      <td>20</td>\n",
       "      <td>55410</td>\n",
       "      <td>One Little Indian (1973)</td>\n",
       "      <td>Comedy|Drama|Western</td>\n",
       "    </tr>\n",
       "    <tr>\n",
       "      <th>1000208</th>\n",
       "      <td>5938</td>\n",
       "      <td>2909</td>\n",
       "      <td>4</td>\n",
       "      <td>957273353</td>\n",
       "      <td>M</td>\n",
       "      <td>25</td>\n",
       "      <td>1</td>\n",
       "      <td>35401</td>\n",
       "      <td>Five Wives, Three Secretaries and Me (1998)</td>\n",
       "      <td>Documentary</td>\n",
       "    </tr>\n",
       "  </tbody>\n",
       "</table>\n",
       "<p>1000209 rows × 10 columns</p>\n",
       "</div>"
      ],
      "text/plain": [
       "         user_id  movie_id  rating  timestamp gender  age  occupation    zip  \\\n",
       "0              1      1193       5  978300760      F    1          10  48067   \n",
       "1              2      1193       5  978298413      M   56          16  70072   \n",
       "2             12      1193       4  978220179      M   25          12  32793   \n",
       "3             15      1193       4  978199279      M   25           7  22903   \n",
       "4             17      1193       5  978158471      M   50           1  95350   \n",
       "...          ...       ...     ...        ...    ...  ...         ...    ...   \n",
       "1000204     5949      2198       5  958846401      M   18          17  47901   \n",
       "1000205     5675      2703       3  976029116      M   35          14  30030   \n",
       "1000206     5780      2845       1  958153068      M   18          17  92886   \n",
       "1000207     5851      3607       5  957756608      F   18          20  55410   \n",
       "1000208     5938      2909       4  957273353      M   25           1  35401   \n",
       "\n",
       "                                               title                genres  \n",
       "0             One Flew Over the Cuckoo's Nest (1975)                 Drama  \n",
       "1             One Flew Over the Cuckoo's Nest (1975)                 Drama  \n",
       "2             One Flew Over the Cuckoo's Nest (1975)                 Drama  \n",
       "3             One Flew Over the Cuckoo's Nest (1975)                 Drama  \n",
       "4             One Flew Over the Cuckoo's Nest (1975)                 Drama  \n",
       "...                                              ...                   ...  \n",
       "1000204                           Modulations (1998)           Documentary  \n",
       "1000205                        Broken Vessels (1998)                 Drama  \n",
       "1000206                            White Boys (1999)                 Drama  \n",
       "1000207                     One Little Indian (1973)  Comedy|Drama|Western  \n",
       "1000208  Five Wives, Three Secretaries and Me (1998)           Documentary  \n",
       "\n",
       "[1000209 rows x 10 columns]"
      ]
     },
     "execution_count": 13,
     "metadata": {},
     "output_type": "execute_result"
    }
   ],
   "source": [
    "data = pd.merge(pd.merge(ratings, users), movies)\n",
    "data"
   ]
  },
  {
   "cell_type": "markdown",
   "metadata": {},
   "source": [
    "The Python code below will show the top 10 films among female viewers (and, for comparison's sake, the ratings for those movies by male viewers) in decreasing order (highest rated movie on top)."
   ]
  },
  {
   "cell_type": "code",
   "execution_count": 14,
   "metadata": {},
   "outputs": [
    {
     "data": {
      "text/html": [
       "<div>\n",
       "<style scoped>\n",
       "    .dataframe tbody tr th:only-of-type {\n",
       "        vertical-align: middle;\n",
       "    }\n",
       "\n",
       "    .dataframe tbody tr th {\n",
       "        vertical-align: top;\n",
       "    }\n",
       "\n",
       "    .dataframe thead th {\n",
       "        text-align: right;\n",
       "    }\n",
       "</style>\n",
       "<table border=\"1\" class=\"dataframe\">\n",
       "  <thead>\n",
       "    <tr style=\"text-align: right;\">\n",
       "      <th>gender</th>\n",
       "      <th>F</th>\n",
       "      <th>M</th>\n",
       "    </tr>\n",
       "    <tr>\n",
       "      <th>title</th>\n",
       "      <th></th>\n",
       "      <th></th>\n",
       "    </tr>\n",
       "  </thead>\n",
       "  <tbody>\n",
       "    <tr>\n",
       "      <th>Close Shave, A (1995)</th>\n",
       "      <td>4.644444</td>\n",
       "      <td>4.473795</td>\n",
       "    </tr>\n",
       "    <tr>\n",
       "      <th>Wrong Trousers, The (1993)</th>\n",
       "      <td>4.588235</td>\n",
       "      <td>4.478261</td>\n",
       "    </tr>\n",
       "    <tr>\n",
       "      <th>Sunset Blvd. (a.k.a. Sunset Boulevard) (1950)</th>\n",
       "      <td>4.572650</td>\n",
       "      <td>4.464589</td>\n",
       "    </tr>\n",
       "    <tr>\n",
       "      <th>Wallace &amp; Gromit: The Best of Aardman Animation (1996)</th>\n",
       "      <td>4.563107</td>\n",
       "      <td>4.385075</td>\n",
       "    </tr>\n",
       "    <tr>\n",
       "      <th>Schindler's List (1993)</th>\n",
       "      <td>4.562602</td>\n",
       "      <td>4.491415</td>\n",
       "    </tr>\n",
       "    <tr>\n",
       "      <th>Shawshank Redemption, The (1994)</th>\n",
       "      <td>4.539075</td>\n",
       "      <td>4.560625</td>\n",
       "    </tr>\n",
       "    <tr>\n",
       "      <th>Grand Day Out, A (1992)</th>\n",
       "      <td>4.537879</td>\n",
       "      <td>4.293255</td>\n",
       "    </tr>\n",
       "    <tr>\n",
       "      <th>To Kill a Mockingbird (1962)</th>\n",
       "      <td>4.536667</td>\n",
       "      <td>4.372611</td>\n",
       "    </tr>\n",
       "    <tr>\n",
       "      <th>Creature Comforts (1990)</th>\n",
       "      <td>4.513889</td>\n",
       "      <td>4.272277</td>\n",
       "    </tr>\n",
       "    <tr>\n",
       "      <th>Usual Suspects, The (1995)</th>\n",
       "      <td>4.513317</td>\n",
       "      <td>4.518248</td>\n",
       "    </tr>\n",
       "  </tbody>\n",
       "</table>\n",
       "</div>"
      ],
      "text/plain": [
       "gender                                                     F         M\n",
       "title                                                                 \n",
       "Close Shave, A (1995)                               4.644444  4.473795\n",
       "Wrong Trousers, The (1993)                          4.588235  4.478261\n",
       "Sunset Blvd. (a.k.a. Sunset Boulevard) (1950)       4.572650  4.464589\n",
       "Wallace & Gromit: The Best of Aardman Animation...  4.563107  4.385075\n",
       "Schindler's List (1993)                             4.562602  4.491415\n",
       "Shawshank Redemption, The (1994)                    4.539075  4.560625\n",
       "Grand Day Out, A (1992)                             4.537879  4.293255\n",
       "To Kill a Mockingbird (1962)                        4.536667  4.372611\n",
       "Creature Comforts (1990)                            4.513889  4.272277\n",
       "Usual Suspects, The (1995)                          4.513317  4.518248"
      ]
     },
     "execution_count": 14,
     "metadata": {},
     "output_type": "execute_result"
    }
   ],
   "source": [
    "# Build pivot table\n",
    "mean_ratings = data.pivot_table('rating', index='title',\n",
    "                                columns='gender', aggfunc='mean')\n",
    "\n",
    "# Group ratings by title\n",
    "ratings_by_title = data.groupby('title').size()\n",
    "\n",
    "# Select only movies with 250 ratings or more\n",
    "active_titles = ratings_by_title.index[ratings_by_title >= 250]\n",
    "\n",
    "# Select rows on the index\n",
    "mean_ratings = mean_ratings.loc[active_titles]\n",
    "\n",
    "# Fix naming inconsistency\n",
    "mean_ratings = mean_ratings.rename(index={'Seven Samurai (The Magnificent Seven) (Shichinin no samurai) (1954)':\n",
    "                           'Seven Samurai (Shichinin no samurai) (1954)'})\n",
    "\n",
    "top_female_ratings = mean_ratings.sort_values(by='F', ascending=False)\n",
    "top_female_ratings[:10]"
   ]
  },
  {
   "cell_type": "markdown",
   "metadata": {},
   "source": [
    "The following code demonstrates favorite movies among male viewers with over 250 ratings or more and the top 10 favorite movies amount young viewers with more than 300 ratings."
   ]
  },
  {
   "cell_type": "code",
   "execution_count": 15,
   "metadata": {
    "colab": {},
    "colab_type": "code",
    "id": "d4jcQfb2AIub",
    "scrolled": true
   },
   "outputs": [
    {
     "name": "stderr",
     "output_type": "stream",
     "text": [
      "<ipython-input-15-8713555d2e5a>:7: UserWarning: Boolean Series key will be reindexed to match DataFrame index.\n",
      "  active_movie_ratings = male_data.groupby(\"title\").mean()[active_index]\n"
     ]
    },
    {
     "data": {
      "text/plain": [
       "title\n",
       "Godfather, The (1972)                                                  4.583333\n",
       "Seven Samurai (The Magnificent Seven) (Shichinin no samurai) (1954)    4.576628\n",
       "Shawshank Redemption, The (1994)                                       4.560625\n",
       "Raiders of the Lost Ark (1981)                                         4.520597\n",
       "Usual Suspects, The (1995)                                             4.518248\n",
       "Star Wars: Episode IV - A New Hope (1977)                              4.495307\n",
       "Schindler's List (1993)                                                4.491415\n",
       "Wrong Trousers, The (1993)                                             4.478261\n",
       "Close Shave, A (1995)                                                  4.473795\n",
       "Rear Window (1954)                                                     4.472991\n",
       "Name: rating, dtype: float64"
      ]
     },
     "execution_count": 15,
     "metadata": {},
     "output_type": "execute_result"
    }
   ],
   "source": [
    "rating_counts = data.groupby('title').count()\n",
    "\n",
    "active_index = rating_counts['rating'] >= 250\n",
    "\n",
    "male_data = data[data['gender'] == 'M']\n",
    "\n",
    "active_movie_ratings = male_data.groupby(\"title\").mean()[active_index]\n",
    "\n",
    "sorted_active_movie_ratings = active_movie_ratings.sort_values(by=\"rating\", ascending=False)['rating']\n",
    "\n",
    "sorted_active_movie_ratings[:10]"
   ]
  },
  {
   "cell_type": "code",
   "execution_count": 16,
   "metadata": {},
   "outputs": [
    {
     "name": "stderr",
     "output_type": "stream",
     "text": [
      "<ipython-input-16-ec31a92b08a3>:7: UserWarning: Boolean Series key will be reindexed to match DataFrame index.\n",
      "  active_movie_ratings = teen_data.groupby(\"title\").mean()[active_index]\n"
     ]
    },
    {
     "data": {
      "text/plain": [
       "title\n",
       "Metropolis (1926)              4.888889\n",
       "GoodFellas (1990)              4.840000\n",
       "Third Man, The (1949)          4.818182\n",
       "Double Indemnity (1944)        4.777778\n",
       "Piano, The (1993)              4.750000\n",
       "Fried Green Tomatoes (1991)    4.750000\n",
       "Raging Bull (1980)             4.714286\n",
       "Roman Holiday (1953)           4.687500\n",
       "Citizen Kane (1941)            4.680000\n",
       "Notorious (1946)               4.666667\n",
       "Name: rating, dtype: float64"
      ]
     },
     "execution_count": 16,
     "metadata": {},
     "output_type": "execute_result"
    }
   ],
   "source": [
    "rating_counts = data.groupby('title').count()\n",
    "\n",
    "active_index = rating_counts['rating'] >= 300\n",
    "\n",
    "teen_data = data[data['age'] <= 17]\n",
    "\n",
    "active_movie_ratings = teen_data.groupby(\"title\").mean()[active_index]\n",
    "\n",
    "sorted_active_movie_ratings = active_movie_ratings.sort_values(by=\"rating\", ascending=False)['rating']\n",
    "\n",
    "sorted_active_movie_ratings[:10]"
   ]
  },
  {
   "cell_type": "markdown",
   "metadata": {
    "colab_type": "text",
    "id": "QtjTzR09-PyS"
   },
   "source": [
    "The following code finds\n",
    "- The top 10 movies with the greatest rating difference so that we can see which ones were preferred by women.\n",
    "- The top 10 movies with the greatest rating difference in the opposite direction (sign) so that we can see which ones were preferred by men."
   ]
  },
  {
   "cell_type": "code",
   "execution_count": 17,
   "metadata": {
    "colab": {},
    "colab_type": "code",
    "id": "d4jcQfb2AIub"
   },
   "outputs": [
    {
     "name": "stdout",
     "output_type": "stream",
     "text": [
      "Male differences:\n",
      "title\n",
      "Good, The Bad and The Ugly, The (1966)    0.73\n",
      "Kentucky Fried Movie, The (1977)          0.68\n",
      "Dumb & Dumber (1994)                      0.64\n",
      "Longest Day, The (1962)                   0.62\n",
      "Cable Guy, The (1996)                     0.61\n",
      "Evil Dead II (Dead By Dawn) (1987)        0.61\n",
      "Hidden, The (1987)                        0.61\n",
      "Rocky III (1982)                          0.58\n",
      "Caddyshack (1980)                         0.57\n",
      "Animal House (1978)                       0.54\n",
      "dtype: float64\n",
      "\n",
      "Female differences:\n",
      "title\n",
      "Dirty Dancing (1987)                     0.83\n",
      "Jumpin' Jack Flash (1986)                0.68\n",
      "Grease (1978)                            0.61\n",
      "Little Women (1994)                      0.55\n",
      "Steel Magnolias (1989)                   0.54\n",
      "Anastasia (1997)                         0.52\n",
      "Rocky Horror Picture Show, The (1975)    0.51\n",
      "Color Purple, The (1985)                 0.50\n",
      "Age of Innocence, The (1993)             0.49\n",
      "French Kiss (1995)                       0.48\n",
      "dtype: float64\n"
     ]
    }
   ],
   "source": [
    "rating_counts = data.groupby('title').count()\n",
    "\n",
    "active_index = rating_counts['rating'] >= 250\n",
    "\n",
    "mean_ratings = data.pivot_table(\"rating\", index=\"title\", columns=\"gender\")[active_index]\n",
    "\n",
    "m_diff = round(mean_ratings['M'] - mean_ratings['F'], 2).sort_values(ascending=False)\n",
    "f_diff = round(mean_ratings['F'] - mean_ratings['M'], 2).sort_values(ascending=False)\n",
    "\n",
    "print(\"Male differences:\\n{}\\n\\nFemale differences:\\n{}\".format(m_diff[:10], f_diff[:10]))"
   ]
  },
  {
   "cell_type": "markdown",
   "metadata": {
    "colab_type": "text",
    "id": "QtjTzR09-PyS"
   },
   "source": [
    "The following code finds films which elicited the most disagreement among viewers."
   ]
  },
  {
   "cell_type": "code",
   "execution_count": 14,
   "metadata": {
    "colab": {},
    "colab_type": "code",
    "id": "d4jcQfb2AIub"
   },
   "outputs": [
    {
     "data": {
      "text/plain": [
       "title\n",
       "Foreign Student (1994)                                             2.828427\n",
       "Criminal Lovers (Les Amants Criminels) (1999)                      2.309401\n",
       "Identification of a Woman (Identificazione di una donna) (1982)    2.121320\n",
       "Sunset Park (1996)                                                 2.121320\n",
       "Eaten Alive (1976)                                                 2.121320\n",
       "Neon Bible, The (1995)                                             2.121320\n",
       "Talk of Angels (1998)                                              2.121320\n",
       "Tokyo Fist (1995)                                                  2.121320\n",
       "Paralyzing Fear: The Story of Polio in America, A (1998)           2.121320\n",
       "Better Living (1998)                                               2.121320\n",
       "Name: rating, dtype: float64"
      ]
     },
     "execution_count": 14,
     "metadata": {},
     "output_type": "execute_result"
    }
   ],
   "source": [
    "rating_counts = data.groupby('title').count()\n",
    "\n",
    "active_index = rating_counts['rating'] >= 250\n",
    "\n",
    "var_ratings = data.groupby(\"title\")['rating'].std().sort_values(ascending=False)\n",
    "\n",
    "var_ratings[:10]"
   ]
  },
  {
   "cell_type": "markdown",
   "metadata": {
    "colab_type": "text",
    "id": "QtjTzR09-PyS"
   },
   "source": [
    "What is the most popular movie genre? "
   ]
  },
  {
   "cell_type": "code",
   "execution_count": 18,
   "metadata": {
    "colab": {},
    "colab_type": "code",
    "id": "d4jcQfb2AIub"
   },
   "outputs": [
    {
     "data": {
      "image/png": "[encoded data removed]",
      "text/plain": [
       "<Figure size 1584x360 with 1 Axes>"
      ]
     },
     "metadata": {},
     "output_type": "display_data"
    }
   ],
   "source": [
    "from collections import defaultdict\n",
    "\n",
    "hist = defaultdict(lambda: 0)\n",
    "\n",
    "for genre_str in movies['genres']:\n",
    "    for genre in genre_str.split('|'):\n",
    "        hist[genre] += 1\n",
    "\n",
    "plt.figure(figsize=(22,5))\n",
    "plt.bar(hist.keys(), hist.values())\n",
    "plt.style.use('fivethirtyeight')"
   ]
  },
  {
   "cell_type": "markdown",
   "metadata": {},
   "source": [
    "## Titanic Dataset"
   ]
  },
  {
   "cell_type": "code",
   "execution_count": 23,
   "metadata": {},
   "outputs": [],
   "source": [
    "titanic = sns.load_dataset('titanic')"
   ]
  },
  {
   "cell_type": "code",
   "execution_count": 24,
   "metadata": {},
   "outputs": [
    {
     "data": {
      "text/html": [
       "<div>\n",
       "<style scoped>\n",
       "    .dataframe tbody tr th:only-of-type {\n",
       "        vertical-align: middle;\n",
       "    }\n",
       "\n",
       "    .dataframe tbody tr th {\n",
       "        vertical-align: top;\n",
       "    }\n",
       "\n",
       "    .dataframe thead th {\n",
       "        text-align: right;\n",
       "    }\n",
       "</style>\n",
       "<table border=\"1\" class=\"dataframe\">\n",
       "  <thead>\n",
       "    <tr style=\"text-align: right;\">\n",
       "      <th></th>\n",
       "      <th>survived</th>\n",
       "      <th>pclass</th>\n",
       "      <th>sex</th>\n",
       "      <th>age</th>\n",
       "      <th>sibsp</th>\n",
       "      <th>parch</th>\n",
       "      <th>fare</th>\n",
       "      <th>embarked</th>\n",
       "      <th>class</th>\n",
       "      <th>who</th>\n",
       "      <th>adult_male</th>\n",
       "      <th>deck</th>\n",
       "      <th>embark_town</th>\n",
       "      <th>alive</th>\n",
       "      <th>alone</th>\n",
       "    </tr>\n",
       "  </thead>\n",
       "  <tbody>\n",
       "    <tr>\n",
       "      <th>0</th>\n",
       "      <td>0</td>\n",
       "      <td>3</td>\n",
       "      <td>male</td>\n",
       "      <td>22.0</td>\n",
       "      <td>1</td>\n",
       "      <td>0</td>\n",
       "      <td>7.2500</td>\n",
       "      <td>S</td>\n",
       "      <td>Third</td>\n",
       "      <td>man</td>\n",
       "      <td>True</td>\n",
       "      <td>NaN</td>\n",
       "      <td>Southampton</td>\n",
       "      <td>no</td>\n",
       "      <td>False</td>\n",
       "    </tr>\n",
       "    <tr>\n",
       "      <th>1</th>\n",
       "      <td>1</td>\n",
       "      <td>1</td>\n",
       "      <td>female</td>\n",
       "      <td>38.0</td>\n",
       "      <td>1</td>\n",
       "      <td>0</td>\n",
       "      <td>71.2833</td>\n",
       "      <td>C</td>\n",
       "      <td>First</td>\n",
       "      <td>woman</td>\n",
       "      <td>False</td>\n",
       "      <td>C</td>\n",
       "      <td>Cherbourg</td>\n",
       "      <td>yes</td>\n",
       "      <td>False</td>\n",
       "    </tr>\n",
       "    <tr>\n",
       "      <th>2</th>\n",
       "      <td>1</td>\n",
       "      <td>3</td>\n",
       "      <td>female</td>\n",
       "      <td>26.0</td>\n",
       "      <td>0</td>\n",
       "      <td>0</td>\n",
       "      <td>7.9250</td>\n",
       "      <td>S</td>\n",
       "      <td>Third</td>\n",
       "      <td>woman</td>\n",
       "      <td>False</td>\n",
       "      <td>NaN</td>\n",
       "      <td>Southampton</td>\n",
       "      <td>yes</td>\n",
       "      <td>True</td>\n",
       "    </tr>\n",
       "    <tr>\n",
       "      <th>3</th>\n",
       "      <td>1</td>\n",
       "      <td>1</td>\n",
       "      <td>female</td>\n",
       "      <td>35.0</td>\n",
       "      <td>1</td>\n",
       "      <td>0</td>\n",
       "      <td>53.1000</td>\n",
       "      <td>S</td>\n",
       "      <td>First</td>\n",
       "      <td>woman</td>\n",
       "      <td>False</td>\n",
       "      <td>C</td>\n",
       "      <td>Southampton</td>\n",
       "      <td>yes</td>\n",
       "      <td>False</td>\n",
       "    </tr>\n",
       "    <tr>\n",
       "      <th>4</th>\n",
       "      <td>0</td>\n",
       "      <td>3</td>\n",
       "      <td>male</td>\n",
       "      <td>35.0</td>\n",
       "      <td>0</td>\n",
       "      <td>0</td>\n",
       "      <td>8.0500</td>\n",
       "      <td>S</td>\n",
       "      <td>Third</td>\n",
       "      <td>man</td>\n",
       "      <td>True</td>\n",
       "      <td>NaN</td>\n",
       "      <td>Southampton</td>\n",
       "      <td>no</td>\n",
       "      <td>True</td>\n",
       "    </tr>\n",
       "  </tbody>\n",
       "</table>\n",
       "</div>"
      ],
      "text/plain": [
       "   survived  pclass     sex   age  sibsp  parch     fare embarked  class  \\\n",
       "0         0       3    male  22.0      1      0   7.2500        S  Third   \n",
       "1         1       1  female  38.0      1      0  71.2833        C  First   \n",
       "2         1       3  female  26.0      0      0   7.9250        S  Third   \n",
       "3         1       1  female  35.0      1      0  53.1000        S  First   \n",
       "4         0       3    male  35.0      0      0   8.0500        S  Third   \n",
       "\n",
       "     who  adult_male deck  embark_town alive  alone  \n",
       "0    man        True  NaN  Southampton    no  False  \n",
       "1  woman       False    C    Cherbourg   yes  False  \n",
       "2  woman       False  NaN  Southampton   yes   True  \n",
       "3  woman       False    C  Southampton   yes  False  \n",
       "4    man        True  NaN  Southampton    no   True  "
      ]
     },
     "execution_count": 24,
     "metadata": {},
     "output_type": "execute_result"
    }
   ],
   "source": [
    "titanic.head()"
   ]
  },
  {
   "cell_type": "markdown",
   "metadata": {
    "colab_type": "text",
    "id": "TTEVu2FjOKTq"
   },
   "source": [
    "The following code addresses the following: \n",
    "- How many female passengers did not survive (regardless of their class)?\n",
    "- How many first class female passengers did not survive?\n",
    "- How many male passengers did not survive (regardless of their class)?\n",
    "- How many third class male passengers did not survive?"
   ]
  },
  {
   "cell_type": "code",
   "execution_count": 25,
   "metadata": {},
   "outputs": [
    {
     "data": {
      "text/html": [
       "<div>\n",
       "<style scoped>\n",
       "    .dataframe tbody tr th:only-of-type {\n",
       "        vertical-align: middle;\n",
       "    }\n",
       "\n",
       "    .dataframe tbody tr th {\n",
       "        vertical-align: top;\n",
       "    }\n",
       "\n",
       "    .dataframe thead th {\n",
       "        text-align: right;\n",
       "    }\n",
       "</style>\n",
       "<table border=\"1\" class=\"dataframe\">\n",
       "  <thead>\n",
       "    <tr style=\"text-align: right;\">\n",
       "      <th>class</th>\n",
       "      <th>First</th>\n",
       "      <th>Second</th>\n",
       "      <th>Third</th>\n",
       "      <th>All</th>\n",
       "    </tr>\n",
       "    <tr>\n",
       "      <th>sex</th>\n",
       "      <th></th>\n",
       "      <th></th>\n",
       "      <th></th>\n",
       "      <th></th>\n",
       "    </tr>\n",
       "  </thead>\n",
       "  <tbody>\n",
       "    <tr>\n",
       "      <th>female</th>\n",
       "      <td>0.968085</td>\n",
       "      <td>0.921053</td>\n",
       "      <td>0.500000</td>\n",
       "      <td>0.742038</td>\n",
       "    </tr>\n",
       "    <tr>\n",
       "      <th>male</th>\n",
       "      <td>0.368852</td>\n",
       "      <td>0.157407</td>\n",
       "      <td>0.135447</td>\n",
       "      <td>0.188908</td>\n",
       "    </tr>\n",
       "    <tr>\n",
       "      <th>All</th>\n",
       "      <td>0.629630</td>\n",
       "      <td>0.472826</td>\n",
       "      <td>0.242363</td>\n",
       "      <td>0.383838</td>\n",
       "    </tr>\n",
       "  </tbody>\n",
       "</table>\n",
       "</div>"
      ],
      "text/plain": [
       "class      First    Second     Third       All\n",
       "sex                                           \n",
       "female  0.968085  0.921053  0.500000  0.742038\n",
       "male    0.368852  0.157407  0.135447  0.188908\n",
       "All     0.629630  0.472826  0.242363  0.383838"
      ]
     },
     "execution_count": 25,
     "metadata": {},
     "output_type": "execute_result"
    }
   ],
   "source": [
    "titanic.pivot_table('survived', index='sex', columns='class', margins=True)"
   ]
  },
  {
   "cell_type": "code",
   "execution_count": 26,
   "metadata": {},
   "outputs": [
    {
     "data": {
      "image/png": "[encoded data removed]",
      "text/plain": [
       "<Figure size 461.775x360 with 1 Axes>"
      ]
     },
     "metadata": {},
     "output_type": "display_data"
    }
   ],
   "source": [
    "sns.catplot(x=\"sex\", y=\"survived\", hue=\"class\", kind=\"bar\", data=titanic);"
   ]
  },
  {
   "cell_type": "code",
   "execution_count": 27,
   "metadata": {},
   "outputs": [
    {
     "name": "stdout",
     "output_type": "stream",
     "text": [
      "Female passengers who did not survive: 25.80%\n",
      "Female first class passengers who did not survive: 3.19%\n",
      "Male passengers who did not survive: 81.11%\n",
      "Male third class passengers who did not survive: 86.46%\n"
     ]
    }
   ],
   "source": [
    "f_deathrate = 1 - titanic.pivot_table(\"survived\", columns=\"sex\").values[0][0]\n",
    "print(\"Female passengers who did not survive: {:.2f}%\".format(f_deathrate * 100))\n",
    "\n",
    "f_1st_deathrate = 1- titanic[titanic['class'] == 'First'].pivot_table(\"survived\", columns=\"sex\").values[0][0]\n",
    "print(\"Female first class passengers who did not survive: {:.2f}%\".format(f_1st_deathrate * 100))\n",
    "\n",
    "m_deathrate = 1 - titanic.pivot_table(\"survived\", columns=\"sex\").values[0][1]\n",
    "print(\"Male passengers who did not survive: {:.2f}%\".format(m_deathrate * 100))\n",
    "\n",
    "m_3rd_deathrate = 1 - titanic[titanic['class'] == 'Third'].pivot_table(\"survived\", columns=\"sex\").values[0][1]\n",
    "print(\"Male third class passengers who did not survive: {:.2f}%\".format(m_3rd_deathrate * 100))"
   ]
  },
  {
   "cell_type": "markdown",
   "metadata": {},
   "source": [
    "How many passengers (absolute number) were there per deck/class? \n",
    "\n",
    "How many passengers (absolute number) in Deck A survived?\n",
    "\n",
    "How many passengers (absolute number) in Deck E survived and what was the breakdown (in Deck E) per class?"
   ]
  },
  {
   "cell_type": "code",
   "execution_count": 28,
   "metadata": {
    "colab": {},
    "colab_type": "code",
    "id": "ZZqA7kEWOKTl",
    "scrolled": true
   },
   "outputs": [
    {
     "name": "stdout",
     "output_type": "stream",
     "text": [
      "Distribution by deck and class:\n",
      "class  First  Second  Third\n",
      "deck                       \n",
      "A         15       0      0\n",
      "B         47       0      0\n",
      "C         59       0      0\n",
      "D         29       4      0\n",
      "E         25       4      3\n",
      "F          0       8      5\n",
      "G          0       0      4\n",
      "\n",
      "Deck A survivors: 7\n",
      "\n",
      "Deck E survivor breakdown:\n",
      "class\n",
      "First     18\n",
      "Second     3\n",
      "Third      3\n",
      "Name: survived, dtype: int64\n"
     ]
    }
   ],
   "source": [
    "deck_class_dist = titanic.pivot_table('who', index=\"deck\", columns=\"class\", aggfunc=\"count\", fill_value=0)\n",
    "print(\"Distribution by deck and class:\\n{}\\n\".format(deck_class_dist))\n",
    "\n",
    "print(\"Deck A survivors: {}\\n\".format(titanic[titanic['deck'] == 'A']['survived'].sum()))\n",
    "\n",
    "print(\"Deck E survivor breakdown:\\n{}\".format(titanic[titanic['deck'] == 'E'].groupby(\"class\").sum()['survived']))"
   ]
  },
  {
   "cell_type": "markdown",
   "metadata": {
    "colab_type": "text",
    "id": "QtjTzR09-PyS"
   },
   "source": [
    "How many women traveling alone did not survive?\n",
    "\n",
    "How many men 35 years old or younger did not survive?\n",
    "\n",
    "What was the average fare per class?"
   ]
  },
  {
   "cell_type": "code",
   "execution_count": 22,
   "metadata": {
    "colab": {},
    "colab_type": "code",
    "id": "d4jcQfb2AIub"
   },
   "outputs": [
    {
     "name": "stdout",
     "output_type": "stream",
     "text": [
      "Women traveling alone: 21.43%\n",
      "\n",
      "Men 35 years or younger who died: 78.32%\n",
      "\n",
      "Average fare by class:\n",
      "class\n",
      "First     84.154687\n",
      "Second    20.662183\n",
      "Third     13.675550\n",
      "Name: fare, dtype: float64\n"
     ]
    }
   ],
   "source": [
    "f_alone_deathrate = 1 - titanic[titanic['alone'] == True].groupby(by=\"sex\").mean()['survived']['female']\n",
    "print(\"Women traveling alone: {:.2f}%\\n\".format(f_alone_deathrate*100))\n",
    "\n",
    "men = titanic[(titanic['age'] <= 35) & (titanic['sex'] == 'male')].groupby('survived').count()['who']\n",
    "print(\"Men 35 years or younger who died: {:.2f}%\\n\".format((men[0] / men.sum() * 100)))\n",
    "\n",
    "print(\"Average fare by class:\\n{}\".format(titanic.groupby(\"class\")[\"fare\"].mean()))"
   ]
  },
  {
   "cell_type": "markdown",
   "metadata": {},
   "source": [
    "## Baby Births"
   ]
  },
  {
   "cell_type": "code",
   "execution_count": 34,
   "metadata": {},
   "outputs": [],
   "source": [
    "years = range(1880, 2019)\n",
    "\n",
    "pieces = []\n",
    "columns = ['name', 'sex', 'births']\n",
    "\n",
    "for year in years:\n",
    "    path = 'data/names/yob%d.txt' % year\n",
    "    frame = pd.read_csv(path, names=columns)\n",
    "\n",
    "    frame['year'] = year\n",
    "    pieces.append(frame)\n",
    "\n",
    "# Concatenate everything into a single DataFrame\n",
    "names = pd.concat(pieces, ignore_index=True)"
   ]
  },
  {
   "cell_type": "code",
   "execution_count": 35,
   "metadata": {
    "colab": {},
    "colab_type": "code",
    "id": "A4QFk_ktOKTo",
    "scrolled": true
   },
   "outputs": [
    {
     "data": {
      "image/png": "[encoded data removed]",
      "text/plain": [
       "<Figure size 432x288 with 1 Axes>"
      ]
     },
     "metadata": {},
     "output_type": "display_data"
    }
   ],
   "source": [
    "labels = [\"sex\", \"year\"]\n",
    "sexes = names['sex'].unique()\n",
    "x = names['year'].unique()\n",
    "\n",
    "for sex in sexes:\n",
    "    y = names.loc[names['sex'] == sex].groupby(\"year\").sum()['births']\n",
    "    sns.lineplot(x, y, label=sex)"
   ]
  },
  {
   "cell_type": "markdown",
   "metadata": {
    "colab_type": "text",
    "id": "YNr4O_tHOKTn"
   },
   "source": [
    "Analyzing Naming Trends\n",
    "\n",
    "The following code analyzes the top 1000 baby names popularity over time"
   ]
  },
  {
   "cell_type": "code",
   "execution_count": 36,
   "metadata": {},
   "outputs": [],
   "source": [
    "def add_prop(group):\n",
    "    group['prop'] = group.births / group.births.sum()\n",
    "    return group\n",
    "names = names.groupby(['year', 'sex']).apply(add_prop)"
   ]
  },
  {
   "cell_type": "code",
   "execution_count": 37,
   "metadata": {},
   "outputs": [
    {
     "data": {
      "text/html": [
       "<div>\n",
       "<style scoped>\n",
       "    .dataframe tbody tr th:only-of-type {\n",
       "        vertical-align: middle;\n",
       "    }\n",
       "\n",
       "    .dataframe tbody tr th {\n",
       "        vertical-align: top;\n",
       "    }\n",
       "\n",
       "    .dataframe thead th {\n",
       "        text-align: right;\n",
       "    }\n",
       "</style>\n",
       "<table border=\"1\" class=\"dataframe\">\n",
       "  <thead>\n",
       "    <tr style=\"text-align: right;\">\n",
       "      <th></th>\n",
       "      <th>name</th>\n",
       "      <th>sex</th>\n",
       "      <th>births</th>\n",
       "      <th>year</th>\n",
       "      <th>prop</th>\n",
       "    </tr>\n",
       "  </thead>\n",
       "  <tbody>\n",
       "    <tr>\n",
       "      <th>0</th>\n",
       "      <td>Mary</td>\n",
       "      <td>F</td>\n",
       "      <td>7065</td>\n",
       "      <td>1880</td>\n",
       "      <td>0.077642</td>\n",
       "    </tr>\n",
       "    <tr>\n",
       "      <th>1</th>\n",
       "      <td>Anna</td>\n",
       "      <td>F</td>\n",
       "      <td>2604</td>\n",
       "      <td>1880</td>\n",
       "      <td>0.028617</td>\n",
       "    </tr>\n",
       "    <tr>\n",
       "      <th>2</th>\n",
       "      <td>Emma</td>\n",
       "      <td>F</td>\n",
       "      <td>2003</td>\n",
       "      <td>1880</td>\n",
       "      <td>0.022012</td>\n",
       "    </tr>\n",
       "    <tr>\n",
       "      <th>3</th>\n",
       "      <td>Elizabeth</td>\n",
       "      <td>F</td>\n",
       "      <td>1939</td>\n",
       "      <td>1880</td>\n",
       "      <td>0.021309</td>\n",
       "    </tr>\n",
       "    <tr>\n",
       "      <th>4</th>\n",
       "      <td>Minnie</td>\n",
       "      <td>F</td>\n",
       "      <td>1746</td>\n",
       "      <td>1880</td>\n",
       "      <td>0.019188</td>\n",
       "    </tr>\n",
       "    <tr>\n",
       "      <th>...</th>\n",
       "      <td>...</td>\n",
       "      <td>...</td>\n",
       "      <td>...</td>\n",
       "      <td>...</td>\n",
       "      <td>...</td>\n",
       "    </tr>\n",
       "    <tr>\n",
       "      <th>1957041</th>\n",
       "      <td>Zylas</td>\n",
       "      <td>M</td>\n",
       "      <td>5</td>\n",
       "      <td>2018</td>\n",
       "      <td>0.000003</td>\n",
       "    </tr>\n",
       "    <tr>\n",
       "      <th>1957042</th>\n",
       "      <td>Zyran</td>\n",
       "      <td>M</td>\n",
       "      <td>5</td>\n",
       "      <td>2018</td>\n",
       "      <td>0.000003</td>\n",
       "    </tr>\n",
       "    <tr>\n",
       "      <th>1957043</th>\n",
       "      <td>Zyrie</td>\n",
       "      <td>M</td>\n",
       "      <td>5</td>\n",
       "      <td>2018</td>\n",
       "      <td>0.000003</td>\n",
       "    </tr>\n",
       "    <tr>\n",
       "      <th>1957044</th>\n",
       "      <td>Zyron</td>\n",
       "      <td>M</td>\n",
       "      <td>5</td>\n",
       "      <td>2018</td>\n",
       "      <td>0.000003</td>\n",
       "    </tr>\n",
       "    <tr>\n",
       "      <th>1957045</th>\n",
       "      <td>Zzyzx</td>\n",
       "      <td>M</td>\n",
       "      <td>5</td>\n",
       "      <td>2018</td>\n",
       "      <td>0.000003</td>\n",
       "    </tr>\n",
       "  </tbody>\n",
       "</table>\n",
       "<p>1957046 rows × 5 columns</p>\n",
       "</div>"
      ],
      "text/plain": [
       "              name sex  births  year      prop\n",
       "0             Mary   F    7065  1880  0.077642\n",
       "1             Anna   F    2604  1880  0.028617\n",
       "2             Emma   F    2003  1880  0.022012\n",
       "3        Elizabeth   F    1939  1880  0.021309\n",
       "4           Minnie   F    1746  1880  0.019188\n",
       "...            ...  ..     ...   ...       ...\n",
       "1957041      Zylas   M       5  2018  0.000003\n",
       "1957042      Zyran   M       5  2018  0.000003\n",
       "1957043      Zyrie   M       5  2018  0.000003\n",
       "1957044      Zyron   M       5  2018  0.000003\n",
       "1957045      Zzyzx   M       5  2018  0.000003\n",
       "\n",
       "[1957046 rows x 5 columns]"
      ]
     },
     "execution_count": 37,
     "metadata": {},
     "output_type": "execute_result"
    }
   ],
   "source": [
    "names"
   ]
  },
  {
   "cell_type": "code",
   "execution_count": 38,
   "metadata": {},
   "outputs": [
    {
     "data": {
      "text/plain": [
       "year  sex\n",
       "1880  F      1.0\n",
       "      M      1.0\n",
       "1881  F      1.0\n",
       "      M      1.0\n",
       "1882  F      1.0\n",
       "            ... \n",
       "2016  M      1.0\n",
       "2017  F      1.0\n",
       "      M      1.0\n",
       "2018  F      1.0\n",
       "      M      1.0\n",
       "Name: prop, Length: 278, dtype: float64"
      ]
     },
     "execution_count": 38,
     "metadata": {},
     "output_type": "execute_result"
    }
   ],
   "source": [
    "# Sanity check (all percentages should add up to 1, i.e., 100%)\n",
    "names.groupby(['year', 'sex']).prop.sum()"
   ]
  },
  {
   "cell_type": "code",
   "execution_count": 39,
   "metadata": {},
   "outputs": [],
   "source": [
    "def get_top1000(group):\n",
    "    return group.sort_values(by='births', ascending=False)[:1000]\n",
    "grouped = names.groupby(['year', 'sex'])\n",
    "top1000 = grouped.apply(get_top1000)\n",
    "# Drop the group index, not needed\n",
    "top1000.reset_index(inplace=True, drop=True)"
   ]
  },
  {
   "cell_type": "code",
   "execution_count": 40,
   "metadata": {},
   "outputs": [
    {
     "data": {
      "text/html": [
       "<div>\n",
       "<style scoped>\n",
       "    .dataframe tbody tr th:only-of-type {\n",
       "        vertical-align: middle;\n",
       "    }\n",
       "\n",
       "    .dataframe tbody tr th {\n",
       "        vertical-align: top;\n",
       "    }\n",
       "\n",
       "    .dataframe thead th {\n",
       "        text-align: right;\n",
       "    }\n",
       "</style>\n",
       "<table border=\"1\" class=\"dataframe\">\n",
       "  <thead>\n",
       "    <tr style=\"text-align: right;\">\n",
       "      <th></th>\n",
       "      <th>name</th>\n",
       "      <th>sex</th>\n",
       "      <th>births</th>\n",
       "      <th>year</th>\n",
       "      <th>prop</th>\n",
       "    </tr>\n",
       "  </thead>\n",
       "  <tbody>\n",
       "    <tr>\n",
       "      <th>0</th>\n",
       "      <td>Mary</td>\n",
       "      <td>F</td>\n",
       "      <td>7065</td>\n",
       "      <td>1880</td>\n",
       "      <td>0.077642</td>\n",
       "    </tr>\n",
       "    <tr>\n",
       "      <th>1</th>\n",
       "      <td>Anna</td>\n",
       "      <td>F</td>\n",
       "      <td>2604</td>\n",
       "      <td>1880</td>\n",
       "      <td>0.028617</td>\n",
       "    </tr>\n",
       "    <tr>\n",
       "      <th>2</th>\n",
       "      <td>Emma</td>\n",
       "      <td>F</td>\n",
       "      <td>2003</td>\n",
       "      <td>1880</td>\n",
       "      <td>0.022012</td>\n",
       "    </tr>\n",
       "    <tr>\n",
       "      <th>3</th>\n",
       "      <td>Elizabeth</td>\n",
       "      <td>F</td>\n",
       "      <td>1939</td>\n",
       "      <td>1880</td>\n",
       "      <td>0.021309</td>\n",
       "    </tr>\n",
       "    <tr>\n",
       "      <th>4</th>\n",
       "      <td>Minnie</td>\n",
       "      <td>F</td>\n",
       "      <td>1746</td>\n",
       "      <td>1880</td>\n",
       "      <td>0.019188</td>\n",
       "    </tr>\n",
       "    <tr>\n",
       "      <th>...</th>\n",
       "      <td>...</td>\n",
       "      <td>...</td>\n",
       "      <td>...</td>\n",
       "      <td>...</td>\n",
       "      <td>...</td>\n",
       "    </tr>\n",
       "    <tr>\n",
       "      <th>277872</th>\n",
       "      <td>Korbyn</td>\n",
       "      <td>M</td>\n",
       "      <td>207</td>\n",
       "      <td>2018</td>\n",
       "      <td>0.000115</td>\n",
       "    </tr>\n",
       "    <tr>\n",
       "      <th>277873</th>\n",
       "      <td>Randall</td>\n",
       "      <td>M</td>\n",
       "      <td>207</td>\n",
       "      <td>2018</td>\n",
       "      <td>0.000115</td>\n",
       "    </tr>\n",
       "    <tr>\n",
       "      <th>277874</th>\n",
       "      <td>Benton</td>\n",
       "      <td>M</td>\n",
       "      <td>206</td>\n",
       "      <td>2018</td>\n",
       "      <td>0.000114</td>\n",
       "    </tr>\n",
       "    <tr>\n",
       "      <th>277875</th>\n",
       "      <td>Coleman</td>\n",
       "      <td>M</td>\n",
       "      <td>206</td>\n",
       "      <td>2018</td>\n",
       "      <td>0.000114</td>\n",
       "    </tr>\n",
       "    <tr>\n",
       "      <th>277876</th>\n",
       "      <td>Markus</td>\n",
       "      <td>M</td>\n",
       "      <td>206</td>\n",
       "      <td>2018</td>\n",
       "      <td>0.000114</td>\n",
       "    </tr>\n",
       "  </tbody>\n",
       "</table>\n",
       "<p>277877 rows × 5 columns</p>\n",
       "</div>"
      ],
      "text/plain": [
       "             name sex  births  year      prop\n",
       "0            Mary   F    7065  1880  0.077642\n",
       "1            Anna   F    2604  1880  0.028617\n",
       "2            Emma   F    2003  1880  0.022012\n",
       "3       Elizabeth   F    1939  1880  0.021309\n",
       "4          Minnie   F    1746  1880  0.019188\n",
       "...           ...  ..     ...   ...       ...\n",
       "277872     Korbyn   M     207  2018  0.000115\n",
       "277873    Randall   M     207  2018  0.000115\n",
       "277874     Benton   M     206  2018  0.000114\n",
       "277875    Coleman   M     206  2018  0.000114\n",
       "277876     Markus   M     206  2018  0.000114\n",
       "\n",
       "[277877 rows x 5 columns]"
      ]
     },
     "execution_count": 40,
     "metadata": {},
     "output_type": "execute_result"
    }
   ],
   "source": [
    "top1000"
   ]
  },
  {
   "cell_type": "code",
   "execution_count": 41,
   "metadata": {},
   "outputs": [],
   "source": [
    "boys = top1000[top1000.sex == 'M']\n",
    "girls = top1000[top1000.sex == 'F']"
   ]
  },
  {
   "cell_type": "code",
   "execution_count": 42,
   "metadata": {},
   "outputs": [],
   "source": [
    "total_births = top1000.pivot_table('births', index='year',\n",
    "                                   columns='name',\n",
    "                                   aggfunc=sum)"
   ]
  },
  {
   "cell_type": "code",
   "execution_count": 43,
   "metadata": {},
   "outputs": [
    {
     "name": "stdout",
     "output_type": "stream",
     "text": [
      "<class 'pandas.core.frame.DataFrame'>\n",
      "Int64Index: 139 entries, 1880 to 2018\n",
      "Columns: 7174 entries, Aaden to Zyaire\n",
      "dtypes: float64(7174)\n",
      "memory usage: 7.6 MB\n"
     ]
    }
   ],
   "source": [
    "total_births.info()"
   ]
  },
  {
   "cell_type": "code",
   "execution_count": 44,
   "metadata": {},
   "outputs": [
    {
     "data": {
      "image/png": "[encoded data removed]",
      "text/plain": [
       "<Figure size 864x720 with 4 Axes>"
      ]
     },
     "metadata": {},
     "output_type": "display_data"
    }
   ],
   "source": [
    "subset = total_births[['John', 'Noah', 'Madison', 'Lorraine']]\n",
    "subset.plot(subplots=True, figsize=(12, 10), grid=False,\n",
    "            title=\"Number of births per year\")\n",
    "plt.show()"
   ]
  },
  {
   "attachments": {},
   "cell_type": "markdown",
   "metadata": {
    "colab_type": "text",
    "id": "TTEVu2FjOKTq"
   },
   "source": [
    "The following python code tests the hypothesis there has been an increase in naming diversity over time. "
   ]
  },
  {
   "cell_type": "code",
   "execution_count": 45,
   "metadata": {},
   "outputs": [
    {
     "data": {
      "image/png": "[encoded data removed]",
      "text/plain": [
       "<Figure size 432x288 with 1 Axes>"
      ]
     },
     "metadata": {},
     "output_type": "display_data"
    }
   ],
   "source": [
    "from collections import defaultdict\n",
    "\n",
    "total_year = names.groupby([\"sex\", \"year\"]).sum()['births']\n",
    "names_by_year = defaultdict(lambda: list())\n",
    "\n",
    "max_names = 1000\n",
    "sexes = names['sex'].unique()\n",
    "\n",
    "for sex in sexes:\n",
    "    \n",
    "    iterable = total_year[sex,].items()\n",
    "    \n",
    "    for year, total in iterable:\n",
    "        temp = 0\n",
    "\n",
    "        year_names = names[names['year'] == year].groupby('name')\n",
    "        sorted_year_names = year_names.sum().sort_values('births', ascending=False)['births']\n",
    "\n",
    "        for name, births in sorted_year_names[0:max_names].items():\n",
    "            if temp <= total // 2:\n",
    "                temp += births\n",
    "                names_by_year[year].append(name)\n",
    "\n",
    "            else:\n",
    "                names_by_year[year].append(np.nan)\n",
    "\n",
    "    final = pd.DataFrame.from_dict(names_by_year)\n",
    "    sns.lineplot(final.columns.values, final.count(), label=sex)"
   ]
  },
  {
   "cell_type": "markdown",
   "metadata": {
    "colab_type": "text",
    "id": "YNr4O_tHOKTn"
   },
   "source": [
    "Boy names that became girl names (and vice versa)"
   ]
  },
  {
   "cell_type": "code",
   "execution_count": 46,
   "metadata": {},
   "outputs": [
    {
     "data": {
      "text/plain": [
       "632     Leslie\n",
       "2294    Lesley\n",
       "4264    Leslee\n",
       "4732     Lesli\n",
       "6108     Lesly\n",
       "dtype: object"
      ]
     },
     "execution_count": 46,
     "metadata": {},
     "output_type": "execute_result"
    }
   ],
   "source": [
    "all_names = pd.Series(top1000.name.unique())\n",
    "lesley_like = all_names[all_names.str.lower().str.contains('lesl')]\n",
    "lesley_like"
   ]
  },
  {
   "cell_type": "code",
   "execution_count": 47,
   "metadata": {},
   "outputs": [
    {
     "data": {
      "text/plain": [
       "name\n",
       "Leslee       993\n",
       "Lesley     35033\n",
       "Lesli        929\n",
       "Leslie    378168\n",
       "Lesly      11433\n",
       "Name: births, dtype: int64"
      ]
     },
     "execution_count": 47,
     "metadata": {},
     "output_type": "execute_result"
    }
   ],
   "source": [
    "filtered = top1000[top1000.name.isin(lesley_like)]\n",
    "filtered.groupby('name').births.sum()"
   ]
  },
  {
   "cell_type": "code",
   "execution_count": 48,
   "metadata": {},
   "outputs": [],
   "source": [
    "table = filtered.pivot_table('births', index='year',\n",
    "                             columns='sex', aggfunc='sum')\n",
    "table = table.div(table.sum(1), axis=0)"
   ]
  },
  {
   "cell_type": "code",
   "execution_count": 49,
   "metadata": {
    "scrolled": true
   },
   "outputs": [
    {
     "data": {
      "text/plain": [
       "<AxesSubplot:xlabel='year'>"
      ]
     },
     "execution_count": 49,
     "metadata": {},
     "output_type": "execute_result"
    },
    {
     "data": {
      "text/plain": [
       "<Figure size 432x288 with 0 Axes>"
      ]
     },
     "metadata": {},
     "output_type": "display_data"
    },
    {
     "data": {
      "image/png": "[encoded data removed]",
      "text/plain": [
       "<Figure size 432x288 with 1 Axes>"
      ]
     },
     "metadata": {},
     "output_type": "display_data"
    }
   ],
   "source": [
    "fig = plt.figure()\n",
    "table.plot(style={'M': 'b-', 'F': 'r--'})"
   ]
  },
  {
   "cell_type": "markdown",
   "metadata": {
    "colab_type": "text",
    "id": "KsQUHbQXOKTt"
   },
   "source": [
    "Hypothesis 2: The number of gender name outliers (a popular name for the opposite gender) increased over time"
   ]
  },
  {
   "cell_type": "code",
   "execution_count": 50,
   "metadata": {},
   "outputs": [
    {
     "name": "stdout",
     "output_type": "stream",
     "text": [
      "(5000, 2)\n"
     ]
    },
    {
     "data": {
      "text/html": [
       "<div>\n",
       "<style scoped>\n",
       "    .dataframe tbody tr th:only-of-type {\n",
       "        vertical-align: middle;\n",
       "    }\n",
       "\n",
       "    .dataframe tbody tr th {\n",
       "        vertical-align: top;\n",
       "    }\n",
       "\n",
       "    .dataframe thead th {\n",
       "        text-align: right;\n",
       "    }\n",
       "</style>\n",
       "<table border=\"1\" class=\"dataframe\">\n",
       "  <thead>\n",
       "    <tr style=\"text-align: right;\">\n",
       "      <th></th>\n",
       "      <th>F</th>\n",
       "      <th>M</th>\n",
       "    </tr>\n",
       "  </thead>\n",
       "  <tbody>\n",
       "    <tr>\n",
       "      <th>0</th>\n",
       "      <td>Mary</td>\n",
       "      <td>James</td>\n",
       "    </tr>\n",
       "    <tr>\n",
       "      <th>1</th>\n",
       "      <td>Elizabeth</td>\n",
       "      <td>John</td>\n",
       "    </tr>\n",
       "    <tr>\n",
       "      <th>2</th>\n",
       "      <td>Patricia</td>\n",
       "      <td>Robert</td>\n",
       "    </tr>\n",
       "    <tr>\n",
       "      <th>3</th>\n",
       "      <td>Jennifer</td>\n",
       "      <td>Michael</td>\n",
       "    </tr>\n",
       "    <tr>\n",
       "      <th>4</th>\n",
       "      <td>Linda</td>\n",
       "      <td>William</td>\n",
       "    </tr>\n",
       "  </tbody>\n",
       "</table>\n",
       "</div>"
      ],
      "text/plain": [
       "           F        M\n",
       "0       Mary    James\n",
       "1  Elizabeth     John\n",
       "2   Patricia   Robert\n",
       "3   Jennifer  Michael\n",
       "4      Linda  William"
      ]
     },
     "execution_count": 50,
     "metadata": {},
     "output_type": "execute_result"
    }
   ],
   "source": [
    "# top names for ea gender\n",
    "max_names = 5000\n",
    "sexes = names['sex'].unique()\n",
    "top_names = pd.DataFrame(index=range(0,max_names))\n",
    "\n",
    "for sex in sexes:\n",
    "    sorted_ = names[names['sex'] == sex].groupby('name').sum().sort_values(by='births', ascending=False)['births']\n",
    "    top_names[sex] = sorted_[0:max_names].index\n",
    "\n",
    "print(top_names.shape) \n",
    "top_names.head()"
   ]
  },
  {
   "cell_type": "code",
   "execution_count": 51,
   "metadata": {},
   "outputs": [
    {
     "data": {
      "text/plain": [
       "year  name    sex\n",
       "1880  Aaron   M      102\n",
       "      Abbie   F       71\n",
       "      Abbott  M        5\n",
       "      Abby    F        6\n",
       "      Abe     M       50\n",
       "Name: births, dtype: int64"
      ]
     },
     "execution_count": 51,
     "metadata": {},
     "output_type": "execute_result"
    }
   ],
   "source": [
    "# filter main table using top names \n",
    "filtered = names[names['name'].isin(top_names.unstack())]\n",
    "\n",
    "# group, aggregate, slice and cast to tuples to create an iterable\n",
    "iterable = filtered.groupby(['year', 'name', 'sex']).sum()['births']\n",
    "iterable.head()"
   ]
  },
  {
   "cell_type": "code",
   "execution_count": 52,
   "metadata": {},
   "outputs": [],
   "source": [
    "# by using the observation that the above table will only contain\n",
    "# duplicate entries by year if theres is a gender mismatch we may do the following\n",
    "from collections import defaultdict\n",
    "\n",
    "name_dict = defaultdict(lambda: False)\n",
    "outliers = defaultdict(lambda: 0)\n",
    "current = 1880\n",
    "\n",
    "for tup, births in iterable.items():\n",
    "        year, name, sex = tup\n",
    "\n",
    "        # test for new year\n",
    "        if year != current:\n",
    "            name_dict.clear()\n",
    "            \n",
    "        current = year\n",
    "        \n",
    "        # if this isn't the first occurrence then it is a gender mismatch\n",
    "        if name_dict[name]:\n",
    "            outliers[year] += 1\n",
    "\n",
    "        # regardless of above test, set name key to true\n",
    "        name_dict[name] = True"
   ]
  },
  {
   "cell_type": "code",
   "execution_count": 53,
   "metadata": {},
   "outputs": [
    {
     "data": {
      "image/png": "[encoded data removed]",
      "text/plain": [
       "<Figure size 432x288 with 1 Axes>"
      ]
     },
     "metadata": {},
     "output_type": "display_data"
    }
   ],
   "source": [
    "x = list(outliers.keys())\n",
    "y = list(outliers.values())\n",
    "\n",
    "ax = sns.lineplot(x, y)\n",
    "ax.set(xlabel='Year', ylabel='Outliers', title='Gendered name outliers')\n",
    "plt.show()"
   ]
  }
 ],
 "metadata": {
  "colab": {
   "collapsed_sections": [
    "Sf9JB_ntOKTg"
   ],
   "name": "CAP5768_Assignment1.ipynb",
   "provenance": [],
   "version": "0.3.2"
  },
  "kernelspec": {
   "display_name": "Python 3",
   "language": "python",
   "name": "python3"
  },
  "language_info": {
   "codemirror_mode": {
    "name": "ipython",
    "version": 3
   },
   "file_extension": ".py",
   "mimetype": "text/x-python",
   "name": "python",
   "nbconvert_exporter": "python",
   "pygments_lexer": "ipython3",
   "version": "3.8.3"
  }
 },
 "nbformat": 4,
 "nbformat_minor": 1
}
