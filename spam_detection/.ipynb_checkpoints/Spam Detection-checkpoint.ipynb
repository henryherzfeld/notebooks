{
 "cells": [
  {
   "cell_type": "code",
   "execution_count": 5,
   "metadata": {},
   "outputs": [],
   "source": [
    "import os\n",
    "import numpy as np\n",
    "import pandas as pd\n",
    "import email\n",
    "from sklearn.preprocessing import OneHotEncoder\n",
    "from sklearn.neighbors import KNeighborsClassifier\n",
    "from sklearn.naive_bayes import MultinomialNB\n",
    "from sklearn.model_selection import train_test_split\n",
    "from sklearn.metrics import confusion_matrix\n",
    "from bs4 import BeautifulSoup as bs\n",
    "import ret"
   ]
  },
  {
   "cell_type": "code",
   "execution_count": 6,
   "metadata": {
    "scrolled": false
   },
   "outputs": [],
   "source": [
    "# COLLECTING\n",
    "classes = {0: \"easy_ham\", 1: \"spam\"}\n",
    "paths = [] * len(classes)\n",
    "dir_size = 0\n",
    "dir_contents = []\n",
    "\n",
    "for dir_ in classes.values():\n",
    "    paths.append(os.path.abspath(dir_))\n",
    "\n",
    "for i, path in enumerate(paths):\n",
    "    dir_contents.append(os.listdir(path))\n",
    "    dir_size += len(dir_contents)\n",
    "\n",
    "arr = pd.DataFrame((dir_size, len(classes)))\n",
    "\n",
    "for i, dir_content in enumerate(dir_contents):\n",
    "    for j, file in enumerate(dir_content):\n",
    "        email_data = open(os.path.join(paths[i], file), encoding=\"ISO-8859-1\")\n",
    "        message = email.message_from_file(email_data)\n",
    "        arr[j] = (message, i)"
   ]
  },
  {
   "cell_type": "code",
   "execution_count": 7,
   "metadata": {
    "scrolled": true
   },
   "outputs": [
    {
     "data": {
      "text/html": [
       "<div>\n",
       "<style scoped>\n",
       "    .dataframe tbody tr th:only-of-type {\n",
       "        vertical-align: middle;\n",
       "    }\n",
       "\n",
       "    .dataframe tbody tr th {\n",
       "        vertical-align: top;\n",
       "    }\n",
       "\n",
       "    .dataframe thead th {\n",
       "        text-align: right;\n",
       "    }\n",
       "</style>\n",
       "<table border=\"1\" class=\"dataframe\">\n",
       "  <thead>\n",
       "    <tr style=\"text-align: right;\">\n",
       "      <th></th>\n",
       "      <th>0</th>\n",
       "      <th>1</th>\n",
       "    </tr>\n",
       "  </thead>\n",
       "  <tbody>\n",
       "    <tr>\n",
       "      <th>0</th>\n",
       "      <td>[Return-Path, Delivered-To, Received, Received...</td>\n",
       "      <td>1</td>\n",
       "    </tr>\n",
       "    <tr>\n",
       "      <th>1</th>\n",
       "      <td>[Return-Path, Delivered-To, Received, Received...</td>\n",
       "      <td>1</td>\n",
       "    </tr>\n",
       "    <tr>\n",
       "      <th>2</th>\n",
       "      <td>[Return-Path, Delivered-To, Received, Received...</td>\n",
       "      <td>1</td>\n",
       "    </tr>\n",
       "    <tr>\n",
       "      <th>3</th>\n",
       "      <td>[Return-Path, Delivered-To, Received, Received...</td>\n",
       "      <td>1</td>\n",
       "    </tr>\n",
       "    <tr>\n",
       "      <th>4</th>\n",
       "      <td>[Return-Path, Delivered-To, Received, Received...</td>\n",
       "      <td>1</td>\n",
       "    </tr>\n",
       "  </tbody>\n",
       "</table>\n",
       "</div>"
      ],
      "text/plain": [
       "                                                   0  1\n",
       "0  [Return-Path, Delivered-To, Received, Received...  1\n",
       "1  [Return-Path, Delivered-To, Received, Received...  1\n",
       "2  [Return-Path, Delivered-To, Received, Received...  1\n",
       "3  [Return-Path, Delivered-To, Received, Received...  1\n",
       "4  [Return-Path, Delivered-To, Received, Received...  1"
      ]
     },
     "execution_count": 7,
     "metadata": {},
     "output_type": "execute_result"
    }
   ],
   "source": [
    "dataset = arr.transpose()\n",
    "dataset.head()"
   ]
  },
  {
   "cell_type": "code",
   "execution_count": 8,
   "metadata": {
    "scrolled": false
   },
   "outputs": [
    {
     "name": "stderr",
     "output_type": "stream",
     "text": [
      "/home/herzfeld2/anaconda3/lib/python3.7/site-packages/bs4/__init__.py:335: UserWarning: \"http://www.post-gazette.com/columnists/20020905brian5.asp\n",
      "\n",
      "\n",
      "\n",
      "\" looks like a URL. Beautiful Soup is not an HTTP client. You should probably use an HTTP client like requests to get the document behind the URL, and feed that document to Beautiful Soup.\n",
      "  ' that document to Beautiful Soup.' % decoded_markup\n"
     ]
    }
   ],
   "source": [
    "# PARSING\n",
    "def parse_email(email, strip_header=True, no_case=True, no_punc=True):\n",
    "    for sub_email in email.get_payload():\n",
    "        if type(sub_email) is not str:\n",
    "            return parse_email(sub_email)\n",
    "\n",
    "    if strip_header:\n",
    "        parsed_email = email.get_payload()\n",
    "    else:\n",
    "        parsed_email = email.as_string()\n",
    "    \n",
    "    if no_case:\n",
    "        parsed_email = parsed_email.lower()\n",
    "\n",
    "    if no_punc:\n",
    "        parsed_email, n = re.subn('[\\n.!=\",\\']', ' ', bs(parsed_email).get_text())\n",
    "        \n",
    "        return parsed_email\n",
    "    return bs(parsed_email).get_text()\n",
    "\n",
    "email_parser = np.vectorize(parse_email)\n",
    "parsed = email_parser(dataset[0])"
   ]
  },
  {
   "cell_type": "code",
   "execution_count": 9,
   "metadata": {},
   "outputs": [],
   "source": [
    "# Rebuilding Dataframe\n",
    "final = pd.concat([pd.DataFrame(parsed), dataset[1]], axis=1)"
   ]
  },
  {
   "cell_type": "code",
   "execution_count": 10,
   "metadata": {},
   "outputs": [
    {
     "data": {
      "text/plain": [
       "0       vc computers ltd - ireland  hosting from an ir...\n",
       "1       ###################################    free ad...\n",
       "2           click here now   simply amateur just like ...\n",
       "3         untitled document        click    here to en...\n",
       "4       whiter teeth and a brighter smile are just a c...\n",
       "5         policeauctions com  a:link{font-family:verda...\n",
       "6       your sex drive should never be second on the l...\n",
       "7       below is the result of your feedback form   it...\n",
       "8       milfhunter   < -- hide from old browsers \\tfun...\n",
       "9       removal instructions below   i saw your listin...\n",
       "10        attention u s  homeowners    if you want to ...\n",
       "11      ðïà¡±á worldwide* great restaurants  shopping ...\n",
       "12      hello  my name is kelly  i am an 18 year old s...\n",
       "13      lowest rate services         conferencing made...\n",
       "14      big and big                                   ...\n",
       "15      maximizer select\\t  want to pay less for term ...\n",
       "16      everybody gets paid   no recruiting required  ...\n",
       "17      i am mr ike ejoh  bank manager of diamond bank...\n",
       "18      hi   zzzz@example com   today    ink price    ...\n",
       "19      help wanted   we are a 14 year old fortune 500...\n",
       "20               this week: sydney bares all in the pa...\n",
       "21            does your computer need an oil change   ...\n",
       "22        fist bang fpa                               ...\n",
       "23      protect your financial well-being  purchase an...\n",
       "24      lowest rates available for term life insurance...\n",
       "25      nationwide pc repairs and upgrades  *no call o...\n",
       "26      300 000 homeowners can t be wrong \\t  \\t   age...\n",
       "27      1) fight the risk of cancer  http://www adclic...\n",
       "28      the ultimate way to work from home  the best m...\n",
       "29      central bank of nigeria foreign remittance dep...\n",
       "                              ...                        \n",
       "2521    see my first line: i read the links   brickbat...\n",
       "2522    when a settler goes postal and kills some pale...\n",
       "2523    when brickbats or fox exposes the folly of gov...\n",
       "2524    i call pacbell/sbc every two or three months a...\n",
       "2525    on mon  7 oct 2002 bitbitch@magnesium net wrot...\n",
       "2526    i knew it d be a day for insanity   so anyway ...\n",
       "2527    severity: security product: gaim keywords: gai...\n",
       "2528    dave long wrote:  >> >>     >> >>> the united ...\n",
       "2529    hello tom   monday  october 7  2002  4:45:02 p...\n",
       "2530    they are legally required to do that   i got a...\n",
       "2531    jh> they are legally required to do that   i g...\n",
       "2532    why am i so passionate about decentralization?...\n",
       "2533    spamassassin is hurting democracy  owen ------...\n",
       "2534    >                                 you have mul...\n",
       "2535    forwarded-by: rob windsor  forwarded-by:  shir...\n",
       "2536    on thu  22 aug 2002  joseph s  barrera iii wro...\n",
       "2537    joseph s  barrera iii wrote:  > chris haun wro...\n",
       "2538    has anyone seen/heard of/used some package tha...\n",
       "2539    an apparent quote from dubya  from the times (...\n",
       "2540    on thu  aug 22  2002 at 10:58:34pm +0200  robe...\n",
       "2541    manoj kasichainula wrote; >http://www snopes c...\n",
       "2542    lucas gonze: >spam is *the* tool for dissident...\n",
       "2543    on 23 aug 2002 at 2:57  robert harley wrote:  ...\n",
       "2544    according to my son  it was actually homer sim...\n",
       "2545    whore eructed: >--]it s an amusing anecdote  i...\n",
       "2546    >>>>>  e     eirikur hallgrimsson  writes:    ...\n",
       "2547    on monday  august 26  2002  at 09:59  am  tom ...\n",
       "2548    bitbitch@magnesium net wrote:  > well beberg  ...\n",
       "2549    reza b far (ebuilt) wrote: > problems     why ...\n",
       "2550    on sun  1 sep 2002  reza b far (ebuilt) wrote:...\n",
       "Name: 0, Length: 2551, dtype: object"
      ]
     },
     "execution_count": 10,
     "metadata": {},
     "output_type": "execute_result"
    }
   ],
   "source": [
    "final[0]"
   ]
  },
  {
   "cell_type": "code",
   "execution_count": 11,
   "metadata": {},
   "outputs": [],
   "source": [
    "#ONE-HOT UNIGRAM PARSING\n",
    "enc = OneHotEncoder(handle_unknown='ignore')\n",
    "result = enc.fit_transform(final)\n",
    "\n",
    "# Cast to non-sparse matrix\n",
    "result = result.todense()\n",
    "label_index = result.shape[1]-1"
   ]
  },
  {
   "cell_type": "code",
   "execution_count": 15,
   "metadata": {},
   "outputs": [],
   "source": [
    "# DATA SPLITTING\n",
    "test_ratio = .2\n",
    "train_set, test_set = train_test_split(result, test_size=test_ratio, random_state=42)\n",
    "\n",
    "train_set_features = train_set[:,0:label_index-1]\n",
    "train_set_labels = train_set[:,label_index]\n",
    "\n",
    "test_set_features = test_set[:,0:label_index-1]\n",
    "test_set_labels = test_set[:,label_index]"
   ]
  },
  {
   "cell_type": "code",
   "execution_count": 16,
   "metadata": {},
   "outputs": [
    {
     "name": "stderr",
     "output_type": "stream",
     "text": [
      "/home/herzfeld2/anaconda3/lib/python3.7/site-packages/ipykernel_launcher.py:3: DataConversionWarning: A column-vector y was passed when a 1d array was expected. Please change the shape of y to (n_samples, ), for example using ravel().\n",
      "  This is separate from the ipykernel package so we can avoid doing imports until\n"
     ]
    },
    {
     "data": {
      "text/plain": [
       "KNeighborsClassifier(algorithm='auto', leaf_size=30, metric='minkowski',\n",
       "           metric_params=None, n_jobs=None, n_neighbors=3, p=2,\n",
       "           weights='uniform')"
      ]
     },
     "execution_count": 16,
     "metadata": {},
     "output_type": "execute_result"
    }
   ],
   "source": [
    "# CBR Classifier\n",
    "neigh = KNeighborsClassifier(n_neighbors=3)\n",
    "neigh.fit(train_set_features, train_set_labels)"
   ]
  },
  {
   "cell_type": "code",
   "execution_count": 17,
   "metadata": {},
   "outputs": [
    {
     "name": "stdout",
     "output_type": "stream",
     "text": [
      "0.8082191780821918\n",
      "[[407   0]\n",
      " [ 98   6]]\n"
     ]
    }
   ],
   "source": [
    "print(neigh.score(test_set_features, test_set_labels))\n",
    "predicted = neigh.predict(test_set_features)\n",
    "print(confusion_matrix(test_set_labels, predicted))"
   ]
  },
  {
   "cell_type": "code",
   "execution_count": 18,
   "metadata": {},
   "outputs": [
    {
     "name": "stderr",
     "output_type": "stream",
     "text": [
      "/home/herzfeld2/anaconda3/lib/python3.7/site-packages/sklearn/utils/validation.py:761: DataConversionWarning: A column-vector y was passed when a 1d array was expected. Please change the shape of y to (n_samples, ), for example using ravel().\n",
      "  y = column_or_1d(y, warn=True)\n"
     ]
    },
    {
     "data": {
      "text/plain": [
       "MultinomialNB(alpha=1.0, class_prior=None, fit_prior=True)"
      ]
     },
     "execution_count": 18,
     "metadata": {},
     "output_type": "execute_result"
    }
   ],
   "source": [
    "# Binary NB Classifier\n",
    "clf = MultinomialNB()\n",
    "clf.fit(train_set_features, train_set_labels)"
   ]
  },
  {
   "cell_type": "code",
   "execution_count": 19,
   "metadata": {},
   "outputs": [
    {
     "name": "stdout",
     "output_type": "stream",
     "text": [
      "0.8023483365949119\n",
      "[[407   0]\n",
      " [101   3]]\n"
     ]
    }
   ],
   "source": [
    "print(clf.score(test_set_features, test_set_labels))\n",
    "predicted = clf.predict(test_set_features)\n",
    "print(confusion_matrix(test_set_labels, predicted))"
   ]
  }
 ],
 "metadata": {
  "hide_input": false,
  "kernelspec": {
   "display_name": "Python 3",
   "language": "python",
   "name": "python3"
  },
  "language_info": {
   "codemirror_mode": {
    "name": "ipython",
    "version": 3
   },
   "file_extension": ".py",
   "mimetype": "text/x-python",
   "name": "python",
   "nbconvert_exporter": "python",
   "pygments_lexer": "ipython3",
   "version": "3.8.3"
  }
 },
 "nbformat": 4,
 "nbformat_minor": 2
}
