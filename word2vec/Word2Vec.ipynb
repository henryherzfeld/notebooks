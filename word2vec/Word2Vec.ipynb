{
 "cells": [
  {
   "cell_type": "markdown",
   "metadata": {},
   "source": [
    "### Creating And Visualizing Word Embeddings Using Mary Shelley's Frankenstein, Word2Vec, PyTorch and Tensorboard"
   ]
  },
  {
   "cell_type": "code",
   "execution_count": 1,
   "metadata": {},
   "outputs": [
    {
     "ename": "ModuleNotFoundError",
     "evalue": "No module named 'word2vec'",
     "output_type": "error",
     "traceback": [
      "\u001b[1;31m---------------------------------------------------------------------------\u001b[0m",
      "\u001b[1;31mModuleNotFoundError\u001b[0m                       Traceback (most recent call last)",
      "\u001b[1;32m<ipython-input-1-d47d7459f958>\u001b[0m in \u001b[0;36m<module>\u001b[1;34m\u001b[0m\n\u001b[0;32m      1\u001b[0m \u001b[1;32mimport\u001b[0m \u001b[0mre\u001b[0m\u001b[1;33m\u001b[0m\u001b[1;33m\u001b[0m\u001b[0m\n\u001b[0;32m      2\u001b[0m \u001b[1;32mimport\u001b[0m \u001b[0mnumpy\u001b[0m \u001b[1;32mas\u001b[0m \u001b[0mnp\u001b[0m\u001b[1;33m\u001b[0m\u001b[1;33m\u001b[0m\u001b[0m\n\u001b[1;32m----> 3\u001b[1;33m \u001b[1;32mimport\u001b[0m \u001b[0mword2vec\u001b[0m\u001b[1;33m\u001b[0m\u001b[1;33m\u001b[0m\u001b[0m\n\u001b[0m",
      "\u001b[1;31mModuleNotFoundError\u001b[0m: No module named 'word2vec'"
     ]
    }
   ],
   "source": [
    "import re\n",
    "import numpy as np\n",
    "import word2vec"
   ]
  },
  {
   "cell_type": "code",
   "execution_count": 3,
   "metadata": {},
   "outputs": [],
   "source": [
    "with open('frankenstein.txt') as frank:\n",
    "    txt = frank.read()"
   ]
  },
  {
   "cell_type": "code",
   "execution_count": 4,
   "metadata": {},
   "outputs": [],
   "source": [
    "txt = txt.split()[1:]"
   ]
  },
  {
   "cell_type": "code",
   "execution_count": 5,
   "metadata": {},
   "outputs": [],
   "source": [
    "vocab = []\n",
    "for word in txt:\n",
    "    if word not in vocab:\n",
    "        vocab.append(word)"
   ]
  },
  {
   "cell_type": "code",
   "execution_count": 6,
   "metadata": {},
   "outputs": [],
   "source": [
    "vocab = sorted(vocab)"
   ]
  },
  {
   "cell_type": "code",
   "execution_count": 7,
   "metadata": {},
   "outputs": [],
   "source": [
    "parsed_vocab = []\n",
    "for word in vocab: \n",
    "    parsed_word, n = re.subn('[\\n.\\]!_\\[=\\\",\\')?:(#$-\\;]', '', word)\n",
    "    parsed_vocab.append(parsed_word)"
   ]
  },
  {
   "cell_type": "code",
   "execution_count": 8,
   "metadata": {},
   "outputs": [],
   "source": [
    "word2idx = {word: idx for idx, word in enumerate(parsed_vocab)}"
   ]
  },
  {
   "cell_type": "code",
   "execution_count": 9,
   "metadata": {},
   "outputs": [
    {
     "data": {
      "text/plain": [
       "828"
      ]
     },
     "execution_count": 9,
     "metadata": {},
     "output_type": "execute_result"
    }
   ],
   "source": [
    "word2idx['Oxford']"
   ]
  },
  {
   "cell_type": "code",
   "execution_count": 10,
   "metadata": {},
   "outputs": [],
   "source": [
    "pairs = []\n",
    "txt_len = len(txt)\n",
    "\n",
    "for i in range(txt_len):\n",
    "    word = txt[i]\n",
    "    \n",
    "    if i > 0:\n",
    "        pairs.append((word, txt[i-1]))\n",
    "    elif i > 1:\n",
    "        pairs.append((word, txt[i-2]))\n",
    "    elif i < txt_len-1:\n",
    "        pairs.append((word, txt[i-1]))\n",
    "    elif i < txt_len-2:\n",
    "        pairs.append((word, txt[i-2]))"
   ]
  },
  {
   "cell_type": "code",
   "execution_count": 11,
   "metadata": {},
   "outputs": [],
   "source": [
    "import torch\n",
    "from torch.utils.tensorboard import SummaryWriter\n",
    "from torch.nn.functional import one_hot, cross_entropy\n",
    "import matplotlib.pyplot as plt\n",
    "from random import shuffle"
   ]
  },
  {
   "cell_type": "code",
   "execution_count": 12,
   "metadata": {},
   "outputs": [],
   "source": [
    "vocab_len = len(vocab)\n",
    "embedding_dim = 50"
   ]
  },
  {
   "cell_type": "code",
   "execution_count": 13,
   "metadata": {},
   "outputs": [],
   "source": [
    "device = torch.device(\"cpu\")"
   ]
  },
  {
   "cell_type": "code",
   "execution_count": 16,
   "metadata": {},
   "outputs": [
    {
     "ename": "TypeError",
     "evalue": "randn() received an invalid combination of arguments - got (int, int, required_grad=bool, device=torch.device), but expected one of:\n * (tuple of ints size, torch.Generator generator, Tensor out, torch.dtype dtype, torch.layout layout, torch.device device, bool pin_memory, bool requires_grad)\n * (tuple of ints size, Tensor out, torch.dtype dtype, torch.layout layout, torch.device device, bool pin_memory, bool requires_grad)\n",
     "output_type": "error",
     "traceback": [
      "\u001b[0;31m---------------------------------------------------------------------------\u001b[0m",
      "\u001b[0;31mTypeError\u001b[0m                                 Traceback (most recent call last)",
      "\u001b[0;32m<ipython-input-16-a863bdf18d02>\u001b[0m in \u001b[0;36m<module>\u001b[0;34m\u001b[0m\n\u001b[1;32m      1\u001b[0m \u001b[0;31m# Embedding = torch.randn(vocab_len, embedding_dim, device=device, required_grad=True)\u001b[0m\u001b[0;34m\u001b[0m\u001b[0;34m\u001b[0m\u001b[0;34m\u001b[0m\u001b[0m\n\u001b[0;32m----> 2\u001b[0;31m \u001b[0mPrediction\u001b[0m \u001b[0;34m=\u001b[0m \u001b[0mtorch\u001b[0m\u001b[0;34m.\u001b[0m\u001b[0mrandn\u001b[0m\u001b[0;34m(\u001b[0m\u001b[0membedding_dim\u001b[0m\u001b[0;34m,\u001b[0m \u001b[0mvocab_len\u001b[0m\u001b[0;34m,\u001b[0m \u001b[0mdevice\u001b[0m\u001b[0;34m=\u001b[0m\u001b[0mdevice\u001b[0m\u001b[0;34m,\u001b[0m \u001b[0mrequired_grad\u001b[0m\u001b[0;34m=\u001b[0m\u001b[0;32mTrue\u001b[0m\u001b[0;34m)\u001b[0m\u001b[0;34m\u001b[0m\u001b[0;34m\u001b[0m\u001b[0m\n\u001b[0m",
      "\u001b[0;31mTypeError\u001b[0m: randn() received an invalid combination of arguments - got (int, int, required_grad=bool, device=torch.device), but expected one of:\n * (tuple of ints size, torch.Generator generator, Tensor out, torch.dtype dtype, torch.layout layout, torch.device device, bool pin_memory, bool requires_grad)\n * (tuple of ints size, Tensor out, torch.dtype dtype, torch.layout layout, torch.device device, bool pin_memory, bool requires_grad)\n"
     ]
    }
   ],
   "source": [
    "# Embedding = torch.randn(vocab_len, embedding_dim, device=device, required_grad=True)\n",
    "Prediction = torch.randn(embedding_dim, vocab_len, device=device, required_grad=True)"
   ]
  },
  {
   "cell_type": "code",
   "execution_count": 168,
   "metadata": {},
   "outputs": [],
   "source": [
    "def process_wordpairs(pairs):\n",
    "        return torch.tensor([one_hot(word2idx[word], vocab_len) for word, context in pair] for pair in pairs).to(device), torch.tensor([word2idx[context] for word, context in pair] for pair in pairs).to(device)"
   ]
  },
  {
   "cell_type": "code",
   "execution_count": null,
   "metadata": {},
   "outputs": [],
   "source": [
    "def do_train_iter(batch):\n",
    "    word, contexts = processwordpairs(batch)\n",
    "    \n",
    "    vector = torch.matmul(Embedding, words)\n",
    "    guesses = torch.matmul(Prediction, vectors)\n",
    "    \n",
    "    loss = cross_entropy(guesses, context)\n",
    "    \n",
    "    loss.backwards()\n",
    "    \n",
    "    Embedding_grad = Embedding.grad.item()\n",
    "    Prediction_grad = Prediction.grad.item()\n",
    "    \n",
    "    Embedding -= (Embedding_grad + (Embedding_grad_momentum * momentum_rate if Embedding_grad_momentum is not None else 0)) * learning_rate\n",
    "    Prediction -= (Prediction_grad + (Prediction_grad_momentum * momentum_rate if Prediction_grad_momentum is not None else 0)) * learning_rate \n",
    "    \n",
    "    Embedding_grad_momentum = Embedding_grad\n",
    "    Prediction_grad_momentum = Prediction_grad\n",
    "    \n",
    "    return loss.item()"
   ]
  },
  {
   "cell_type": "code",
   "execution_count": 171,
   "metadata": {},
   "outputs": [],
   "source": [
    "tb = SummaryWriter()"
   ]
  },
  {
   "cell_type": "code",
   "execution_count": 182,
   "metadata": {},
   "outputs": [],
   "source": [
    "def train(pairs, batch_size, epochs=50):\n",
    "    pairs = shuffle(pairs)\n",
    "    batch = []\n",
    "    running_loss = 0\n",
    "    num_batches = len(pairs) // batch_size\n",
    "    \n",
    "    for epoch in range(epochs):\n",
    "        for i in range(0, len(pairs)):\n",
    "            batch.append(pairs[i])\n",
    "            if i+1 % batch_size == 0 or i == len(pairs):\n",
    "                for idx, words in enumerate(batch):\n",
    "                    loss = do_train_iter(words)\n",
    "                    running_loss += loss\n",
    "                    tb.add_scalar(\"Loss\", loss, idx + epoch*num_batches)\n",
    "                print(\"Epoch {}, Loss {}\".format(epoch, running_loss/num_batches))"
   ]
  },
  {
   "cell_type": "code",
   "execution_count": 176,
   "metadata": {},
   "outputs": [],
   "source": [
    "import tensorboard"
   ]
  },
  {
   "cell_type": "code",
   "execution_count": 177,
   "metadata": {},
   "outputs": [],
   "source": [
    "%load_ext tensorboard"
   ]
  },
  {
   "cell_type": "code",
   "execution_count": 178,
   "metadata": {},
   "outputs": [
    {
     "data": {
      "text/plain": [
       "<module 'tensorboard' from '/home/herzfeld2/anaconda3/lib/python3.7/site-packages/tensorboard/__init__.py'>"
      ]
     },
     "execution_count": 178,
     "metadata": {},
     "output_type": "execute_result"
    }
   ],
   "source": []
  }
 ],
 "metadata": {
  "hide_input": false,
  "kernelspec": {
   "display_name": "Python 3",
   "language": "python",
   "name": "python3"
  },
  "language_info": {
   "codemirror_mode": {
    "name": "ipython",
    "version": 3
   },
   "file_extension": ".py",
   "mimetype": "text/x-python",
   "name": "python",
   "nbconvert_exporter": "python",
   "pygments_lexer": "ipython3",
   "version": "3.8.3"
  }
 },
 "nbformat": 4,
 "nbformat_minor": 2
}
