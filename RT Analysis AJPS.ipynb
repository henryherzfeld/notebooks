{
 "cells": [
  {
   "cell_type": "code",
   "execution_count": 1,
   "metadata": {},
   "outputs": [],
   "source": [
    "from AJPS_full import keygen, enc, dec\n",
    "from util import timer, int2string, string2int\n",
    "import matplotlib.pyplot as plt\n",
    "import numpy as np\n",
    "from ecc import E, D\n",
    "%matplotlib inline"
   ]
  },
  {
   "cell_type": "code",
   "execution_count": null,
   "metadata": {},
   "outputs": [],
   "source": [
    "ns = [11213, 19937, 21701, 23209, 44497, 86243, 110503, 132049, 216091, 756839, 859433, 1257787,\n",
    "     1398269, 2976221, 3021377, 6972593, 13446917] \n",
    "#       20996011, 24036583, 25964951, 30402457, 32582657,\n",
    "#      37156667, 43112609, 42643801, 57885161, 74207281, 77232917, 82589933]"
   ]
  },
  {
   "cell_type": "markdown",
   "metadata": {},
   "source": [
    "AJPS FULL without GMPY2"
   ]
  },
  {
   "cell_type": "code",
   "execution_count": null,
   "metadata": {},
   "outputs": [
    {
     "name": "stdout",
     "output_type": "stream",
     "text": [
      "11213 0.1355760097503662\n",
      "19937 0.24099695682525635\n",
      "21701 0.25836169719696045\n",
      "23209 0.27664685249328613\n",
      "44497 0.5208272933959961\n",
      "86243 1.0093162059783936\n",
      "110503 1.2948018312454224\n",
      "132049 1.545017957687378\n",
      "216091 2.5252013206481934\n",
      "756839 8.826522588729858\n",
      "859433 10.193560242652893\n"
     ]
    }
   ],
   "source": [
    "h = 256\n",
    "runs = 2\n",
    "rho = 256\n",
    "\n",
    "acc = np.zeros((len(ns), 3))\n",
    "correctness = np.zeros(len(ns), dtype=bool)\n",
    "\n",
    "m = string2int(\"Robert DeNiro thinks that Trump will go for a third term via a war\")\n",
    "\n",
    "for i, n in enumerate(ns):\n",
    "    \n",
    "    p = 2**n-1\n",
    "\n",
    "    # KEYGEN\n",
    "    params = [n, h]\n",
    "    time, ret = timer(keygen, params, runs)\n",
    "    acc[i][0] = time\n",
    "    pk, sk, _ = ret\n",
    "    \n",
    "    # ENCRYPTION\n",
    "    params = [m, pk, p, n, h]\n",
    "    time, ret = timer(enc, params, runs)\n",
    "    acc[i][1] = time\n",
    "    C = ret\n",
    "    \n",
    "    print(n, time)\n",
    "    \n",
    "    # DECRYPTION\n",
    "    params = [C, sk, p]\n",
    "    time, ret = timer(dec, params, runs)\n",
    "    acc[i][2] = time\n",
    "    m_prime = ret\n",
    "    \n",
    "    # SUCCESS?\n",
    "    correctness[i] = m_prime == m"
   ]
  },
  {
   "cell_type": "code",
   "execution_count": null,
   "metadata": {},
   "outputs": [],
   "source": [
    "plt.figure(figsize=(10,7))\n",
    "ax = plt.subplot(131)\n",
    "ax.set(title=\"keygen\")\n",
    "_ = plt.plot(ns, acc[:, 0])\n",
    "ax = plt.subplot(132, sharey=ax)\n",
    "ax.set(title=\"encryption\")\n",
    "_ = plt.plot(ns, acc[:, 1])\n",
    "ax = plt.subplot(133, sharey=ax)\n",
    "ax.set(title=\"decryption\")\n",
    "_ = plt.plot(ns, acc[:, 2])"
   ]
  },
  {
   "cell_type": "markdown",
   "metadata": {},
   "source": [
    "AJPS bit-by-bit without GMPY2"
   ]
  },
  {
   "cell_type": "code",
   "execution_count": null,
   "metadata": {},
   "outputs": [],
   "source": [
    "from AJPS_basic import keygen, enc, dec"
   ]
  },
  {
   "cell_type": "code",
   "execution_count": null,
   "metadata": {},
   "outputs": [],
   "source": [
    "h = 256\n",
    "runs = 2\n",
    "rho = 256\n",
    "\n",
    "acc = np.zeros((len(ns), 3))\n",
    "correctness = np.zeros(len(ns), dtype=bool)\n",
    "\n",
    "m = 0\n",
    "\n",
    "for i, n in enumerate(ns):\n",
    "    \n",
    "    p = 2**n-1\n",
    "\n",
    "    # KEYGEN\n",
    "    params = [n, h]\n",
    "    time, ret = timer(keygen, params, runs)\n",
    "    acc[i][0] = time\n",
    "    pk, sk = ret\n",
    "    \n",
    "    # ENCRYPTION\n",
    "    params = [m, pk, p, n, h]\n",
    "    time, ret = timer(enc, params, runs)\n",
    "    acc[i][1] = time\n",
    "    C, signed = ret\n",
    "    \n",
    "    print(n, time)\n",
    "    \n",
    "    # DECRYPTION\n",
    "    params = [C, sk, n, h, signed]\n",
    "    time, ret = timer(dec, params, runs)\n",
    "    acc[i][2] = time\n",
    "    m_prime = ret\n",
    "    \n",
    "    # SUCCESS?\n",
    "    correctness[i] = m_prime == m"
   ]
  },
  {
   "cell_type": "code",
   "execution_count": null,
   "metadata": {
    "scrolled": true
   },
   "outputs": [],
   "source": [
    "plt.figure(figsize=(10,7))\n",
    "ax = plt.subplot(131)\n",
    "ax.set(title=\"keygen\")\n",
    "_ = plt.plot(ns, acc[:, 0])\n",
    "ax = plt.subplot(132, sharey=ax)\n",
    "ax.set(title=\"encryption\")\n",
    "_ = plt.plot(ns, acc[:, 1])\n",
    "ax = plt.subplot(133, sharey=ax)\n",
    "ax.set(title=\"decryption\")\n",
    "_ = plt.plot(ns, acc[:, 2])"
   ]
  },
  {
   "cell_type": "markdown",
   "metadata": {},
   "source": [
    "AJPS FULL BPL without GYMP2:"
   ]
  },
  {
   "cell_type": "code",
   "execution_count": null,
   "metadata": {
    "scrolled": true
   },
   "outputs": [],
   "source": [
    "from AJPS_full_bpl import keygen, enc, dec"
   ]
  },
  {
   "cell_type": "code",
   "execution_count": null,
   "metadata": {},
   "outputs": [],
   "source": [
    "h = 256\n",
    "runs = 2\n",
    "rho = 256\n",
    "\n",
    "acc = np.zeros((len(ns), 3))\n",
    "correctness = np.zeros(len(ns), dtype=bool)\n",
    "\n",
    "m = string2int(\"Robert DeNiro thinks that Trump will go for a third term via a war\")\n",
    "\n",
    "for i, n in enumerate(ns):\n",
    "    \n",
    "    p = 2**n-1\n",
    "\n",
    "    # KEYGEN\n",
    "    params = [n, h, p, False]\n",
    "    time, ret = timer(keygen, params, runs)\n",
    "    acc[i][0] = time\n",
    "    pk, sk, _ = ret\n",
    "    \n",
    "    # ENCRYPTION\n",
    "    params = [m, pk, p, n, h, rho]\n",
    "    time, ret = timer(enc, params, runs)\n",
    "    acc[i][1] = time\n",
    "    C = ret\n",
    "    \n",
    "    print(n, time)\n",
    "    \n",
    "    # DECRYPTION\n",
    "    params = [C, sk, p, rho]\n",
    "    time, ret = timer(dec, params, runs)\n",
    "    acc[i][2] = time\n",
    "    m_prime = ret\n",
    "    \n",
    "    # SUCCESS?\n",
    "    correctness[i] = m_prime == m"
   ]
  },
  {
   "cell_type": "code",
   "execution_count": null,
   "metadata": {},
   "outputs": [],
   "source": [
    "plt.figure(figsize=(10,7))\n",
    "ax = plt.subplot(131)\n",
    "ax.set(title=\"keygen\")\n",
    "_ = plt.plot(ns, acc[:, 0])\n",
    "ax = plt.subplot(132, sharey=ax)\n",
    "ax.set(title=\"encryption\")\n",
    "_ = plt.plot(ns, acc[:, 1])\n",
    "ax = plt.subplot(133, sharey=ax)\n",
    "ax.set(title=\"decryption\")\n",
    "_ = plt.plot(ns, acc[:, 2])"
   ]
  },
  {
   "cell_type": "markdown",
   "metadata": {},
   "source": [
    "AJPS FULL with GMPY2"
   ]
  },
  {
   "cell_type": "code",
   "execution_count": null,
   "metadata": {},
   "outputs": [],
   "source": [
    "from gmpy2 import mpz\n",
    "from AJPS_full import keygen, enc, dec"
   ]
  },
  {
   "cell_type": "code",
   "execution_count": null,
   "metadata": {},
   "outputs": [],
   "source": [
    "h = mpz(256)\n",
    "runs = 2\n",
    "rho = 256\n",
    "\n",
    "\n",
    "acc = np.zeros((len(ns), 3))\n",
    "correctness = np.zeros(len(ns), dtype=bool)\n",
    "\n",
    "m = string2int(\"Robert DeNiro thinks that Trump will go for a third term via a war\")\n",
    "\n",
    "for i, n in enumerate(ns):\n",
    "    \n",
    "    n = mpz(n)\n",
    "    p = mpz(2**n-1)\n",
    "\n",
    "    # KEYGEN\n",
    "    params = [n, h]\n",
    "    time, ret = timer(keygen, params, runs)\n",
    "    acc[i][0] = time\n",
    "    pk, sk, _ = ret\n",
    "    \n",
    "    # ENCRYPTION\n",
    "    params = [m, pk, p, n, h]\n",
    "    time, ret = timer(enc, params, runs)\n",
    "    acc[i][1] = time\n",
    "    C = ret\n",
    "    \n",
    "    print(n, time)\n",
    "    \n",
    "    # DECRYPTION\n",
    "    params = [C, sk, p]\n",
    "    time, ret = timer(dec, params, runs)\n",
    "    acc[i][2] = time\n",
    "    m_prime = ret\n",
    "    \n",
    "    # SUCCESS?\n",
    "    correctness[i] = m_prime == m"
   ]
  },
  {
   "cell_type": "code",
   "execution_count": null,
   "metadata": {},
   "outputs": [],
   "source": [
    "plt.figure(figsize=(10,7))\n",
    "ax = plt.subplot(131)\n",
    "ax.set(title=\"keygen\")\n",
    "_ = plt.plot(ns, acc[:, 0])\n",
    "ax = plt.subplot(132, sharey=ax)\n",
    "ax.set(title=\"encryption\")\n",
    "_ = plt.plot(ns, acc[:, 1])\n",
    "ax = plt.subplot(133, sharey=ax)\n",
    "ax.set(title=\"decryption\")\n",
    "_ = plt.plot(ns, acc[:, 2])"
   ]
  },
  {
   "cell_type": "markdown",
   "metadata": {},
   "source": [
    "AJPS basic with GMPY2"
   ]
  },
  {
   "cell_type": "code",
   "execution_count": null,
   "metadata": {},
   "outputs": [],
   "source": [
    "from AJPS_basic import keygen, enc, dec"
   ]
  },
  {
   "cell_type": "code",
   "execution_count": null,
   "metadata": {},
   "outputs": [],
   "source": [
    "h = mpz(256)\n",
    "runs = 2\n",
    "rho = 256\n",
    "\n",
    "acc = np.zeros((len(ns), 3))\n",
    "correctness = np.zeros(len(ns), dtype=bool)\n",
    "\n",
    "m = 0\n",
    "\n",
    "for i, n in enumerate(ns):\n",
    "    \n",
    "    n = mpz(n)\n",
    "    p = mpz(2**n-1)\n",
    "\n",
    "    # KEYGEN\n",
    "    params = [n, h]\n",
    "    time, ret = timer(keygen, params, runs)\n",
    "    acc[i][0] = time\n",
    "    pk, sk = ret\n",
    "    \n",
    "    # ENCRYPTION\n",
    "    params = [m, pk, p, n, h]\n",
    "    time, ret = timer(enc, params, runs)\n",
    "    acc[i][1] = time\n",
    "    C, signed = ret\n",
    "    \n",
    "    print(n, time)\n",
    "    \n",
    "    # DECRYPTION\n",
    "    params = [C, sk, n, h, signed]\n",
    "    time, ret = timer(dec, params, runs)\n",
    "    acc[i][2] = time\n",
    "    m_prime = ret\n",
    "    \n",
    "    # SUCCESS?\n",
    "    correctness[i] = m_prime == m"
   ]
  },
  {
   "cell_type": "code",
   "execution_count": null,
   "metadata": {},
   "outputs": [],
   "source": [
    "plt.figure(figsize=(10,7))\n",
    "ax = plt.subplot(131)\n",
    "ax.set(title=\"keygen\")\n",
    "_ = plt.plot(ns, acc[:, 0])\n",
    "ax = plt.subplot(132, sharey=ax)\n",
    "ax.set(title=\"encryption\")\n",
    "_ = plt.plot(ns, acc[:, 1])\n",
    "ax = plt.subplot(133, sharey=ax)\n",
    "ax.set(title=\"decryption\")\n",
    "_ = plt.plot(ns, acc[:, 2])"
   ]
  },
  {
   "cell_type": "markdown",
   "metadata": {},
   "source": [
    "AJPS FULL BPL with GMPY2"
   ]
  },
  {
   "cell_type": "code",
   "execution_count": null,
   "metadata": {},
   "outputs": [],
   "source": [
    "from AJPS_full_bpl import keygen, enc, dec"
   ]
  },
  {
   "cell_type": "code",
   "execution_count": null,
   "metadata": {},
   "outputs": [],
   "source": [
    "h = mpz(256)\n",
    "runs = 2\n",
    "rho = 256\n",
    "\n",
    "acc = np.zeros((len(ns), 3))\n",
    "correctness = np.zeros(len(ns), dtype=bool)\n",
    "\n",
    "m = string2int(\"Robert DeNiro thinks that Trump will go for a third term via a war\")\n",
    "\n",
    "for i, n in enumerate(ns):\n",
    "    \n",
    "    n = mpz(n)\n",
    "    p = mpz(2**n-1)\n",
    "\n",
    "    # KEYGEN\n",
    "    params = [n, h, p, True]\n",
    "    time, ret = timer(keygen, params, runs)\n",
    "    acc[i][0] = time\n",
    "    pk, sk, _ = ret\n",
    "    \n",
    "    # ENCRYPTION\n",
    "    params = [m, pk, p, n, h, rho]\n",
    "    time, ret = timer(enc, params, runs)\n",
    "    acc[i][1] = time\n",
    "    C = ret\n",
    "    \n",
    "    print(n, time)\n",
    "    \n",
    "    # DECRYPTION\n",
    "    params = [C, sk, p, rho]\n",
    "    time, ret = timer(dec, params, runs)\n",
    "    acc[i][2] = time\n",
    "    m_prime = ret\n",
    "    \n",
    "    # SUCCESS?\n",
    "    correctness[i] = m_prime == m"
   ]
  },
  {
   "cell_type": "code",
   "execution_count": null,
   "metadata": {},
   "outputs": [],
   "source": [
    "plt.figure(figsize=(10,7))\n",
    "ax = plt.subplot(131)\n",
    "ax.set(title=\"keygen\")\n",
    "_ = plt.plot(ns, acc[:, 0])\n",
    "ax = plt.subplot(132, sharey=ax)\n",
    "ax.set(title=\"encryption\")\n",
    "_ = plt.plot(ns, acc[:, 1])\n",
    "ax = plt.subplot(133, sharey=ax)\n",
    "ax.set(title=\"decryption\")\n",
    "_ = plt.plot(ns, acc[:, 2])"
   ]
  },
  {
   "cell_type": "code",
   "execution_count": null,
   "metadata": {},
   "outputs": [],
   "source": []
  },
  {
   "cell_type": "code",
   "execution_count": null,
   "metadata": {},
   "outputs": [],
   "source": []
  },
  {
   "cell_type": "code",
   "execution_count": null,
   "metadata": {},
   "outputs": [],
   "source": []
  },
  {
   "cell_type": "code",
   "execution_count": null,
   "metadata": {},
   "outputs": [],
   "source": []
  },
  {
   "cell_type": "code",
   "execution_count": null,
   "metadata": {},
   "outputs": [],
   "source": []
  },
  {
   "cell_type": "code",
   "execution_count": null,
   "metadata": {},
   "outputs": [],
   "source": []
  }
 ],
 "metadata": {
  "kernelspec": {
   "display_name": "Python 3",
   "language": "python",
   "name": "python3"
  },
  "language_info": {
   "codemirror_mode": {
    "name": "ipython",
    "version": 3
   },
   "file_extension": ".py",
   "mimetype": "text/x-python",
   "name": "python",
   "nbconvert_exporter": "python",
   "pygments_lexer": "ipython3",
   "version": "3.5.2"
  }
 },
 "nbformat": 4,
 "nbformat_minor": 2
}
